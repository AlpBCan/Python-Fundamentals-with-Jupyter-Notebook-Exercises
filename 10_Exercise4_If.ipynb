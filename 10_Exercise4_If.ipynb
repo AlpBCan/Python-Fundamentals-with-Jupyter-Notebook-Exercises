{
 "cells": [
  {
   "cell_type": "markdown",
   "id": "f0f9dbfe-90ed-4ad0-afe6-374b266a0de1",
   "metadata": {},
   "source": [
    "# EXERCISE 4: IF"
   ]
  },
  {
   "cell_type": "markdown",
   "id": "e959b14f-b93f-47fc-a77d-e2ff7ae3b097",
   "metadata": {},
   "source": [
    "### Take your age and assign it to a variable. Check only if it is greater than 25. Put a print statement to show the result."
   ]
  },
  {
   "cell_type": "code",
   "execution_count": null,
   "id": "8a10f369-43e1-4a47-bf0a-f48b9e0250e0",
   "metadata": {},
   "outputs": [],
   "source": [
    "my_age = 30\n",
    "\n",
    "if my_age > 25:\n",
    "    print('I am older than 25')"
   ]
  },
  {
   "cell_type": "markdown",
   "id": "7493be09-d592-40fa-848f-a5e1aeb75d3c",
   "metadata": {},
   "source": [
    "### Also check if it is equal to 25."
   ]
  },
  {
   "cell_type": "code",
   "execution_count": null,
   "id": "4a8c30b8-12bb-4b0c-90aa-3e8c2d968862",
   "metadata": {},
   "outputs": [],
   "source": [
    "if my_age > 25:\n",
    "    print('I am older than 25')\n",
    "elif my_age == 25:\n",
    "    print('I am 25 years old')"
   ]
  },
  {
   "cell_type": "markdown",
   "id": "4b008fd0-2e4d-4f3b-b700-edbb45d0d71e",
   "metadata": {},
   "source": [
    "### Add else to print something if you are younger than 25 years old."
   ]
  },
  {
   "cell_type": "code",
   "execution_count": null,
   "id": "bfc210e0-0632-4ef5-9c6d-afb995a502d2",
   "metadata": {},
   "outputs": [],
   "source": [
    "if my_age > 25:\n",
    "    print('I am older than 25')\n",
    "elif my_age == 25:\n",
    "    print('I am 25 years old')\n",
    "else:\n",
    "    print('I am younger than 25')"
   ]
  },
  {
   "cell_type": "markdown",
   "id": "db8a18ac-1b9f-4f3c-9a74-834b99093afc",
   "metadata": {},
   "source": [
    "### Check if your age is in the inclusive interval of 20 and 30 and also if it is not in this interval."
   ]
  },
  {
   "cell_type": "code",
   "execution_count": null,
   "id": "03a1da3e-7a15-446e-a783-58f3c946d575",
   "metadata": {},
   "outputs": [],
   "source": [
    "if my_age >= 20 and my_age <= 30:\n",
    "    print('between')\n",
    "else:\n",
    "    print('not between')"
   ]
  },
  {
   "cell_type": "markdown",
   "id": "fbfdfc3a-e6e0-45b9-bda4-f728dc37c55a",
   "metadata": {},
   "source": [
    "### With 'elif', add one more check for being smaller than 20 and leave larger than 30 to 'else'."
   ]
  },
  {
   "cell_type": "code",
   "execution_count": null,
   "id": "25024bdf-b501-459c-b095-8d36328a9749",
   "metadata": {},
   "outputs": [],
   "source": [
    "my_age = 1\n",
    "if my_age >= 20 and my_age <= 30:\n",
    "    print('between')\n",
    "elif my_age < 20:\n",
    "    print('smaller than 20')\n",
    "else:\n",
    "    print('larger than 30')"
   ]
  },
  {
   "cell_type": "markdown",
   "id": "b11b5417-38ab-4fc4-af5c-3fff6b72381d",
   "metadata": {},
   "source": [
    "### In all conditions, check if your age is even or odd."
   ]
  },
  {
   "cell_type": "code",
   "execution_count": null,
   "id": "b16c5272-1e15-4343-927e-32b74244fc9e",
   "metadata": {},
   "outputs": [],
   "source": [
    "my_age = 24\n",
    "if my_age >= 20 and my_age <= 30:\n",
    "    print('between')\n",
    "    if my_age % 2 == 0:\n",
    "        print('even')\n",
    "    else:\n",
    "        print('odd')\n",
    "elif my_age < 20:\n",
    "    print('smaller than 20')\n",
    "    if my_age % 2 == 0:\n",
    "        print('even')\n",
    "    else:\n",
    "        print('odd')\n",
    "else:\n",
    "    print('larger than 30')\n",
    "    if my_age % 2 == 0:\n",
    "        print('even')\n",
    "    else:\n",
    "        print('odd')"
   ]
  },
  {
   "cell_type": "markdown",
   "id": "b02d1446-3980-47af-a6ee-95305196a838",
   "metadata": {},
   "source": [
    "### Write an if statement to print the integers from 1 to 5 in letters. If the number is not in this range, print 'I don't know'"
   ]
  },
  {
   "cell_type": "code",
   "execution_count": null,
   "id": "76b1d77e-e595-410e-8b66-5ae4553105ae",
   "metadata": {},
   "outputs": [],
   "source": [
    "number = 5\n",
    "\n",
    "if number == 1:\n",
    "    print('one')\n",
    "elif number == 2:\n",
    "    print('two')\n",
    "elif number == 3:\n",
    "    print('three')\n",
    "elif number == 4:\n",
    "    print('four')\n",
    "elif number == 5:\n",
    "    print('five')\n",
    "else:\n",
    "    print('I don\\'t know')"
   ]
  },
  {
   "cell_type": "markdown",
   "id": "5414c418-6dc8-44b8-bca0-81c0b5ac9368",
   "metadata": {},
   "source": [
    "### Define three variables as a, b, c and assign integers to them. Write an if statement that determines the type of a triangle according to those three side lengths(a, b, c). At first you need to check if the lenghts are positive numbers.\n",
    "    all lengths are equal --> Equilateral Triangle\n",
    "    just two are equal    --> Isosceles Triangle\n",
    "    all different         --> Scalene Triangle"
   ]
  },
  {
   "cell_type": "code",
   "execution_count": null,
   "id": "6da635ba-6168-46d9-b6d4-6b01ef668271",
   "metadata": {},
   "outputs": [],
   "source": [
    "a = 5 \n",
    "b = 4 \n",
    "c = 4\n",
    "\n",
    "if a <= 0 or b <= 0 or c <= 0:\n",
    "    print('Negative side length')\n",
    "elif a == b == c:\n",
    "    print('Equilateral Triangle')\n",
    "elif a == b or b == c or a == c:\n",
    "    print('Isosceles Triangle')\n",
    "else:\n",
    "    print('Scalene Triangle')"
   ]
  },
  {
   "cell_type": "markdown",
   "id": "d9a62cf1-6f83-434a-bbed-a3aa9e7f883b",
   "metadata": {},
   "source": [
    "### Define 3 variables: num1, num2, operator. Assign '-' or '+' as string to operator variable. Write an if statement that checks if the operator is plus or minus and print result of num1+num2 or num1-num2. Print num2nd power of num1 if the operator is not + or -."
   ]
  },
  {
   "cell_type": "code",
   "execution_count": null,
   "id": "9d0e8cc7-2dfb-482f-9f0e-ec474261937e",
   "metadata": {},
   "outputs": [],
   "source": [
    "num1 = 20\n",
    "num2 = 15\n",
    "operator = 'hello'\n",
    "\n",
    "if operator == '+':\n",
    "    print(num1 + num2)\n",
    "elif operator == '-':\n",
    "    print(num1 - num2)\n",
    "else:\n",
    "    print(num1**num2)"
   ]
  }
 ],
 "metadata": {
  "kernelspec": {
   "display_name": "Python 3 (ipykernel)",
   "language": "python",
   "name": "python3"
  },
  "language_info": {
   "codemirror_mode": {
    "name": "ipython",
    "version": 3
   },
   "file_extension": ".py",
   "mimetype": "text/x-python",
   "name": "python",
   "nbconvert_exporter": "python",
   "pygments_lexer": "ipython3",
   "version": "3.12.4"
  }
 },
 "nbformat": 4,
 "nbformat_minor": 5
}
