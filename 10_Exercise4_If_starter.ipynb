{
 "cells": [
  {
   "cell_type": "markdown",
   "id": "4057168b-6b50-4eba-9739-5f91fb5295f1",
   "metadata": {},
   "source": [
    "# EXERCISE 4: IF"
   ]
  },
  {
   "cell_type": "markdown",
   "id": "e959b14f-b93f-47fc-a77d-e2ff7ae3b097",
   "metadata": {},
   "source": [
    "### Take your age and assign it to a variable. Check only if it is greater than 25. Put a print statement to show the result."
   ]
  },
  {
   "cell_type": "code",
   "execution_count": null,
   "id": "091e6a55-788b-4857-b679-e614a980f43c",
   "metadata": {},
   "outputs": [],
   "source": []
  },
  {
   "cell_type": "markdown",
   "id": "7493be09-d592-40fa-848f-a5e1aeb75d3c",
   "metadata": {},
   "source": [
    "### Also check if it is equal to 25."
   ]
  },
  {
   "cell_type": "code",
   "execution_count": null,
   "id": "9b9492a7-1987-4b28-8e5d-80a243dcbe5b",
   "metadata": {},
   "outputs": [],
   "source": []
  },
  {
   "cell_type": "markdown",
   "id": "4b008fd0-2e4d-4f3b-b700-edbb45d0d71e",
   "metadata": {},
   "source": [
    "### Add else to print something if you are younger than 25 years old."
   ]
  },
  {
   "cell_type": "code",
   "execution_count": null,
   "id": "59f26d29-fe92-44ea-b507-8c50462d105d",
   "metadata": {},
   "outputs": [],
   "source": []
  },
  {
   "cell_type": "markdown",
   "id": "db8a18ac-1b9f-4f3c-9a74-834b99093afc",
   "metadata": {},
   "source": [
    "### Check if your age is in the inclusive interval of 20 and 30 and also if it is not in this interval."
   ]
  },
  {
   "cell_type": "code",
   "execution_count": null,
   "id": "b161793d-551a-4928-afce-ac09ea647d79",
   "metadata": {},
   "outputs": [],
   "source": []
  },
  {
   "cell_type": "markdown",
   "id": "fbfdfc3a-e6e0-45b9-bda4-f728dc37c55a",
   "metadata": {},
   "source": [
    "### With 'elif', add one more check for being smaller than 20 and leave larger than 30 to 'else'."
   ]
  },
  {
   "cell_type": "code",
   "execution_count": null,
   "id": "ed3c13ae-2f87-485e-a315-f28f182e74b5",
   "metadata": {},
   "outputs": [],
   "source": []
  },
  {
   "cell_type": "markdown",
   "id": "b11b5417-38ab-4fc4-af5c-3fff6b72381d",
   "metadata": {},
   "source": [
    "### In all conditions, check if your age is even or odd."
   ]
  },
  {
   "cell_type": "code",
   "execution_count": null,
   "id": "dd576794-5967-4274-8073-f9b5e35db495",
   "metadata": {},
   "outputs": [],
   "source": []
  },
  {
   "cell_type": "markdown",
   "id": "b02d1446-3980-47af-a6ee-95305196a838",
   "metadata": {},
   "source": [
    "### Write an if statement to print the integers from 1 to 5 in letters. If the number is not in this range, print 'I don't know'"
   ]
  },
  {
   "cell_type": "code",
   "execution_count": null,
   "id": "d3264c6f-9aa5-4b74-95c0-d815ca74b5c2",
   "metadata": {},
   "outputs": [],
   "source": []
  },
  {
   "cell_type": "markdown",
   "id": "5414c418-6dc8-44b8-bca0-81c0b5ac9368",
   "metadata": {},
   "source": [
    "### Define three variables as a, b, c and assign integers to them. Write an if statement that determines the type of a triangle according to those three side lengths(a, b, c). At first you need to check if the lenghts are positive numbers.\n",
    "    all lengths are equal --> Equilateral Triangle\n",
    "    just two are equal    --> Isosceles Triangle\n",
    "    all different         --> Scalene Triangle"
   ]
  },
  {
   "cell_type": "code",
   "execution_count": null,
   "id": "b6c9e32a-8df1-4058-97a2-5abaebf0543a",
   "metadata": {},
   "outputs": [],
   "source": []
  },
  {
   "cell_type": "markdown",
   "id": "d9a62cf1-6f83-434a-bbed-a3aa9e7f883b",
   "metadata": {},
   "source": [
    "### Define 3 variables: num1, num2, operator. Assign '-' or '+' as string to operator variable. Write an if statement that checks if the operator is plus or minus and print result of num1+num2 or num1-num2. Print num2nd power of num1 if the operator is not + or -."
   ]
  },
  {
   "cell_type": "code",
   "execution_count": null,
   "id": "0b80e7cf-29ff-47c0-a9db-1a7c45e0b940",
   "metadata": {},
   "outputs": [],
   "source": []
  }
 ],
 "metadata": {
  "kernelspec": {
   "display_name": "Python 3 (ipykernel)",
   "language": "python",
   "name": "python3"
  },
  "language_info": {
   "codemirror_mode": {
    "name": "ipython",
    "version": 3
   },
   "file_extension": ".py",
   "mimetype": "text/x-python",
   "name": "python",
   "nbconvert_exporter": "python",
   "pygments_lexer": "ipython3",
   "version": "3.12.4"
  }
 },
 "nbformat": 4,
 "nbformat_minor": 5
}
