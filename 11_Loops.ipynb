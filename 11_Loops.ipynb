{
 "cells": [
  {
   "cell_type": "markdown",
   "id": "c635c261-ca09-46c8-92cf-b435889d5327",
   "metadata": {},
   "source": [
    "# LOOPS"
   ]
  },
  {
   "cell_type": "markdown",
   "id": "41f87911-1611-485b-bcb4-6f21e6418b54",
   "metadata": {},
   "source": [
    "## FOR"
   ]
  },
  {
   "cell_type": "markdown",
   "id": "4820c688-5ba2-4d11-85af-9e35304ee456",
   "metadata": {},
   "source": [
    "### Loop through a list"
   ]
  },
  {
   "cell_type": "code",
   "execution_count": null,
   "id": "0b5ad197-a27b-46e0-9bcd-b1f3c451a5f2",
   "metadata": {},
   "outputs": [],
   "source": [
    "numbers = [1, 2, 3, 4, 5]\n",
    "\n",
    "for number in numbers:\n",
    "    print(number)"
   ]
  },
  {
   "cell_type": "code",
   "execution_count": null,
   "id": "590aef12-0996-4e0b-8dca-2dd637ad2c6b",
   "metadata": {},
   "outputs": [],
   "source": [
    "fruits = ['apple', 'orange', 'banana', 'melon', 'pineapple']\n",
    "\n",
    "for item in fruits:\n",
    "    print(item)"
   ]
  },
  {
   "cell_type": "code",
   "execution_count": null,
   "id": "f2e3014c-605c-4b4f-af45-29ff2cc537c2",
   "metadata": {},
   "outputs": [],
   "source": [
    "numbers = [1, 2, 3, 4, 5]\n",
    "\n",
    "for number in numbers:\n",
    "    print(number * number)"
   ]
  },
  {
   "cell_type": "markdown",
   "id": "cf4d6860-01d7-4f3d-966c-569e86de5ada",
   "metadata": {},
   "source": [
    "### Loop through a string"
   ]
  },
  {
   "cell_type": "code",
   "execution_count": null,
   "id": "db6e3951-ce1a-47f9-a63f-9c64ca54a710",
   "metadata": {},
   "outputs": [],
   "source": [
    "text = 'Hello, World'\n",
    "\n",
    "for char in text:\n",
    "    print(char)"
   ]
  },
  {
   "cell_type": "markdown",
   "id": "5486bcf0-1f8a-473a-9480-2412fb8d01cd",
   "metadata": {},
   "source": [
    "### Loop through range"
   ]
  },
  {
   "cell_type": "code",
   "execution_count": null,
   "id": "78419820-d34b-47af-bb6f-6ab1670b018e",
   "metadata": {},
   "outputs": [],
   "source": [
    "for i in range(5):\n",
    "    print(i)"
   ]
  },
  {
   "cell_type": "code",
   "execution_count": null,
   "id": "5704d9c7-69a3-442b-8b56-0a3b1a9b4258",
   "metadata": {},
   "outputs": [],
   "source": [
    "for i in range(5):\n",
    "    print(2 * i)"
   ]
  },
  {
   "cell_type": "markdown",
   "id": "9c3b6238-993e-4632-ab20-9c2dc71574ec",
   "metadata": {},
   "source": [
    "### Nested loops"
   ]
  },
  {
   "cell_type": "code",
   "execution_count": null,
   "id": "006d137f-5663-4d7e-802c-f8bbe34d696f",
   "metadata": {},
   "outputs": [],
   "source": [
    "for outer in range(3):\n",
    "    for inner in range(3):\n",
    "        print(f'outer = {outer}    inner = {inner}')"
   ]
  },
  {
   "cell_type": "code",
   "execution_count": null,
   "id": "ece80ae2-9539-4cad-b9c5-b5dd82b5156b",
   "metadata": {},
   "outputs": [],
   "source": [
    "for page in range(1, 6):\n",
    "    for item in range(1, 11):\n",
    "        print(f'page: {page}  item: {item}')\n",
    "    "
   ]
  },
  {
   "cell_type": "markdown",
   "id": "eba301ac-383b-4817-92c2-7f761614e31e",
   "metadata": {},
   "source": [
    "### ELSE\n",
    "Executed when the loop completed normally."
   ]
  },
  {
   "cell_type": "code",
   "execution_count": null,
   "id": "f74291dc-0a8a-4c98-9ce6-ecdc1a53786a",
   "metadata": {},
   "outputs": [],
   "source": [
    "fruits = ['apple', 'banana', 'orange', 'pineapple']\n",
    "\n",
    "for fruit in fruits:\n",
    "    print(fruit)\n",
    "else:\n",
    "    print('**I am out of fruits**')"
   ]
  },
  {
   "cell_type": "markdown",
   "id": "e37c0489-9e01-4c01-9149-8cfadad23eea",
   "metadata": {},
   "source": [
    "### BREAK\n",
    "Exits the loop. Mostly used with if statement."
   ]
  },
  {
   "cell_type": "code",
   "execution_count": null,
   "id": "fc0728f4-cd72-47ac-a192-088529603194",
   "metadata": {},
   "outputs": [],
   "source": [
    "for i in range(10):\n",
    "    if i == 7:\n",
    "        print('Got into if statement. Breaking...')\n",
    "        break\n",
    "    print(i)"
   ]
  },
  {
   "cell_type": "markdown",
   "id": "7ae2b082-b5b7-4937-b6f1-1bbcd44a9a42",
   "metadata": {},
   "source": [
    "### CONTINUE\n",
    "Skips current iteration and moves to next."
   ]
  },
  {
   "cell_type": "code",
   "execution_count": null,
   "id": "b1c48e61-aa03-442b-9482-c5d32e1972a2",
   "metadata": {},
   "outputs": [],
   "source": [
    "for i in range(10):\n",
    "    if i == 2 or i == 7:\n",
    "        print('Got into if statement. Skipping this step...')\n",
    "        continue\n",
    "    print(i)"
   ]
  },
  {
   "cell_type": "code",
   "execution_count": null,
   "id": "ef646deb-c72f-409d-8c99-0a4e017f8e0a",
   "metadata": {},
   "outputs": [],
   "source": [
    "numbers = [1, 2, 3, 4, 5, 6, 7, 8, 9, 10]\n",
    "\n",
    "for number in numbers:\n",
    "    if number % 2 == 0:\n",
    "        print('even number. skipping...')\n",
    "        continue\n",
    "    print(number)"
   ]
  },
  {
   "cell_type": "markdown",
   "id": "73d8b8c0-2b5f-4bd7-81de-108255ca3808",
   "metadata": {},
   "source": [
    "### ENUMERATE\n",
    "Allows you to loop over a sequence and have an automatic counter."
   ]
  },
  {
   "cell_type": "code",
   "execution_count": null,
   "id": "a0a5da94-238b-46ae-9b03-9087c6b041e0",
   "metadata": {},
   "outputs": [],
   "source": [
    "fruits = ['apple', 'banana', 'orange', 'pineapple']\n",
    "\n",
    "i = 0\n",
    "for fruit in fruits:\n",
    "    print(f'index = {i}, fruit = {fruit}')\n",
    "    i += 1"
   ]
  },
  {
   "cell_type": "code",
   "execution_count": null,
   "id": "3a5e9bde-c430-4398-bb34-21f792e4e4bb",
   "metadata": {},
   "outputs": [],
   "source": [
    "fruits = ['apple', 'banana', 'orange', 'pineapple']\n",
    "\n",
    "for i, fruit in enumerate(fruits):\n",
    "    print(f'index = {i}, fruit = {fruit}')"
   ]
  },
  {
   "cell_type": "markdown",
   "id": "f7efc220-0eeb-4cf6-beb5-fbd6c6b25c03",
   "metadata": {},
   "source": [
    "### ZIP\n",
    "Allows you to loop over multiple sequences at the same time."
   ]
  },
  {
   "cell_type": "code",
   "execution_count": null,
   "id": "5db711b2-aacf-43e8-a8e2-349ef753d862",
   "metadata": {},
   "outputs": [],
   "source": [
    "names = ['John', 'Elvis', 'Michael']\n",
    "points = [78, 66, 90]\n",
    "\n",
    "for name, point in zip(names, points):\n",
    "    print(f'{name} has {point} points')"
   ]
  },
  {
   "cell_type": "code",
   "execution_count": null,
   "id": "f85cdcda-c2c8-43b0-a5d9-ee7552b17fc4",
   "metadata": {},
   "outputs": [],
   "source": [
    "names = ['John', 'Elvis', 'Michael']\n",
    "points = [78, 60]\n",
    "\n",
    "for name, point in zip(names, points):\n",
    "    print(f'{name} has {point} points')"
   ]
  },
  {
   "cell_type": "markdown",
   "id": "bfa5cc35-955d-475f-916d-6a609a7164ab",
   "metadata": {},
   "source": [
    "## WHILE"
   ]
  },
  {
   "cell_type": "code",
   "execution_count": null,
   "id": "82644b2f-f59e-4b11-92ac-a279ef4f016c",
   "metadata": {},
   "outputs": [],
   "source": [
    "i = 1\n",
    "while i <= 5:\n",
    "    print(i)\n",
    "    i += 1"
   ]
  },
  {
   "cell_type": "code",
   "execution_count": null,
   "id": "5ad2ce70-8dfe-4762-9432-7df60eafd361",
   "metadata": {},
   "outputs": [],
   "source": [
    "i = 10\n",
    "while i != 0:\n",
    "    print(i)\n",
    "    i -= 1"
   ]
  },
  {
   "cell_type": "code",
   "execution_count": null,
   "id": "d95809f6-6cdb-45f1-913e-0b4252b43bb0",
   "metadata": {},
   "outputs": [],
   "source": [
    "my_data = ['fine', 'fine', 'fine', 'fine', 'corrupted', 'fine']\n",
    "\n",
    "index = 0\n",
    "while my_data[index] != 'corrupted':\n",
    "    print(my_data[index])\n",
    "    index += 1\n"
   ]
  },
  {
   "cell_type": "markdown",
   "id": "e8911871-cf2a-48b9-b386-28421b9d192b",
   "metadata": {},
   "source": [
    "### WHILE TRUE"
   ]
  },
  {
   "cell_type": "code",
   "execution_count": null,
   "id": "3371e8b6-b57a-4d98-a6a2-ce34a6a58b2f",
   "metadata": {},
   "outputs": [],
   "source": [
    "while True:\n",
    "    command = input('Enter a command: ')\n",
    "    if command == 'quit':\n",
    "        break\n",
    "    print('Going next')"
   ]
  },
  {
   "cell_type": "code",
   "execution_count": null,
   "id": "a448ae5f-6f35-45a1-aea0-fd328cb1884c",
   "metadata": {},
   "outputs": [],
   "source": [
    "numbers = [-4, -3, -2, -1, 0, 1, 2]\n",
    "\n",
    "i = 0\n",
    "while True:\n",
    "    try:\n",
    "        x = 10 / numbers[i]\n",
    "        print(x)\n",
    "    except:\n",
    "        print('Error. Breaking from loop.')\n",
    "        break\n",
    "    i += 1\n",
    "    "
   ]
  },
  {
   "cell_type": "code",
   "execution_count": null,
   "id": "29922c5a-9363-44a9-8777-b060907a24fa",
   "metadata": {},
   "outputs": [],
   "source": []
  }
 ],
 "metadata": {
  "kernelspec": {
   "display_name": "Python 3 (ipykernel)",
   "language": "python",
   "name": "python3"
  },
  "language_info": {
   "codemirror_mode": {
    "name": "ipython",
    "version": 3
   },
   "file_extension": ".py",
   "mimetype": "text/x-python",
   "name": "python",
   "nbconvert_exporter": "python",
   "pygments_lexer": "ipython3",
   "version": "3.12.4"
  }
 },
 "nbformat": 4,
 "nbformat_minor": 5
}
