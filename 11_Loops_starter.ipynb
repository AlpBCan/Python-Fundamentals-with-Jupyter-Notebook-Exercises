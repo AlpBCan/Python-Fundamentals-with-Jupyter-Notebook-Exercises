{
 "cells": [
  {
   "cell_type": "markdown",
   "id": "c635c261-ca09-46c8-92cf-b435889d5327",
   "metadata": {},
   "source": [
    "# LOOPS"
   ]
  },
  {
   "cell_type": "markdown",
   "id": "41f87911-1611-485b-bcb4-6f21e6418b54",
   "metadata": {},
   "source": [
    "## FOR"
   ]
  },
  {
   "cell_type": "code",
   "execution_count": null,
   "id": "b4f7e47f-ed62-44bd-a59a-f2810c4546f1",
   "metadata": {},
   "outputs": [],
   "source": []
  },
  {
   "cell_type": "markdown",
   "id": "4820c688-5ba2-4d11-85af-9e35304ee456",
   "metadata": {},
   "source": [
    "### Loop through a list"
   ]
  },
  {
   "cell_type": "code",
   "execution_count": null,
   "id": "8c806fcf-8cc5-4895-b0f9-07095a845b35",
   "metadata": {},
   "outputs": [],
   "source": []
  },
  {
   "cell_type": "markdown",
   "id": "cf4d6860-01d7-4f3d-966c-569e86de5ada",
   "metadata": {},
   "source": [
    "### Loop through a string"
   ]
  },
  {
   "cell_type": "code",
   "execution_count": null,
   "id": "c2f485f3-fbc3-4b1b-bb5b-10db849b085e",
   "metadata": {},
   "outputs": [],
   "source": []
  },
  {
   "cell_type": "markdown",
   "id": "5486bcf0-1f8a-473a-9480-2412fb8d01cd",
   "metadata": {},
   "source": [
    "### Loop through range"
   ]
  },
  {
   "cell_type": "code",
   "execution_count": null,
   "id": "0026be99-3b24-4510-bfc4-4820b994026f",
   "metadata": {},
   "outputs": [],
   "source": []
  },
  {
   "cell_type": "markdown",
   "id": "9c3b6238-993e-4632-ab20-9c2dc71574ec",
   "metadata": {},
   "source": [
    "### Nested loops"
   ]
  },
  {
   "cell_type": "code",
   "execution_count": null,
   "id": "baf76c38-20a0-4caa-a55f-78020ff4fce6",
   "metadata": {},
   "outputs": [],
   "source": []
  },
  {
   "cell_type": "markdown",
   "id": "eba301ac-383b-4817-92c2-7f761614e31e",
   "metadata": {},
   "source": [
    "### ELSE\n",
    "Executed when the loop completed normally."
   ]
  },
  {
   "cell_type": "code",
   "execution_count": null,
   "id": "19703a23-dcb9-4e62-9057-c9352f5476d7",
   "metadata": {},
   "outputs": [],
   "source": []
  },
  {
   "cell_type": "markdown",
   "id": "e37c0489-9e01-4c01-9149-8cfadad23eea",
   "metadata": {},
   "source": [
    "### BREAK\n",
    "Exits the loop. Mostly used with if statement."
   ]
  },
  {
   "cell_type": "code",
   "execution_count": null,
   "id": "3a2d3aa1-6bb1-44bc-91e7-ec7edd4bd180",
   "metadata": {},
   "outputs": [],
   "source": []
  },
  {
   "cell_type": "markdown",
   "id": "7ae2b082-b5b7-4937-b6f1-1bbcd44a9a42",
   "metadata": {},
   "source": [
    "### CONTINUE\n",
    "Skips current iteration and moves to next."
   ]
  },
  {
   "cell_type": "code",
   "execution_count": null,
   "id": "05e96657-ca21-4f9f-9488-09d46efc8586",
   "metadata": {},
   "outputs": [],
   "source": []
  },
  {
   "cell_type": "markdown",
   "id": "73d8b8c0-2b5f-4bd7-81de-108255ca3808",
   "metadata": {},
   "source": [
    "### ENUMERATE\n",
    "Allows you to loop over a sequence and have an automatic counter."
   ]
  },
  {
   "cell_type": "code",
   "execution_count": null,
   "id": "c1db7fae-a437-4bb7-bf74-6d8051ebcce9",
   "metadata": {},
   "outputs": [],
   "source": []
  },
  {
   "cell_type": "markdown",
   "id": "f7efc220-0eeb-4cf6-beb5-fbd6c6b25c03",
   "metadata": {},
   "source": [
    "### ZIP\n",
    "Allows you to loop over multiple sequences at the same time."
   ]
  },
  {
   "cell_type": "code",
   "execution_count": null,
   "id": "d2cf4f48-494f-4138-adfa-1969270e2f6b",
   "metadata": {},
   "outputs": [],
   "source": []
  },
  {
   "cell_type": "markdown",
   "id": "bfa5cc35-955d-475f-916d-6a609a7164ab",
   "metadata": {},
   "source": [
    "## WHILE"
   ]
  },
  {
   "cell_type": "code",
   "execution_count": null,
   "id": "d07a8aa9-5b29-47e5-ad7b-9d7cf6636090",
   "metadata": {},
   "outputs": [],
   "source": []
  },
  {
   "cell_type": "markdown",
   "id": "e8911871-cf2a-48b9-b386-28421b9d192b",
   "metadata": {},
   "source": [
    "### WHILE TRUE"
   ]
  },
  {
   "cell_type": "code",
   "execution_count": null,
   "id": "bfb160b8-8adf-4d7b-a3c8-144fccf88a53",
   "metadata": {},
   "outputs": [],
   "source": []
  }
 ],
 "metadata": {
  "kernelspec": {
   "display_name": "Python 3 (ipykernel)",
   "language": "python",
   "name": "python3"
  },
  "language_info": {
   "codemirror_mode": {
    "name": "ipython",
    "version": 3
   },
   "file_extension": ".py",
   "mimetype": "text/x-python",
   "name": "python",
   "nbconvert_exporter": "python",
   "pygments_lexer": "ipython3",
   "version": "3.12.4"
  }
 },
 "nbformat": 4,
 "nbformat_minor": 5
}
