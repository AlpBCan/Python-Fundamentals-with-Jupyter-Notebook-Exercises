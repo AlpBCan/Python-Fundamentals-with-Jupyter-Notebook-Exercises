{
 "cells": [
  {
   "cell_type": "markdown",
   "id": "0a25d860-7ed2-4bb4-8d4c-d559e547ba0c",
   "metadata": {},
   "source": [
    "# EXERCISE 5: LOOPS"
   ]
  },
  {
   "cell_type": "code",
   "execution_count": null,
   "id": "06ebc1c3-3850-47c8-b613-96a628d24f95",
   "metadata": {},
   "outputs": [],
   "source": [
    "numbers = [1, 2, 3, 4, 5 ,6, 7, 8, 9, 10]"
   ]
  },
  {
   "cell_type": "markdown",
   "id": "d4031919-6570-4b04-82aa-ea34bc128e97",
   "metadata": {},
   "source": [
    "### Print every number in the list above using a for loop."
   ]
  },
  {
   "cell_type": "code",
   "execution_count": null,
   "id": "338d90b9-a194-4c3d-9704-af5c40b76f34",
   "metadata": {},
   "outputs": [],
   "source": [
    "for number in numbers:\n",
    "    print(number)"
   ]
  },
  {
   "cell_type": "markdown",
   "id": "56998b97-3d34-44fe-bb57-c219df7e8d11",
   "metadata": {},
   "source": [
    "### Print only even numbers."
   ]
  },
  {
   "cell_type": "code",
   "execution_count": null,
   "id": "04c1cd75-8bb2-4686-8c2e-acf72be43c29",
   "metadata": {},
   "outputs": [],
   "source": [
    "for number in numbers:\n",
    "    if number %2 == 0:\n",
    "        print(number)\n",
    "    "
   ]
  },
  {
   "cell_type": "markdown",
   "id": "ebf5c130-4be4-4e73-88e4-9ac1305276bc",
   "metadata": {},
   "source": [
    "### Print only even numbers using 'continue'"
   ]
  },
  {
   "cell_type": "code",
   "execution_count": null,
   "id": "1a74aeca-cd31-4dab-b5d9-b643a92720c7",
   "metadata": {},
   "outputs": [],
   "source": [
    "for number in numbers:\n",
    "    if number % 2 != 0:\n",
    "        continue\n",
    "    print(number)"
   ]
  },
  {
   "cell_type": "markdown",
   "id": "c55886f6-2cd2-42c3-8054-d374f4089805",
   "metadata": {},
   "source": [
    "### Print all numbers but skip 5"
   ]
  },
  {
   "cell_type": "code",
   "execution_count": null,
   "id": "572a95f8-62e1-44dd-848b-2db84feab903",
   "metadata": {},
   "outputs": [],
   "source": [
    "for number in numbers:\n",
    "    if number == 5:\n",
    "        continue\n",
    "    print(number)"
   ]
  },
  {
   "cell_type": "markdown",
   "id": "3ab55cd6-5695-49e4-a6e9-228c3256555a",
   "metadata": {},
   "source": [
    "### Stop the loop when you get number 7"
   ]
  },
  {
   "cell_type": "code",
   "execution_count": null,
   "id": "e61d8242-8233-4f5a-b4f8-442da2a2cf01",
   "metadata": {},
   "outputs": [],
   "source": [
    "for number in numbers:\n",
    "    if number == 7:\n",
    "        break\n",
    "    print(number)"
   ]
  },
  {
   "cell_type": "markdown",
   "id": "4edf43ef-630b-4b64-ad72-dbf9724cd859",
   "metadata": {},
   "source": [
    "### Print all numbers again using a range function."
   ]
  },
  {
   "cell_type": "code",
   "execution_count": null,
   "id": "697a721a-bc27-4ea0-bb32-6078fa543be4",
   "metadata": {},
   "outputs": [],
   "source": [
    "for i in range(1, 11):\n",
    "    print(i)"
   ]
  },
  {
   "cell_type": "markdown",
   "id": "2d7473dd-5f95-4e1b-aaf3-b0aa48d61936",
   "metadata": {},
   "source": [
    "### Print numbers lower than 9 using a while loop. You need to define a counter."
   ]
  },
  {
   "cell_type": "code",
   "execution_count": null,
   "id": "23bf309e-6776-420d-a4d0-1a2e3dbc7a7f",
   "metadata": {},
   "outputs": [],
   "source": [
    "i = 0\n",
    "\n",
    "while numbers[i] < 9:\n",
    "    print(numbers[i])\n",
    "    i = i + 1"
   ]
  },
  {
   "cell_type": "code",
   "execution_count": null,
   "id": "bcefa5a3-485f-4528-88b4-d451f4dd3520",
   "metadata": {},
   "outputs": [],
   "source": [
    "text = 'Hello, World. I use Python for programming.'"
   ]
  },
  {
   "cell_type": "markdown",
   "id": "6a732ede-509a-4504-9254-d355ec431566",
   "metadata": {},
   "source": [
    "### Loop through the text above and print the characters but change letter 'o' with '*'"
   ]
  },
  {
   "cell_type": "code",
   "execution_count": null,
   "id": "cd0713d0-790c-435c-ad5f-8aae4eb6aa38",
   "metadata": {},
   "outputs": [],
   "source": [
    "for char in text:\n",
    "    if char == 'o':\n",
    "        print('*')\n",
    "    else:\n",
    "        print(char)"
   ]
  },
  {
   "cell_type": "markdown",
   "id": "783b9fd7-b022-4934-9383-d1528e3d06c8",
   "metadata": {},
   "source": [
    "### Loop through the text again and count the number of letter 'o' in it. You need to create a counter and print it at the end."
   ]
  },
  {
   "cell_type": "code",
   "execution_count": null,
   "id": "540c0c18-7e6f-4f14-a8dd-16aa369c1761",
   "metadata": {},
   "outputs": [],
   "source": [
    "counter = 0\n",
    "for char in text:\n",
    "    if char == 'o':\n",
    "        counter += 1\n",
    "print(counter)"
   ]
  },
  {
   "cell_type": "markdown",
   "id": "3971e07c-2117-4e87-baa1-afae35cfb4d0",
   "metadata": {},
   "source": [
    "### Create a for loop that can sum the numbers in a range and print it. Hint: Start with a variable sum = 0."
   ]
  },
  {
   "cell_type": "code",
   "execution_count": null,
   "id": "54f9e1f0-b16b-42fd-b0dc-c8252b6c7abe",
   "metadata": {},
   "outputs": [],
   "source": [
    "sum = 0\n",
    "lower_limit = 0\n",
    "upper_limit = 10\n",
    "\n",
    "for i in range(lower_limit, upper_limit + 1):\n",
    "    sum += i\n",
    "\n",
    "print(sum)\n",
    "\n"
   ]
  },
  {
   "cell_type": "code",
   "execution_count": null,
   "id": "db94b83c-6d20-4228-8c63-5359469dbacd",
   "metadata": {},
   "outputs": [],
   "source": [
    "grades = {'Bob': 80, 'Marry': 75, 'Alice': 92, 'John': 60, 'Charlie': 78, 'Ken': 100, 'Monica': 60, 'Joffrey': 65}"
   ]
  },
  {
   "cell_type": "markdown",
   "id": "74d2da10-c52f-4787-ab00-8273a687394c",
   "metadata": {},
   "source": [
    "### Loop though the grades dictionary above and calculate the average grade. Hint: average = total / number of grades"
   ]
  },
  {
   "cell_type": "code",
   "execution_count": null,
   "id": "4473fd21-6cca-4c62-9ded-be67ce78d87e",
   "metadata": {},
   "outputs": [],
   "source": [
    "total = 0\n",
    "\n",
    "for grade in grades.values():\n",
    "    total += grade\n",
    "\n",
    "average = total / len(grades)\n",
    "print(average)"
   ]
  },
  {
   "cell_type": "markdown",
   "id": "20d8ab1d-9a96-444f-84f7-f48e26f9f084",
   "metadata": {},
   "source": [
    "### Create a multiplication table using a nested loop."
   ]
  },
  {
   "cell_type": "code",
   "execution_count": null,
   "id": "ab70508c-aead-4253-b932-29df65e49c2c",
   "metadata": {},
   "outputs": [],
   "source": [
    "for i in range(1, 11):\n",
    "    for j in range(1, 11):\n",
    "        print(f\"{i} * {j} = {i * j}\")\n",
    "    print()"
   ]
  },
  {
   "cell_type": "code",
   "execution_count": null,
   "id": "1307fb92-5667-4a1d-8490-2078b085cabc",
   "metadata": {},
   "outputs": [],
   "source": [
    "numbers = [34, 67, 23, 90, 12, 78, 56]"
   ]
  },
  {
   "cell_type": "markdown",
   "id": "923f46e3-e7f5-4986-b6b4-7e540c9aea68",
   "metadata": {},
   "source": [
    "### Use a loop to find maximum value in the list above. Hint: Start by setting the max_value to the first element in the list and start the loop from the second element."
   ]
  },
  {
   "cell_type": "code",
   "execution_count": null,
   "id": "06cdba8c-0275-4e50-8b78-bff6853fa28e",
   "metadata": {},
   "outputs": [],
   "source": [
    "max_value = numbers[0]\n",
    "\n",
    "for element in numbers[1:]:\n",
    "    if element > max_value:\n",
    "        max_value = element\n",
    "\n",
    "print(max_value)"
   ]
  }
 ],
 "metadata": {
  "kernelspec": {
   "display_name": "Python 3 (ipykernel)",
   "language": "python",
   "name": "python3"
  },
  "language_info": {
   "codemirror_mode": {
    "name": "ipython",
    "version": 3
   },
   "file_extension": ".py",
   "mimetype": "text/x-python",
   "name": "python",
   "nbconvert_exporter": "python",
   "pygments_lexer": "ipython3",
   "version": "3.12.4"
  }
 },
 "nbformat": 4,
 "nbformat_minor": 5
}
