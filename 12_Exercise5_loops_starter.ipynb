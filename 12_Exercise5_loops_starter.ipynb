{
 "cells": [
  {
   "cell_type": "markdown",
   "id": "0a25d860-7ed2-4bb4-8d4c-d559e547ba0c",
   "metadata": {},
   "source": [
    "# EXERCISE 5: LOOPS"
   ]
  },
  {
   "cell_type": "code",
   "execution_count": null,
   "id": "06ebc1c3-3850-47c8-b613-96a628d24f95",
   "metadata": {},
   "outputs": [],
   "source": [
    "numbers = [1, 2, 3, 4, 5 ,6, 7, 8, 9, 10]"
   ]
  },
  {
   "cell_type": "markdown",
   "id": "d4031919-6570-4b04-82aa-ea34bc128e97",
   "metadata": {},
   "source": [
    "### Print every number in the list above using a for loop."
   ]
  },
  {
   "cell_type": "code",
   "execution_count": null,
   "id": "10d61b12-9894-43f3-ad45-54e22489c7ef",
   "metadata": {},
   "outputs": [],
   "source": []
  },
  {
   "cell_type": "markdown",
   "id": "56998b97-3d34-44fe-bb57-c219df7e8d11",
   "metadata": {},
   "source": [
    "### Print only even numbers."
   ]
  },
  {
   "cell_type": "code",
   "execution_count": null,
   "id": "afec310c-541d-430d-b8e8-4d180419db68",
   "metadata": {},
   "outputs": [],
   "source": []
  },
  {
   "cell_type": "markdown",
   "id": "ebf5c130-4be4-4e73-88e4-9ac1305276bc",
   "metadata": {},
   "source": [
    "### Print only even numbers using 'continue'"
   ]
  },
  {
   "cell_type": "code",
   "execution_count": null,
   "id": "f8adb2fe-578f-4784-98df-f02a2599c3a5",
   "metadata": {},
   "outputs": [],
   "source": []
  },
  {
   "cell_type": "markdown",
   "id": "c55886f6-2cd2-42c3-8054-d374f4089805",
   "metadata": {},
   "source": [
    "### Print all numbers but skip 5"
   ]
  },
  {
   "cell_type": "code",
   "execution_count": null,
   "id": "b8140ab0-8f97-4eab-a3d7-6b46cfec1b9c",
   "metadata": {},
   "outputs": [],
   "source": []
  },
  {
   "cell_type": "markdown",
   "id": "3ab55cd6-5695-49e4-a6e9-228c3256555a",
   "metadata": {},
   "source": [
    "### Stop the loop when you get number 7"
   ]
  },
  {
   "cell_type": "code",
   "execution_count": null,
   "id": "bfbc2f0a-a617-43b8-b7f7-1d6549d64250",
   "metadata": {},
   "outputs": [],
   "source": []
  },
  {
   "cell_type": "markdown",
   "id": "4edf43ef-630b-4b64-ad72-dbf9724cd859",
   "metadata": {},
   "source": [
    "### Print all numbers again using a range function."
   ]
  },
  {
   "cell_type": "code",
   "execution_count": null,
   "id": "c54001ff-6df6-478b-b4b3-fcde3405fbd0",
   "metadata": {},
   "outputs": [],
   "source": []
  },
  {
   "cell_type": "markdown",
   "id": "2d7473dd-5f95-4e1b-aaf3-b0aa48d61936",
   "metadata": {},
   "source": [
    "### Print numbers lower than 9 using a while loop. You need to define a counter."
   ]
  },
  {
   "cell_type": "code",
   "execution_count": null,
   "id": "bcefa5a3-485f-4528-88b4-d451f4dd3520",
   "metadata": {},
   "outputs": [],
   "source": [
    "text = 'Hello, World. I use Python for programming.'"
   ]
  },
  {
   "cell_type": "code",
   "execution_count": null,
   "id": "d6862be3-740e-4165-a723-2cb749639bd2",
   "metadata": {},
   "outputs": [],
   "source": []
  },
  {
   "cell_type": "markdown",
   "id": "6a732ede-509a-4504-9254-d355ec431566",
   "metadata": {},
   "source": [
    "### Loop through the text above and print the characters but change letter 'o' with '*'"
   ]
  },
  {
   "cell_type": "code",
   "execution_count": null,
   "id": "94fea91a-8669-4e3f-ab9d-5d0b9e69f20f",
   "metadata": {},
   "outputs": [],
   "source": []
  },
  {
   "cell_type": "markdown",
   "id": "783b9fd7-b022-4934-9383-d1528e3d06c8",
   "metadata": {},
   "source": [
    "### Loop through the text again and count the number of letter 'o' in it. You need to create a counter and print it at the end."
   ]
  },
  {
   "cell_type": "code",
   "execution_count": null,
   "id": "6d7fd610-4347-44f1-95f8-a6cb27ba05af",
   "metadata": {},
   "outputs": [],
   "source": []
  },
  {
   "cell_type": "markdown",
   "id": "3971e07c-2117-4e87-baa1-afae35cfb4d0",
   "metadata": {},
   "source": [
    "### Create a for loop that can sum the numbers in a range and print it. Hint: Start with a variable sum = 0."
   ]
  },
  {
   "cell_type": "code",
   "execution_count": null,
   "id": "db94b83c-6d20-4228-8c63-5359469dbacd",
   "metadata": {},
   "outputs": [],
   "source": [
    "grades = {'Bob': 80, 'Marry': 75, 'Alice': 92, 'John': 60, 'Charlie': 78, 'Ken': 100, 'Monica': 60, 'Joffrey': 65}"
   ]
  },
  {
   "cell_type": "code",
   "execution_count": null,
   "id": "4b74552c-cdf1-4470-9e9c-ce63a94862c8",
   "metadata": {},
   "outputs": [],
   "source": []
  },
  {
   "cell_type": "markdown",
   "id": "74d2da10-c52f-4787-ab00-8273a687394c",
   "metadata": {},
   "source": [
    "### Loop though the grades dictionary above and calculate the average grade. Hint: average = total / number of grades"
   ]
  },
  {
   "cell_type": "code",
   "execution_count": null,
   "id": "8924d1b2-0ec6-42a5-87e7-afdec64aa86c",
   "metadata": {},
   "outputs": [],
   "source": []
  },
  {
   "cell_type": "markdown",
   "id": "20d8ab1d-9a96-444f-84f7-f48e26f9f084",
   "metadata": {},
   "source": [
    "### Create a multiplication table using a nested loop."
   ]
  },
  {
   "cell_type": "code",
   "execution_count": null,
   "id": "1307fb92-5667-4a1d-8490-2078b085cabc",
   "metadata": {},
   "outputs": [],
   "source": [
    "numbers = [34, 67, 23, 90, 12, 78, 56]"
   ]
  },
  {
   "cell_type": "code",
   "execution_count": null,
   "id": "7f3fe18f-2e92-45c0-be87-1394825c9b39",
   "metadata": {},
   "outputs": [],
   "source": []
  },
  {
   "cell_type": "markdown",
   "id": "923f46e3-e7f5-4986-b6b4-7e540c9aea68",
   "metadata": {},
   "source": [
    "### Use a loop to find maximum value in the list above. Hint: Start by setting the max_value to the first element in the list and start the loop from the second element."
   ]
  },
  {
   "cell_type": "code",
   "execution_count": null,
   "id": "bc17ef91-df41-40a9-8d5f-65ee70a24478",
   "metadata": {},
   "outputs": [],
   "source": []
  }
 ],
 "metadata": {
  "kernelspec": {
   "display_name": "Python 3 (ipykernel)",
   "language": "python",
   "name": "python3"
  },
  "language_info": {
   "codemirror_mode": {
    "name": "ipython",
    "version": 3
   },
   "file_extension": ".py",
   "mimetype": "text/x-python",
   "name": "python",
   "nbconvert_exporter": "python",
   "pygments_lexer": "ipython3",
   "version": "3.12.4"
  }
 },
 "nbformat": 4,
 "nbformat_minor": 5
}
