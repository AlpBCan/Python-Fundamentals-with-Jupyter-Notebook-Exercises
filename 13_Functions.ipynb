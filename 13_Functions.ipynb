{
 "cells": [
  {
   "cell_type": "markdown",
   "id": "67cf7fd1-d80e-4004-b226-43c237ba1a0f",
   "metadata": {},
   "source": [
    "# FUNCTIONS"
   ]
  },
  {
   "cell_type": "markdown",
   "id": "1481cd42-db49-4970-bcc9-85f21c0c815d",
   "metadata": {},
   "source": [
    "### DEFINING A FUNCTION"
   ]
  },
  {
   "cell_type": "code",
   "execution_count": null,
   "id": "e2bfd926-e592-4fc9-92f8-c469a264389f",
   "metadata": {},
   "outputs": [],
   "source": [
    "def say_hello():\n",
    "    print('Hello, World!')"
   ]
  },
  {
   "cell_type": "markdown",
   "id": "2b314552-ccc8-442e-bc33-8ff1279fe446",
   "metadata": {},
   "source": [
    "### CALLING A FUNCTION"
   ]
  },
  {
   "cell_type": "code",
   "execution_count": null,
   "id": "601fd7f8-0a4f-4d87-bf71-5b8e68eff8a9",
   "metadata": {},
   "outputs": [],
   "source": [
    "say_hello()"
   ]
  },
  {
   "cell_type": "markdown",
   "id": "c9575fba-00e4-4a9d-af3c-cc1834dacd3c",
   "metadata": {},
   "source": [
    "### ARGUMENTS"
   ]
  },
  {
   "cell_type": "code",
   "execution_count": null,
   "id": "7fa55916-5f0b-44b3-be0c-661882f5571d",
   "metadata": {},
   "outputs": [],
   "source": [
    "def say_hello(your_name, my_name):\n",
    "    print(f'Hello {your_name}, my name is {my_name}.')\n",
    "\n",
    "say_hello('John', 'Joey')"
   ]
  },
  {
   "cell_type": "markdown",
   "id": "886cf643-989e-48f3-bfed-21a18bf52b07",
   "metadata": {},
   "source": [
    "### DEFAULT ARGUMENTS"
   ]
  },
  {
   "cell_type": "code",
   "execution_count": null,
   "id": "ecfa4551-889b-446a-b49d-755b7218f19a",
   "metadata": {},
   "outputs": [],
   "source": [
    "def greet(name, message='Hello'):\n",
    "    print(f'{message}, {name}!')"
   ]
  },
  {
   "cell_type": "code",
   "execution_count": null,
   "id": "729bd9b9-13fb-4711-a775-601c04d2d222",
   "metadata": {},
   "outputs": [],
   "source": [
    "greet('John')"
   ]
  },
  {
   "cell_type": "code",
   "execution_count": null,
   "id": "abc5ba9a-b823-46cf-be59-2961d80fb262",
   "metadata": {},
   "outputs": [],
   "source": [
    "greet('John', 'Hi')"
   ]
  },
  {
   "cell_type": "markdown",
   "id": "9e22cab3-1334-424b-b3ca-f1b40cc70e4d",
   "metadata": {},
   "source": [
    "### *args and **kwargs\n",
    "Provide flexible ways to handle functions with variable numbers of arguments."
   ]
  },
  {
   "cell_type": "raw",
   "id": "e3f00d1d-4684-40ab-9cca-0ccb64e5ad6f",
   "metadata": {},
   "source": [
    "* --> Accepts any number of positional arguments. Inside the function, *args is treated as a tuple."
   ]
  },
  {
   "cell_type": "code",
   "execution_count": null,
   "id": "ac6ff6e2-e79d-4a2d-aa57-bc48ec8885f3",
   "metadata": {},
   "outputs": [],
   "source": [
    "def print_args(*args):\n",
    "    for arg in args:\n",
    "        print(arg)\n",
    "\n",
    "print_args(1, 2, 3, 4, 5, 6, 'john', 'george')"
   ]
  },
  {
   "cell_type": "raw",
   "id": "d8e11dc6-b82e-4073-b71a-13afbf0fbc49",
   "metadata": {},
   "source": [
    "** --> Accepts any number of keyword arguments. Inside the function, **kwargs is treated as a dictionary."
   ]
  },
  {
   "cell_type": "code",
   "execution_count": null,
   "id": "800ebfa5-55ad-41b8-879f-6f44ff143815",
   "metadata": {},
   "outputs": [],
   "source": [
    "def print_kwargs(**kwargs):\n",
    "    for key, value in kwargs.items():\n",
    "        print(f\"{key}: {value}\")\n",
    "\n",
    "print_kwargs(name=\"George\", age=29, job='Teacher')"
   ]
  },
  {
   "cell_type": "markdown",
   "id": "193bb5b7-f66f-4910-92cf-b2767fa97b0d",
   "metadata": {},
   "source": [
    "### RETURN VALUES"
   ]
  },
  {
   "cell_type": "code",
   "execution_count": null,
   "id": "29cff916-e257-43b3-a863-a4e0ac60e38f",
   "metadata": {},
   "outputs": [],
   "source": [
    "def sum(a, b):\n",
    "    return a + b\n",
    "    # print(a+b)\n",
    "\n",
    "def sum_old(a, b):\n",
    "    print(a + b)"
   ]
  },
  {
   "cell_type": "code",
   "execution_count": null,
   "id": "4d313ec3-2454-4510-aa9b-374314aaed08",
   "metadata": {},
   "outputs": [],
   "source": [
    "sum_old(3, 7)"
   ]
  },
  {
   "cell_type": "code",
   "execution_count": null,
   "id": "ec121d8d-2355-4daf-88b4-c65f9650a93c",
   "metadata": {},
   "outputs": [],
   "source": [
    "c = sum_old(3, 7)"
   ]
  },
  {
   "cell_type": "code",
   "execution_count": null,
   "id": "e6282a9e-d388-449f-9edf-1c4354c57824",
   "metadata": {},
   "outputs": [],
   "source": [
    "c"
   ]
  },
  {
   "cell_type": "code",
   "execution_count": null,
   "id": "073df63e-a80c-4440-9134-a14dc30fe829",
   "metadata": {},
   "outputs": [],
   "source": [
    "d = sum(3, 7)"
   ]
  },
  {
   "cell_type": "code",
   "execution_count": null,
   "id": "20274b3b-7d5b-49fd-a4d6-62de96ba03e4",
   "metadata": {},
   "outputs": [],
   "source": [
    "d"
   ]
  },
  {
   "cell_type": "markdown",
   "id": "67b94ad0-acfb-46c8-b0ac-b0ea1bdab9f8",
   "metadata": {},
   "source": [
    "##### We don't have to return a value"
   ]
  },
  {
   "cell_type": "code",
   "execution_count": null,
   "id": "a7bc0cac-662c-4e3a-ac7c-ac3119f6d992",
   "metadata": {},
   "outputs": [],
   "source": [
    "my_list = [1, 2, 3, 4, 5]\n",
    "\n",
    "def my_func(any_list):\n",
    "    any_list.reverse()\n",
    "\n",
    "my_func(my_list)\n",
    "print(my_list)"
   ]
  },
  {
   "cell_type": "markdown",
   "id": "99e8dda0-6a33-4fec-bea7-b414f989e255",
   "metadata": {},
   "source": [
    "### SCOPE"
   ]
  },
  {
   "cell_type": "markdown",
   "id": "acd33370-05d7-41c7-a626-73e55b95dc42",
   "metadata": {},
   "source": [
    "##### Local Scope\n",
    "Local variable: Variable that is defined within a function and is accessible only within the scope of that function."
   ]
  },
  {
   "cell_type": "code",
   "execution_count": null,
   "id": "2ec4a952-4fd8-407a-992c-8a7098250adf",
   "metadata": {},
   "outputs": [],
   "source": [
    "def func():\n",
    "    x = 5\n",
    "    print(x)\n",
    "\n",
    "func()\n",
    "# print(x)"
   ]
  },
  {
   "cell_type": "markdown",
   "id": "bb4b7e7f-a2c5-4f85-976f-54b266bd8d71",
   "metadata": {},
   "source": [
    "Nested Function"
   ]
  },
  {
   "cell_type": "code",
   "execution_count": null,
   "id": "c712f4d5-a2c1-4502-9ffb-91fd050a04d6",
   "metadata": {},
   "outputs": [],
   "source": [
    "def func():\n",
    "    x = 5\n",
    "    def innerfunc():\n",
    "        print(x)\n",
    "    innerfunc()\n",
    "\n",
    "func()"
   ]
  },
  {
   "cell_type": "markdown",
   "id": "1ca19214-29a4-4135-9cfb-bbb9f20cc81f",
   "metadata": {},
   "source": [
    "##### Global Scope\n",
    "Global variable: Variable that is defined outside any function and is accessible from any part of the code, including within functions, unless shadowed by a local variable of the same name."
   ]
  },
  {
   "cell_type": "code",
   "execution_count": null,
   "id": "572c7e50-3384-4060-9c71-c53fa7778363",
   "metadata": {},
   "outputs": [],
   "source": [
    "x = 5\n",
    "\n",
    "def func():\n",
    "    print(x)\n",
    "\n",
    "func()\n",
    "print(x)"
   ]
  },
  {
   "cell_type": "markdown",
   "id": "9d2b4db9-3855-4d8f-a064-8614c33d2eba",
   "metadata": {},
   "source": [
    "Naming Variables"
   ]
  },
  {
   "cell_type": "code",
   "execution_count": null,
   "id": "6243cbfa-3b59-47cd-b67c-20091cde1b3c",
   "metadata": {},
   "outputs": [],
   "source": [
    "x = 5\n",
    "\n",
    "def func():\n",
    "    x = 2\n",
    "    print(x)\n",
    "\n",
    "func()\n",
    "print(x)"
   ]
  },
  {
   "cell_type": "markdown",
   "id": "70acc111-2018-4d6d-8a43-018fdd0bb7d0",
   "metadata": {},
   "source": [
    "Global Keyword"
   ]
  },
  {
   "cell_type": "code",
   "execution_count": null,
   "id": "ac05b404-061c-469b-8634-8e3f74d9dade",
   "metadata": {},
   "outputs": [],
   "source": [
    "def func():\n",
    "    global x\n",
    "    x = 5\n",
    "    print(x)\n",
    "\n",
    "func()\n",
    "print(x)"
   ]
  },
  {
   "cell_type": "code",
   "execution_count": null,
   "id": "ac7952c9-ee22-4ca6-94ad-1ff5f891e810",
   "metadata": {},
   "outputs": [],
   "source": [
    "x = 5\n",
    "\n",
    "def func():\n",
    "    global x\n",
    "    x = 2\n",
    "    print(x)\n",
    "\n",
    "func()\n",
    "print(x)"
   ]
  },
  {
   "cell_type": "markdown",
   "id": "ba0d2ae4-0197-4480-89d9-38d3524504c4",
   "metadata": {},
   "source": [
    "### LAMBDA FUNCTIONS\n",
    "A way to create one-line, anonymous functions."
   ]
  },
  {
   "cell_type": "code",
   "execution_count": null,
   "id": "c34f664e-5e18-4c73-996f-85ee11a4e482",
   "metadata": {},
   "outputs": [],
   "source": [
    "# lambda arguments : expression"
   ]
  },
  {
   "cell_type": "code",
   "execution_count": null,
   "id": "36d2df66-05a7-4839-97fa-dde1b55d5cc3",
   "metadata": {},
   "outputs": [],
   "source": [
    "def square(x):\n",
    "    return x**2\n",
    "square(5)\n",
    "    \n",
    "square = lambda x : x**2\n",
    "square(5)"
   ]
  },
  {
   "cell_type": "code",
   "execution_count": null,
   "id": "555b7d66-9179-4a18-8d89-9477a903657f",
   "metadata": {},
   "outputs": [],
   "source": [
    "add = lambda x, y : x + y\n",
    "add(3, 4)"
   ]
  },
  {
   "cell_type": "markdown",
   "id": "f738cedb-30b4-4d9c-9de1-927c9215c07f",
   "metadata": {},
   "source": [
    "##### They are very useful when we use them as anonymous functions in other functions. (Higher order functions)"
   ]
  },
  {
   "cell_type": "markdown",
   "id": "6f77ecb1-fb39-4d2c-b1ef-f0e78e70d2fe",
   "metadata": {},
   "source": [
    "Custom HOF"
   ]
  },
  {
   "cell_type": "code",
   "execution_count": null,
   "id": "96d6fe84-f6c5-4c66-bd02-aa9c6899d39a",
   "metadata": {},
   "outputs": [],
   "source": [
    "def func(n):\n",
    "    return lambda x : x**n\n",
    "\n",
    "square = func(2)\n",
    "# take_quare = lambda x : x**2\n",
    "square(5)\n",
    "third_power = func(3)\n",
    "square_root = func(0.5)\n",
    "square_root(25) # make int\n"
   ]
  },
  {
   "cell_type": "code",
   "execution_count": null,
   "id": "385727c7-5db1-4575-98c5-b5fcdcae4e83",
   "metadata": {},
   "outputs": [],
   "source": [
    "def func(name):\n",
    "    return lambda x : f'{x}, {name}! '\n",
    "\n",
    "greet_world_with = func('World')\n",
    "greet_world_with('Hi')\n",
    "greet_world_with('Hello')\n",
    "greet_world_with('Blessings')\n",
    "\n",
    "greet_john_with = func('John')\n",
    "greet_john_with('Hi')\n",
    "greet_john_with('Hello')\n",
    "greet_john_with('Blessings')"
   ]
  },
  {
   "cell_type": "markdown",
   "id": "b4fb8611-8c6a-4a83-aa3c-8ab5424a701e",
   "metadata": {},
   "source": [
    "map() --> applies a given function to each item in an iterable and returns an iterator."
   ]
  },
  {
   "cell_type": "code",
   "execution_count": null,
   "id": "0c59501f-b787-4ba1-80dc-e6fd082aa2ef",
   "metadata": {},
   "outputs": [],
   "source": [
    "numbers = [1, 2, 3, 4, 5]\n",
    "squared_numbers = list(map(lambda x: x ** 2, numbers))\n",
    "print(squared_numbers)"
   ]
  },
  {
   "cell_type": "markdown",
   "id": "51d38c41-3306-458c-852a-63da8b279858",
   "metadata": {},
   "source": [
    "filter() --> function constructs an iterator from elements of an iterable for which a function returns true."
   ]
  },
  {
   "cell_type": "code",
   "execution_count": null,
   "id": "7c5a2d62-63a4-49c6-9137-3061ee3c142e",
   "metadata": {},
   "outputs": [],
   "source": [
    "numbers = [1, 2, 3, 4, 5, 6, 7, 8, 9, 10]\n",
    "even_numbers = list(filter(lambda x: x % 2 == 0, numbers))\n",
    "print(even_numbers)"
   ]
  }
 ],
 "metadata": {
  "kernelspec": {
   "display_name": "Python 3 (ipykernel)",
   "language": "python",
   "name": "python3"
  },
  "language_info": {
   "codemirror_mode": {
    "name": "ipython",
    "version": 3
   },
   "file_extension": ".py",
   "mimetype": "text/x-python",
   "name": "python",
   "nbconvert_exporter": "python",
   "pygments_lexer": "ipython3",
   "version": "3.12.4"
  }
 },
 "nbformat": 4,
 "nbformat_minor": 5
}
