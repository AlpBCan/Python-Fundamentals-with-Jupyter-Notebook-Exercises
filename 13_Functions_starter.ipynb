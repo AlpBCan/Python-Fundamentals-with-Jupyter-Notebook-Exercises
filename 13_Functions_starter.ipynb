{
 "cells": [
  {
   "cell_type": "markdown",
   "id": "67cf7fd1-d80e-4004-b226-43c237ba1a0f",
   "metadata": {},
   "source": [
    "# FUNCTIONS"
   ]
  },
  {
   "cell_type": "markdown",
   "id": "1481cd42-db49-4970-bcc9-85f21c0c815d",
   "metadata": {},
   "source": [
    "### DEFINING A FUNCTION"
   ]
  },
  {
   "cell_type": "code",
   "execution_count": null,
   "id": "114d36ff-2545-42d2-8574-c57b2944fee0",
   "metadata": {},
   "outputs": [],
   "source": []
  },
  {
   "cell_type": "markdown",
   "id": "2b314552-ccc8-442e-bc33-8ff1279fe446",
   "metadata": {},
   "source": [
    "### CALLING A FUNCTION"
   ]
  },
  {
   "cell_type": "code",
   "execution_count": null,
   "id": "eee6242f-80c1-4438-ae16-a365500d1537",
   "metadata": {},
   "outputs": [],
   "source": []
  },
  {
   "cell_type": "markdown",
   "id": "c9575fba-00e4-4a9d-af3c-cc1834dacd3c",
   "metadata": {},
   "source": [
    "### ARGUMENTS"
   ]
  },
  {
   "cell_type": "code",
   "execution_count": null,
   "id": "10d64c0a-8eca-4b95-b13d-cf362af788c4",
   "metadata": {},
   "outputs": [],
   "source": []
  },
  {
   "cell_type": "markdown",
   "id": "886cf643-989e-48f3-bfed-21a18bf52b07",
   "metadata": {},
   "source": [
    "### DEFAULT ARGUMENTS"
   ]
  },
  {
   "cell_type": "code",
   "execution_count": null,
   "id": "3d2cd184-be76-4164-96be-8b955e45dfee",
   "metadata": {},
   "outputs": [],
   "source": []
  },
  {
   "cell_type": "markdown",
   "id": "9e22cab3-1334-424b-b3ca-f1b40cc70e4d",
   "metadata": {},
   "source": [
    "### *args and **kwargs\n",
    "Provide flexible ways to handle functions with variable numbers of arguments."
   ]
  },
  {
   "cell_type": "raw",
   "id": "e3f00d1d-4684-40ab-9cca-0ccb64e5ad6f",
   "metadata": {},
   "source": [
    "* --> Accepts any number of positional arguments. Inside the function, *args is treated as a tuple."
   ]
  },
  {
   "cell_type": "code",
   "execution_count": null,
   "id": "2be3cd21-38e4-4310-95e2-8e29134466ae",
   "metadata": {},
   "outputs": [],
   "source": []
  },
  {
   "cell_type": "raw",
   "id": "d8e11dc6-b82e-4073-b71a-13afbf0fbc49",
   "metadata": {},
   "source": [
    "** --> Accepts any number of keyword arguments. Inside the function, **kwargs is treated as a dictionary."
   ]
  },
  {
   "cell_type": "code",
   "execution_count": null,
   "id": "c18af0d4-d231-46ca-a7e5-677362a9ae22",
   "metadata": {},
   "outputs": [],
   "source": []
  },
  {
   "cell_type": "markdown",
   "id": "193bb5b7-f66f-4910-92cf-b2767fa97b0d",
   "metadata": {},
   "source": [
    "### RETURN VALUES"
   ]
  },
  {
   "cell_type": "code",
   "execution_count": null,
   "id": "b5eff4a0-907c-4e19-88fa-da0e56d7a31e",
   "metadata": {},
   "outputs": [],
   "source": []
  },
  {
   "cell_type": "markdown",
   "id": "67b94ad0-acfb-46c8-b0ac-b0ea1bdab9f8",
   "metadata": {},
   "source": [
    "##### We don't have to return a value"
   ]
  },
  {
   "cell_type": "code",
   "execution_count": null,
   "id": "b6409aba-f205-442d-8f9c-52cdbfdd1aed",
   "metadata": {},
   "outputs": [],
   "source": []
  },
  {
   "cell_type": "markdown",
   "id": "99e8dda0-6a33-4fec-bea7-b414f989e255",
   "metadata": {},
   "source": [
    "### SCOPE"
   ]
  },
  {
   "cell_type": "markdown",
   "id": "acd33370-05d7-41c7-a626-73e55b95dc42",
   "metadata": {},
   "source": [
    "##### Local Scope\n",
    "Local variable: Variable that is defined within a function and is accessible only within the scope of that function."
   ]
  },
  {
   "cell_type": "code",
   "execution_count": null,
   "id": "d52743df-9296-42f4-811a-13023538967a",
   "metadata": {},
   "outputs": [],
   "source": []
  },
  {
   "cell_type": "markdown",
   "id": "bb4b7e7f-a2c5-4f85-976f-54b266bd8d71",
   "metadata": {},
   "source": [
    "Nested Function"
   ]
  },
  {
   "cell_type": "code",
   "execution_count": null,
   "id": "466ec515-63e0-4813-ab8b-ebda2ff526cc",
   "metadata": {},
   "outputs": [],
   "source": []
  },
  {
   "cell_type": "markdown",
   "id": "1ca19214-29a4-4135-9cfb-bbb9f20cc81f",
   "metadata": {},
   "source": [
    "##### Global Scope\n",
    "Global variable: Variable that is defined outside any function and is accessible from any part of the code, including within functions, unless shadowed by a local variable of the same name."
   ]
  },
  {
   "cell_type": "code",
   "execution_count": null,
   "id": "dcc76550-e33a-4140-b11a-5a89570ee734",
   "metadata": {},
   "outputs": [],
   "source": []
  },
  {
   "cell_type": "markdown",
   "id": "9d2b4db9-3855-4d8f-a064-8614c33d2eba",
   "metadata": {},
   "source": [
    "Naming Variables"
   ]
  },
  {
   "cell_type": "code",
   "execution_count": null,
   "id": "3471824d-a0b8-40e0-b59f-4f1eb70c0b80",
   "metadata": {},
   "outputs": [],
   "source": []
  },
  {
   "cell_type": "markdown",
   "id": "70acc111-2018-4d6d-8a43-018fdd0bb7d0",
   "metadata": {},
   "source": [
    "Global Keyword"
   ]
  },
  {
   "cell_type": "code",
   "execution_count": null,
   "id": "4e915499-d5f6-4ea2-b5be-8cf08ebd7598",
   "metadata": {},
   "outputs": [],
   "source": []
  },
  {
   "cell_type": "markdown",
   "id": "ba0d2ae4-0197-4480-89d9-38d3524504c4",
   "metadata": {},
   "source": [
    "### LAMBDA FUNCTIONS\n",
    "A way to create one-line, anonymous functions."
   ]
  },
  {
   "cell_type": "code",
   "execution_count": null,
   "id": "c34f664e-5e18-4c73-996f-85ee11a4e482",
   "metadata": {},
   "outputs": [],
   "source": [
    "# lambda arguments : expression"
   ]
  },
  {
   "cell_type": "code",
   "execution_count": null,
   "id": "6609a1be-b4ea-490f-ab98-e08d335153ae",
   "metadata": {},
   "outputs": [],
   "source": []
  },
  {
   "cell_type": "markdown",
   "id": "f738cedb-30b4-4d9c-9de1-927c9215c07f",
   "metadata": {},
   "source": [
    "##### They are very useful when we use them as anonymous functions in other functions. (Higher order functions)"
   ]
  },
  {
   "cell_type": "markdown",
   "id": "6f77ecb1-fb39-4d2c-b1ef-f0e78e70d2fe",
   "metadata": {},
   "source": [
    "Custom HOF"
   ]
  },
  {
   "cell_type": "code",
   "execution_count": null,
   "id": "3e7b7a72-3ee9-4242-aceb-0c2908fe819b",
   "metadata": {},
   "outputs": [],
   "source": []
  },
  {
   "cell_type": "markdown",
   "id": "b4fb8611-8c6a-4a83-aa3c-8ab5424a701e",
   "metadata": {},
   "source": [
    "map() --> applies a given function to each item in an iterable and returns an iterator."
   ]
  },
  {
   "cell_type": "code",
   "execution_count": null,
   "id": "34917f57-efbb-47ae-b367-a2dcfeae0036",
   "metadata": {},
   "outputs": [],
   "source": []
  },
  {
   "cell_type": "markdown",
   "id": "51d38c41-3306-458c-852a-63da8b279858",
   "metadata": {},
   "source": [
    "filter() --> function constructs an iterator from elements of an iterable for which a function returns true."
   ]
  },
  {
   "cell_type": "code",
   "execution_count": null,
   "id": "7a696493-fb55-4b2d-9e71-42d22e4212ba",
   "metadata": {},
   "outputs": [],
   "source": []
  }
 ],
 "metadata": {
  "kernelspec": {
   "display_name": "Python 3 (ipykernel)",
   "language": "python",
   "name": "python3"
  },
  "language_info": {
   "codemirror_mode": {
    "name": "ipython",
    "version": 3
   },
   "file_extension": ".py",
   "mimetype": "text/x-python",
   "name": "python",
   "nbconvert_exporter": "python",
   "pygments_lexer": "ipython3",
   "version": "3.12.4"
  }
 },
 "nbformat": 4,
 "nbformat_minor": 5
}
