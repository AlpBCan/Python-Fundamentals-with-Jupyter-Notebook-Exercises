{
 "cells": [
  {
   "cell_type": "markdown",
   "id": "4eabb370-2ef5-4f40-ab4e-753e33a4ad85",
   "metadata": {},
   "source": [
    "# EXERCISE 6: FUNCTIONS"
   ]
  },
  {
   "cell_type": "markdown",
   "id": "93f0ffc7-73b4-4fe7-ac34-e67f06725465",
   "metadata": {},
   "source": [
    "### Define a function that prints 'Hello' and call it."
   ]
  },
  {
   "cell_type": "code",
   "execution_count": null,
   "id": "3cedcea1-0b67-4b3a-afe3-1a6ae7ab70f7",
   "metadata": {},
   "outputs": [],
   "source": [
    "def hello():\n",
    "    print('Hello')\n",
    "\n",
    "hello()"
   ]
  },
  {
   "cell_type": "markdown",
   "id": "b02b5ecd-1cd5-4621-9056-30535f971d67",
   "metadata": {},
   "source": [
    "### Define a function that takes a name as argument and greets that name and call it."
   ]
  },
  {
   "cell_type": "code",
   "execution_count": null,
   "id": "03c7cd11-eea3-447c-90b2-14b3ee70ba84",
   "metadata": {},
   "outputs": [],
   "source": [
    "def greet(name):\n",
    "    print(f'Hello, {name}!')\n",
    "\n",
    "greet('George')    "
   ]
  },
  {
   "cell_type": "markdown",
   "id": "a0cd0f94-c2be-4adb-ab3a-db30f2930e08",
   "metadata": {},
   "source": [
    "### Define a function that greets someone and than introduces you. It will take two arguments."
   ]
  },
  {
   "cell_type": "code",
   "execution_count": null,
   "id": "3d0547ab-dfa1-4d67-805a-fe402066a0cc",
   "metadata": {},
   "outputs": [],
   "source": [
    "def greet(your_name, my_name):\n",
    "    print(f'Hello {your_name}, my name is {my_name}.')\n",
    "\n",
    "greet('Marry', 'John')"
   ]
  },
  {
   "cell_type": "markdown",
   "id": "90154789-b9ab-4329-9f18-e714f987352b",
   "metadata": {},
   "source": [
    "### Define a function to print the best programming language. Make it 'Python' by default and call it with other languages you want."
   ]
  },
  {
   "cell_type": "code",
   "execution_count": null,
   "id": "c7882a7f-8797-4015-b5ba-2f838f0b6bf7",
   "metadata": {},
   "outputs": [],
   "source": [
    "def language(lang='Python'):\n",
    "    print(f'{lang} is the best.')\n",
    "\n",
    "language()\n",
    "language('Java')"
   ]
  },
  {
   "cell_type": "markdown",
   "id": "916304b8-eb43-4720-9540-1f3cb8a309c7",
   "metadata": {},
   "source": [
    "### Define a function that returns the square of a number."
   ]
  },
  {
   "cell_type": "code",
   "execution_count": null,
   "id": "973dd298-064a-4b56-8aaa-e231c4b603e0",
   "metadata": {},
   "outputs": [],
   "source": [
    "def square(x):\n",
    "    return x**2\n",
    "\n",
    "square(4)"
   ]
  },
  {
   "cell_type": "markdown",
   "id": "fbf67188-ee2d-4a40-8128-7a8df68b1a15",
   "metadata": {},
   "source": [
    "### Define a funtion that multiples 3 numbers."
   ]
  },
  {
   "cell_type": "code",
   "execution_count": null,
   "id": "f8072e5f-aa4d-4757-b54b-1f0c9e9a51d0",
   "metadata": {},
   "outputs": [],
   "source": [
    "def multiply(x, y, z):\n",
    "    return x * y * z\n",
    "\n",
    "multiply(3, 5, 10)"
   ]
  },
  {
   "cell_type": "markdown",
   "id": "9b97c642-c910-4903-a55c-5fcc44839489",
   "metadata": {},
   "source": [
    "### Define a function that takes a list as argument and sums the numbers in the list."
   ]
  },
  {
   "cell_type": "code",
   "execution_count": null,
   "id": "c3a1be1d-45f8-45cc-bf61-8be36d09a786",
   "metadata": {},
   "outputs": [],
   "source": [
    "def sum(numlist):\n",
    "    result = 0\n",
    "    for number in numlist:\n",
    "        result += number\n",
    "    return result\n",
    "\n",
    "my_list = [3, 5, 7, 9]\n",
    "sum(my_list)"
   ]
  },
  {
   "cell_type": "markdown",
   "id": "89796f4b-469a-4bbb-a9c8-f953a5ee463c",
   "metadata": {},
   "source": [
    "### Define a function that multiplies any number of numbers (*args)."
   ]
  },
  {
   "cell_type": "code",
   "execution_count": null,
   "id": "079a654a-8946-43c4-9589-f9dd9e75394a",
   "metadata": {},
   "outputs": [],
   "source": [
    "def multiply(*numbers):\n",
    "    result = 1\n",
    "    for number in numbers:\n",
    "        result *= number\n",
    "    return result\n",
    "\n",
    "multiply(1,2,3,4,5)"
   ]
  },
  {
   "cell_type": "markdown",
   "id": "f16be93b-c470-4151-a013-3119a7e27986",
   "metadata": {},
   "source": [
    "### Define a function that takes any number of your features and prints them(**kwargs)."
   ]
  },
  {
   "cell_type": "code",
   "execution_count": null,
   "id": "6f6c8bc3-fc9a-4b47-bd0c-12345ad0d85b",
   "metadata": {},
   "outputs": [],
   "source": [
    "def introduce(**features):\n",
    "    for key, value in features.items():\n",
    "        print(f'{key}: {value}')\n",
    "\n",
    "introduce(name='John', age='35', job='Realtor', married=False, height='180cm', weight='85kg')"
   ]
  },
  {
   "cell_type": "markdown",
   "id": "3e1c09e1-bb87-463d-8231-3744abaa0ce9",
   "metadata": {},
   "source": [
    "### Define a variable and print it from inside of a function."
   ]
  },
  {
   "cell_type": "code",
   "execution_count": null,
   "id": "b8e99932-4664-4bd4-80d0-baa009d405b6",
   "metadata": {},
   "outputs": [],
   "source": [
    "x = 10\n",
    "\n",
    "def func():\n",
    "    print(x)\n",
    "\n",
    "func()"
   ]
  },
  {
   "cell_type": "markdown",
   "id": "151d2241-2add-4310-8b0a-e3cf3a9ce2bd",
   "metadata": {},
   "source": [
    "### Define a variable inside of a function. Call the function first. Try to print the variable outside of the function."
   ]
  },
  {
   "cell_type": "code",
   "execution_count": null,
   "id": "9f66c249-a7d4-4567-b196-df7c1a59e97f",
   "metadata": {},
   "outputs": [],
   "source": [
    "def func():\n",
    "    y = 10\n",
    "\n",
    "func()\n",
    "# print(y)"
   ]
  },
  {
   "cell_type": "markdown",
   "id": "082b1911-63f3-4bb3-97c3-1aec4c5b7f29",
   "metadata": {},
   "source": [
    "### Add someting to this code to fix the issue."
   ]
  },
  {
   "cell_type": "code",
   "execution_count": null,
   "id": "2a93db2a-4e16-419d-b3ed-a76e9a6b1d1b",
   "metadata": {},
   "outputs": [],
   "source": [
    "def func():\n",
    "    global z\n",
    "    z = 10\n",
    "\n",
    "func()\n",
    "print(x)"
   ]
  },
  {
   "cell_type": "markdown",
   "id": "496e3fb0-8698-4bfc-9f33-2eed60d68fcc",
   "metadata": {},
   "source": [
    "### Create a lambda expression to take the square of a number. Assign it to a variable and call the variable."
   ]
  },
  {
   "cell_type": "code",
   "execution_count": null,
   "id": "c0b3d42f-3f94-41bc-9647-9563a568fc39",
   "metadata": {},
   "outputs": [],
   "source": [
    "take_square = lambda x : x**2\n",
    "take_square(2)"
   ]
  },
  {
   "cell_type": "markdown",
   "id": "5d316c5a-426c-4cbd-afa5-af6705904af4",
   "metadata": {},
   "source": [
    "### Do the same thing to convert a string to a title."
   ]
  },
  {
   "cell_type": "code",
   "execution_count": null,
   "id": "aabe6bf9-37b5-444b-a6b7-ba45f78419cc",
   "metadata": {},
   "outputs": [],
   "source": [
    "make_title = lambda mystring : mystring.title()\n",
    "make_title('python basics tutorial')"
   ]
  },
  {
   "cell_type": "code",
   "execution_count": null,
   "id": "6d22c1a3-a41b-4df3-a539-47e41c48c0f0",
   "metadata": {},
   "outputs": [],
   "source": [
    "my_list = [5, 10, 15, 20, 25, 30, 35, 40, 45, 50]"
   ]
  },
  {
   "cell_type": "markdown",
   "id": "e90769d3-e31d-4436-9ded-f98dff4a75be",
   "metadata": {},
   "source": [
    "### Use map() function with a lambda expression to divide every item in above list by 5(result should be an integer). Assign result to another variable and call it."
   ]
  },
  {
   "cell_type": "code",
   "execution_count": null,
   "id": "e8dd4aaa-da01-4612-b8e2-6393c091eb47",
   "metadata": {},
   "outputs": [],
   "source": [
    "divided_list = map(lambda x : x // 5, my_list)\n",
    "divided_list"
   ]
  },
  {
   "cell_type": "markdown",
   "id": "238b636f-2ef4-42b5-8c13-9610d26d43a1",
   "metadata": {},
   "source": [
    "### If you cannot see the result when you call the cariable add someting else to your code above and convert the result to a list."
   ]
  },
  {
   "cell_type": "code",
   "execution_count": null,
   "id": "59011088-fbe0-4c6e-9c7b-21be7ddb9066",
   "metadata": {},
   "outputs": [],
   "source": [
    "divided_list = list(map(lambda x : x // 5, my_list))\n",
    "divided_list"
   ]
  },
  {
   "cell_type": "markdown",
   "id": "4c2dab5e-487d-4a06-952f-f22330689df0",
   "metadata": {},
   "source": [
    "### Use filter() function with a lambda expression to obtain a list of numbers dividible by 10 from my_list."
   ]
  },
  {
   "cell_type": "code",
   "execution_count": null,
   "id": "5a2f8464-4602-4467-a6f3-9b1c0e18da77",
   "metadata": {},
   "outputs": [],
   "source": [
    "dividible_list = list(filter(lambda x : x % 10 == 0, my_list))\n",
    "dividible_list"
   ]
  },
  {
   "cell_type": "markdown",
   "id": "7e79555a-dce7-4b38-b3f8-299cf115c968",
   "metadata": {},
   "source": [
    "### Write a function that returns the maximum number in a list."
   ]
  },
  {
   "cell_type": "code",
   "execution_count": null,
   "id": "c0fc9b33-169e-450f-8aba-3ce1eea53573",
   "metadata": {},
   "outputs": [],
   "source": [
    "def find_max(my_list):\n",
    "    max_number = my_list[0]\n",
    "    for number in my_list:\n",
    "        if number > max_number:\n",
    "            max_number = number\n",
    "    return max_number\n",
    "\n",
    "find_max([3, 5, 10, 0, 15, 22, 20, -15])"
   ]
  },
  {
   "cell_type": "markdown",
   "id": "62a248a7-9858-47ec-a74b-a981ea4c3805",
   "metadata": {},
   "source": [
    "### Write a function that returns the list of factors of a given number."
   ]
  },
  {
   "cell_type": "code",
   "execution_count": null,
   "id": "903d744f-60ac-488f-986c-7615efc286ec",
   "metadata": {},
   "outputs": [],
   "source": [
    "def find_factors(number):\n",
    "    factors = []\n",
    "    for i in range(1, number + 1):\n",
    "        if number % i == 0:\n",
    "            factors.append(i)\n",
    "    return factors\n",
    "\n",
    "# def find_factors(number):\n",
    "#     if number == 1:\n",
    "#         return 1\n",
    "#     factors = []\n",
    "#     for i in range(1, number // 2 + 1):\n",
    "#         if number % i == 0:\n",
    "#             factors.append(i)\n",
    "#     return factors\n",
    "\n",
    "find_factors(1)"
   ]
  },
  {
   "cell_type": "markdown",
   "id": "1d46f2ac-3201-4f7a-be15-d69af83ad775",
   "metadata": {},
   "source": [
    "### Write a function that takes an element and a list as arguments and returns the number of occurences of the element in the list."
   ]
  },
  {
   "cell_type": "code",
   "execution_count": null,
   "id": "ec59c3f6-a92e-4b25-acf1-66349c6c4652",
   "metadata": {},
   "outputs": [],
   "source": [
    "def occurances(my_list, my_element):\n",
    "    count = 0\n",
    "    for element in my_list:\n",
    "        if element == my_element:\n",
    "            count += 1\n",
    "    return count\n",
    "\n",
    "occurances([1,2,3,4,4,4,5,6,7,7,2,3,4,5,2,1,5], 4)"
   ]
  },
  {
   "cell_type": "markdown",
   "id": "f8b2b1e9-b6c9-4f58-92d6-5c6ee1727eb6",
   "metadata": {},
   "source": [
    "### Write a function that sorts a list of numbers."
   ]
  },
  {
   "cell_type": "code",
   "execution_count": null,
   "id": "16c41cbd-9d2f-4706-87a3-a8c203167354",
   "metadata": {},
   "outputs": [],
   "source": [
    "numbers = [35, 54, 10, 0, 3, 45, 11, 68, 22, 90, 81, 2]\n",
    "\n",
    "def sort_numbers(numbers_list):\n",
    "    n = len(numbers_list)\n",
    "   \n",
    "    for i in range(n):\n",
    "        for j in range(0, n - i - 1):\n",
    "            if numbers_list[j] > numbers_list[j + 1]:\n",
    "                numbers_list[j], numbers_list[j + 1] = numbers_list[j + 1], numbers_list[j]\n",
    "            print(numbers_list)\n",
    "            \n",
    "        print('\\n\\n')\n",
    "    return numbers_list\n",
    "\n",
    "sort_numbers(numbers)"
   ]
  },
  {
   "cell_type": "code",
   "execution_count": null,
   "id": "81eb70fa-6037-4622-b548-fe1ef093ed97",
   "metadata": {},
   "outputs": [],
   "source": []
  }
 ],
 "metadata": {
  "kernelspec": {
   "display_name": "Python 3 (ipykernel)",
   "language": "python",
   "name": "python3"
  },
  "language_info": {
   "codemirror_mode": {
    "name": "ipython",
    "version": 3
   },
   "file_extension": ".py",
   "mimetype": "text/x-python",
   "name": "python",
   "nbconvert_exporter": "python",
   "pygments_lexer": "ipython3",
   "version": "3.12.4"
  }
 },
 "nbformat": 4,
 "nbformat_minor": 5
}
