{
 "cells": [
  {
   "cell_type": "markdown",
   "id": "4eabb370-2ef5-4f40-ab4e-753e33a4ad85",
   "metadata": {},
   "source": [
    "# EXERCISE 6: FUNCTIONS"
   ]
  },
  {
   "cell_type": "markdown",
   "id": "93f0ffc7-73b4-4fe7-ac34-e67f06725465",
   "metadata": {},
   "source": [
    "### Define a function that prints 'Hello' and call it."
   ]
  },
  {
   "cell_type": "code",
   "execution_count": null,
   "id": "9f5446f8-edb4-4764-907d-3829c60aea3f",
   "metadata": {},
   "outputs": [],
   "source": []
  },
  {
   "cell_type": "markdown",
   "id": "b02b5ecd-1cd5-4621-9056-30535f971d67",
   "metadata": {},
   "source": [
    "### Define a function that takes a name as argument and greets that name and call it."
   ]
  },
  {
   "cell_type": "code",
   "execution_count": null,
   "id": "ad055d89-b3eb-46a4-8f9c-65e1f19ac3a0",
   "metadata": {},
   "outputs": [],
   "source": []
  },
  {
   "cell_type": "markdown",
   "id": "a0cd0f94-c2be-4adb-ab3a-db30f2930e08",
   "metadata": {},
   "source": [
    "### Define a function that greets someone and than introduces you. It will take two arguments."
   ]
  },
  {
   "cell_type": "code",
   "execution_count": null,
   "id": "a3a7840f-3e15-41cf-a098-eb26b8c6ed6c",
   "metadata": {},
   "outputs": [],
   "source": []
  },
  {
   "cell_type": "markdown",
   "id": "90154789-b9ab-4329-9f18-e714f987352b",
   "metadata": {},
   "source": [
    "### Define a function to print the best programming language. Make it 'Python' by default and call it with other languages you want."
   ]
  },
  {
   "cell_type": "code",
   "execution_count": null,
   "id": "b2d554e5-c444-4cda-b83e-6db7f206a364",
   "metadata": {},
   "outputs": [],
   "source": []
  },
  {
   "cell_type": "markdown",
   "id": "916304b8-eb43-4720-9540-1f3cb8a309c7",
   "metadata": {},
   "source": [
    "### Define a function that returns the square of a number."
   ]
  },
  {
   "cell_type": "code",
   "execution_count": null,
   "id": "c0086ea6-2ce4-48f3-8c57-739aaee29515",
   "metadata": {},
   "outputs": [],
   "source": []
  },
  {
   "cell_type": "markdown",
   "id": "fbf67188-ee2d-4a40-8128-7a8df68b1a15",
   "metadata": {},
   "source": [
    "### Define a funtion that multiples 3 numbers."
   ]
  },
  {
   "cell_type": "code",
   "execution_count": null,
   "id": "2313765c-547a-4298-9b4c-d9f6f41f6d62",
   "metadata": {},
   "outputs": [],
   "source": []
  },
  {
   "cell_type": "markdown",
   "id": "9b97c642-c910-4903-a55c-5fcc44839489",
   "metadata": {},
   "source": [
    "### Define a function that takes a list as argument and sums the numbers in the list."
   ]
  },
  {
   "cell_type": "code",
   "execution_count": null,
   "id": "80621e83-ef52-4d6e-b8a1-56557e30bc7b",
   "metadata": {},
   "outputs": [],
   "source": []
  },
  {
   "cell_type": "markdown",
   "id": "89796f4b-469a-4bbb-a9c8-f953a5ee463c",
   "metadata": {},
   "source": [
    "### Define a function that multiplies any number of numbers (*args)."
   ]
  },
  {
   "cell_type": "code",
   "execution_count": null,
   "id": "7e4efb3c-4899-4d78-83a6-e1a3f27c3f15",
   "metadata": {},
   "outputs": [],
   "source": []
  },
  {
   "cell_type": "markdown",
   "id": "f16be93b-c470-4151-a013-3119a7e27986",
   "metadata": {},
   "source": [
    "### Define a function that takes any number of your features and prints them(**kwargs)."
   ]
  },
  {
   "cell_type": "code",
   "execution_count": null,
   "id": "80238fe0-c643-4a7b-a475-ba4e95e3752a",
   "metadata": {},
   "outputs": [],
   "source": []
  },
  {
   "cell_type": "markdown",
   "id": "3e1c09e1-bb87-463d-8231-3744abaa0ce9",
   "metadata": {},
   "source": [
    "### Define a variable and print it from inside of a function."
   ]
  },
  {
   "cell_type": "code",
   "execution_count": null,
   "id": "a6d8606e-39e1-440c-8b5d-9bd14bd7ef6c",
   "metadata": {},
   "outputs": [],
   "source": []
  },
  {
   "cell_type": "markdown",
   "id": "151d2241-2add-4310-8b0a-e3cf3a9ce2bd",
   "metadata": {},
   "source": [
    "### Define a variable inside of a function. Call the function first. Try to print the variable outside of the function."
   ]
  },
  {
   "cell_type": "code",
   "execution_count": null,
   "id": "ee54a036-ec13-474e-ba9d-af24197ab399",
   "metadata": {},
   "outputs": [],
   "source": []
  },
  {
   "cell_type": "markdown",
   "id": "082b1911-63f3-4bb3-97c3-1aec4c5b7f29",
   "metadata": {},
   "source": [
    "### Add someting to this code to fix the issue."
   ]
  },
  {
   "cell_type": "code",
   "execution_count": null,
   "id": "be277361-e8e0-4227-bc21-e1870accac58",
   "metadata": {},
   "outputs": [],
   "source": []
  },
  {
   "cell_type": "markdown",
   "id": "496e3fb0-8698-4bfc-9f33-2eed60d68fcc",
   "metadata": {},
   "source": [
    "### Create a lambda expression to take the square of a number. Assign it to a variable and call the variable."
   ]
  },
  {
   "cell_type": "code",
   "execution_count": null,
   "id": "a6bf9275-7069-4b0d-af8c-c43bc50d4c66",
   "metadata": {},
   "outputs": [],
   "source": []
  },
  {
   "cell_type": "markdown",
   "id": "5d316c5a-426c-4cbd-afa5-af6705904af4",
   "metadata": {},
   "source": [
    "### Do the same thing to convert a string to a title."
   ]
  },
  {
   "cell_type": "code",
   "execution_count": null,
   "id": "a9f7cd48-2f55-4f5e-9968-2cef9973a17c",
   "metadata": {},
   "outputs": [],
   "source": []
  },
  {
   "cell_type": "code",
   "execution_count": null,
   "id": "6d22c1a3-a41b-4df3-a539-47e41c48c0f0",
   "metadata": {},
   "outputs": [],
   "source": [
    "my_list = [5, 10, 15, 20, 25, 30, 35, 40, 45, 50]"
   ]
  },
  {
   "cell_type": "markdown",
   "id": "e90769d3-e31d-4436-9ded-f98dff4a75be",
   "metadata": {},
   "source": [
    "### Use map() function with a lambda expression to divide every item in above list by 5(result should be an integer). Assign result to another variable and call it."
   ]
  },
  {
   "cell_type": "code",
   "execution_count": null,
   "id": "94025f3a-6330-4df9-8617-f830190d44f3",
   "metadata": {},
   "outputs": [],
   "source": []
  },
  {
   "cell_type": "markdown",
   "id": "238b636f-2ef4-42b5-8c13-9610d26d43a1",
   "metadata": {},
   "source": [
    "### If you cannot see the result when you call the cariable add someting else to your code above and convert the result to a list."
   ]
  },
  {
   "cell_type": "code",
   "execution_count": null,
   "id": "b97a4a4e-6908-41e5-9f98-b305f8f52902",
   "metadata": {},
   "outputs": [],
   "source": []
  },
  {
   "cell_type": "markdown",
   "id": "4c2dab5e-487d-4a06-952f-f22330689df0",
   "metadata": {},
   "source": [
    "### Use filter() function with a lambda expression to obtain a list of numbers dividible by 10 from my_list."
   ]
  },
  {
   "cell_type": "code",
   "execution_count": null,
   "id": "a642baa9-623b-4a49-b46b-93f7e1babb31",
   "metadata": {},
   "outputs": [],
   "source": []
  },
  {
   "cell_type": "markdown",
   "id": "7e79555a-dce7-4b38-b3f8-299cf115c968",
   "metadata": {},
   "source": [
    "### Write a function that returns the maximum number in a list."
   ]
  },
  {
   "cell_type": "code",
   "execution_count": null,
   "id": "417ec2b5-3e78-4958-a0f5-4fdf8f19e4d5",
   "metadata": {},
   "outputs": [],
   "source": []
  },
  {
   "cell_type": "markdown",
   "id": "62a248a7-9858-47ec-a74b-a981ea4c3805",
   "metadata": {},
   "source": [
    "### Write a function that returns the list of factors of a given number."
   ]
  },
  {
   "cell_type": "code",
   "execution_count": null,
   "id": "91f33d38-9b05-48e8-a9ce-f8b1f56d49d9",
   "metadata": {},
   "outputs": [],
   "source": []
  },
  {
   "cell_type": "markdown",
   "id": "1d46f2ac-3201-4f7a-be15-d69af83ad775",
   "metadata": {},
   "source": [
    "### Write a function that takes an element and a list as arguments and returns the number of occurences of the element in the list."
   ]
  },
  {
   "cell_type": "code",
   "execution_count": null,
   "id": "7427f476-46f5-4f6e-94e3-4ff90bf61790",
   "metadata": {},
   "outputs": [],
   "source": []
  },
  {
   "cell_type": "markdown",
   "id": "f8b2b1e9-b6c9-4f58-92d6-5c6ee1727eb6",
   "metadata": {},
   "source": [
    "### Write a function that sorts a list of numbers."
   ]
  },
  {
   "cell_type": "code",
   "execution_count": null,
   "id": "5e3fcbbc-ca6d-4a3b-bbc3-43383ca5767e",
   "metadata": {},
   "outputs": [],
   "source": []
  }
 ],
 "metadata": {
  "kernelspec": {
   "display_name": "Python 3 (ipykernel)",
   "language": "python",
   "name": "python3"
  },
  "language_info": {
   "codemirror_mode": {
    "name": "ipython",
    "version": 3
   },
   "file_extension": ".py",
   "mimetype": "text/x-python",
   "name": "python",
   "nbconvert_exporter": "python",
   "pygments_lexer": "ipython3",
   "version": "3.12.4"
  }
 },
 "nbformat": 4,
 "nbformat_minor": 5
}
