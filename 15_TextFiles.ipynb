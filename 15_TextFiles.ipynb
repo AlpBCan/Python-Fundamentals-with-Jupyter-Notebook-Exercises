{
 "cells": [
  {
   "cell_type": "markdown",
   "id": "31292112-4ea4-47af-982e-08d6edefbdd7",
   "metadata": {},
   "source": [
    "# Open, Read, Write Text Files"
   ]
  },
  {
   "cell_type": "markdown",
   "id": "e1270093-c1b6-48e4-9e48-181e8c761ab2",
   "metadata": {},
   "source": [
    "### Read"
   ]
  },
  {
   "cell_type": "code",
   "execution_count": null,
   "id": "1a6a6039-003c-4b05-a2e3-e6856a4ad910",
   "metadata": {},
   "outputs": [],
   "source": [
    "file = open('file.txt', 'r')\n",
    "content = file.read()\n",
    "file.close()\n",
    "print(content)"
   ]
  },
  {
   "cell_type": "code",
   "execution_count": null,
   "id": "f4405b0e-69ad-4538-82da-b1dc11a4b1da",
   "metadata": {},
   "outputs": [],
   "source": [
    "with open('file.txt', 'r') as f:\n",
    "    content = f.read()\n",
    "    print(content)"
   ]
  },
  {
   "cell_type": "markdown",
   "id": "820f7629-24b1-4abf-9e02-84ba8fd7dd08",
   "metadata": {},
   "source": [
    "### Write"
   ]
  },
  {
   "cell_type": "code",
   "execution_count": null,
   "id": "eea06e13-ca80-438c-829f-69665e5ac89c",
   "metadata": {},
   "outputs": [],
   "source": [
    "with open('new_file.txt', 'w') as f:\n",
    "    f.write('This is my new text\\n')"
   ]
  },
  {
   "cell_type": "markdown",
   "id": "d7f85c5b-3b54-45db-8308-ab61fdfd0cc5",
   "metadata": {},
   "source": [
    "##### writelines"
   ]
  },
  {
   "cell_type": "code",
   "execution_count": null,
   "id": "24dc5ddd-2250-4818-9d4b-c26113968cd0",
   "metadata": {},
   "outputs": [],
   "source": [
    "lines = ['line 1\\n', 'line 2\\n', 'line 3\\n']\n",
    "with open('new_file.txt', 'w') as f:\n",
    "    f.writelines(lines)"
   ]
  },
  {
   "cell_type": "markdown",
   "id": "baa4a422-1512-49bc-9ed1-9aee50b6f7d2",
   "metadata": {},
   "source": [
    "##### append"
   ]
  },
  {
   "cell_type": "code",
   "execution_count": null,
   "id": "9ffb48c6-1b44-4a18-a154-578d3989a045",
   "metadata": {},
   "outputs": [],
   "source": [
    "with open('new_file.txt', 'a') as f:\n",
    "    f.write('line 4\\n')"
   ]
  },
  {
   "cell_type": "markdown",
   "id": "604f75a5-e219-4b20-9d61-c08f702800d6",
   "metadata": {},
   "source": [
    "##### read(), readline(), readlines() and seek()"
   ]
  },
  {
   "cell_type": "code",
   "execution_count": null,
   "id": "7beece53-2a06-4f99-a05e-c7c471f27f40",
   "metadata": {},
   "outputs": [],
   "source": [
    "with open('new_file.txt', 'r') as f:\n",
    "    content = f.read()  \n",
    "    print(content)\n",
    "\n",
    "    f.seek(0) \n",
    "    line = f.readline()  \n",
    "    print(line)\n",
    "\n",
    "    f.seek(0) \n",
    "    lines = f.readlines()  \n",
    "    print(lines)"
   ]
  }
 ],
 "metadata": {
  "kernelspec": {
   "display_name": "Python 3 (ipykernel)",
   "language": "python",
   "name": "python3"
  },
  "language_info": {
   "codemirror_mode": {
    "name": "ipython",
    "version": 3
   },
   "file_extension": ".py",
   "mimetype": "text/x-python",
   "name": "python",
   "nbconvert_exporter": "python",
   "pygments_lexer": "ipython3",
   "version": "3.12.4"
  }
 },
 "nbformat": 4,
 "nbformat_minor": 5
}
