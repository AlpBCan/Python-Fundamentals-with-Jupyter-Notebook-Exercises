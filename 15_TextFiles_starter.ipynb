{
 "cells": [
  {
   "cell_type": "markdown",
   "id": "31292112-4ea4-47af-982e-08d6edefbdd7",
   "metadata": {},
   "source": [
    "# Open, Read, Write Text Files"
   ]
  },
  {
   "cell_type": "markdown",
   "id": "e1270093-c1b6-48e4-9e48-181e8c761ab2",
   "metadata": {},
   "source": [
    "### Read"
   ]
  },
  {
   "cell_type": "code",
   "execution_count": null,
   "id": "7d9d1baa-25d5-4217-b0fa-d41e5638172b",
   "metadata": {},
   "outputs": [],
   "source": []
  },
  {
   "cell_type": "markdown",
   "id": "820f7629-24b1-4abf-9e02-84ba8fd7dd08",
   "metadata": {},
   "source": [
    "### Write"
   ]
  },
  {
   "cell_type": "code",
   "execution_count": null,
   "id": "6a3e97ce-c281-44ec-b26f-9b336389c7aa",
   "metadata": {},
   "outputs": [],
   "source": []
  },
  {
   "cell_type": "markdown",
   "id": "d7f85c5b-3b54-45db-8308-ab61fdfd0cc5",
   "metadata": {},
   "source": [
    "##### writelines"
   ]
  },
  {
   "cell_type": "code",
   "execution_count": null,
   "id": "2d5a439c-4049-4c04-9ee0-bbd0f3e2e1ce",
   "metadata": {},
   "outputs": [],
   "source": []
  },
  {
   "cell_type": "markdown",
   "id": "baa4a422-1512-49bc-9ed1-9aee50b6f7d2",
   "metadata": {},
   "source": [
    "##### append"
   ]
  },
  {
   "cell_type": "code",
   "execution_count": null,
   "id": "17670f57-0550-410f-8f1e-92d746882e3b",
   "metadata": {},
   "outputs": [],
   "source": []
  },
  {
   "cell_type": "markdown",
   "id": "604f75a5-e219-4b20-9d61-c08f702800d6",
   "metadata": {},
   "source": [
    "##### read(), readline(), readlines() and seek()"
   ]
  },
  {
   "cell_type": "code",
   "execution_count": null,
   "id": "2064fec0-83fb-4508-a985-198a17c92ffe",
   "metadata": {},
   "outputs": [],
   "source": []
  }
 ],
 "metadata": {
  "kernelspec": {
   "display_name": "Python 3 (ipykernel)",
   "language": "python",
   "name": "python3"
  },
  "language_info": {
   "codemirror_mode": {
    "name": "ipython",
    "version": 3
   },
   "file_extension": ".py",
   "mimetype": "text/x-python",
   "name": "python",
   "nbconvert_exporter": "python",
   "pygments_lexer": "ipython3",
   "version": "3.12.4"
  }
 },
 "nbformat": 4,
 "nbformat_minor": 5
}
