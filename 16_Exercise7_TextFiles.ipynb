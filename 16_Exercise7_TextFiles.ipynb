{
 "cells": [
  {
   "cell_type": "markdown",
   "id": "6958f5b5-a9ca-4f64-a122-e089bec4257b",
   "metadata": {},
   "source": [
    "# EXERCISE 7 - TEXT FILES"
   ]
  },
  {
   "cell_type": "markdown",
   "id": "beee464b-5c89-4ade-91cf-53ca4e226260",
   "metadata": {},
   "source": [
    "### Without using 'with', create a text file in your current folder, name it my_file, write your name to it and close the file."
   ]
  },
  {
   "cell_type": "code",
   "execution_count": null,
   "id": "21edc186-415e-48f8-b9e1-9280f982ea2c",
   "metadata": {},
   "outputs": [],
   "source": [
    "open('my_file.txt', 'w')"
   ]
  },
  {
   "cell_type": "code",
   "execution_count": null,
   "id": "1ecfb0fc-391a-43b8-9407-d2d2c70a4f2e",
   "metadata": {},
   "outputs": [],
   "source": [
    "my_file = open('my_file.txt', 'w')\n",
    "my_file.write('John')\n",
    "my_file.close()"
   ]
  },
  {
   "cell_type": "markdown",
   "id": "df618d01-0d1f-491f-9e71-678780cec633",
   "metadata": {},
   "source": [
    "### Using with open, overwrite the text file and write your name, age, city in seperate lines."
   ]
  },
  {
   "cell_type": "code",
   "execution_count": null,
   "id": "376e4caf-4fb3-4a1a-8ce6-705cedf66f65",
   "metadata": {},
   "outputs": [],
   "source": [
    "with open('my_file.txt', 'w') as f:\n",
    "    f.write('John\\n')\n",
    "    f.write('20\\n')\n",
    "    f.write('Madrid\\n')"
   ]
  },
  {
   "cell_type": "markdown",
   "id": "d774745c-2288-4864-81c1-e951646d467b",
   "metadata": {},
   "source": [
    "### Add your job info to the existing text file"
   ]
  },
  {
   "cell_type": "code",
   "execution_count": null,
   "id": "6a3b94cd-4fa0-410c-82f3-b29ffbcb0d21",
   "metadata": {},
   "outputs": [],
   "source": [
    "with open('my_file.txt', 'a') as f:\n",
    "    f.write('student\\n')"
   ]
  },
  {
   "cell_type": "markdown",
   "id": "292cc54e-b569-4379-91ef-db8313191341",
   "metadata": {},
   "source": [
    "### Read the text file and add the info at lines to a list. Do this with both read and readlines seperately."
   ]
  },
  {
   "cell_type": "code",
   "execution_count": null,
   "id": "a543ff90-3c4e-4485-ae07-3ef46d9e22d3",
   "metadata": {},
   "outputs": [],
   "source": [
    "with open('my_file.txt', 'r') as f:\n",
    "    content = f.read()\n",
    "    my_list = content.split('\\n')[:-1]\n",
    "    print(my_list)"
   ]
  },
  {
   "cell_type": "code",
   "execution_count": null,
   "id": "075a5d58-a4cc-454d-a45f-29b11ffaa7cd",
   "metadata": {},
   "outputs": [],
   "source": [
    "with open('my_file.txt', 'r') as f:\n",
    "    my_raw_list = f.readlines()\n",
    "    my_list = []\n",
    "    for item in my_raw_list:\n",
    "        my_list.append(item[:-1])\n",
    "    print(my_list)"
   ]
  },
  {
   "cell_type": "markdown",
   "id": "de00a1ef-d1b4-4e96-a08a-cb0045cde52a",
   "metadata": {},
   "source": [
    "### Take below text and write every word to seperate lines in a text file. Ignore punctuation."
   ]
  },
  {
   "cell_type": "code",
   "execution_count": null,
   "id": "d6fb5ba4-5097-44dc-b700-93a46c04f597",
   "metadata": {},
   "outputs": [],
   "source": [
    "text = 'Lorem ipsum dolor sit amet, consectetur adipiscing elit. Etiam urna mauris, sollicitudin dictum augue sit amet, viverra blandit mi. Sed nulla ligula, vestibulum id lorem eget, tempor congue orci. Aliquam pellentesque molestie ex. Pellentesque convallis ullamcorper risus a lobortis. Aliquam volutpat varius ultrices. Duis tortor orci, iaculis eget dictum quis, scelerisque nec nisl. Phasellus eget nulla eget turpis scelerisque luctus porta sed lectus. Etiam eu est massa. Mauris nec diam in erat hendrerit pulvinar.'"
   ]
  },
  {
   "cell_type": "code",
   "execution_count": null,
   "id": "ca8b029f-30cf-4565-8058-4bd7015872e2",
   "metadata": {},
   "outputs": [],
   "source": [
    "word_list = text.split(' ')\n",
    "with open('words.txt', 'w') as f:\n",
    "    for word in word_list:\n",
    "        f.write(word + '\\n')"
   ]
  },
  {
   "cell_type": "markdown",
   "id": "a852cf5f-6f97-4703-8f3a-0aa46f1ea021",
   "metadata": {},
   "source": [
    "### Open the new text file and print every word you appended."
   ]
  },
  {
   "cell_type": "code",
   "execution_count": null,
   "id": "11b9d394-9389-4ea9-993a-3ae7517e3afb",
   "metadata": {},
   "outputs": [],
   "source": [
    "with open('words.txt', 'r') as f:\n",
    "    words = f.readlines()\n",
    "    for word in words:\n",
    "        print(word)"
   ]
  }
 ],
 "metadata": {
  "kernelspec": {
   "display_name": "Python 3 (ipykernel)",
   "language": "python",
   "name": "python3"
  },
  "language_info": {
   "codemirror_mode": {
    "name": "ipython",
    "version": 3
   },
   "file_extension": ".py",
   "mimetype": "text/x-python",
   "name": "python",
   "nbconvert_exporter": "python",
   "pygments_lexer": "ipython3",
   "version": "3.12.4"
  }
 },
 "nbformat": 4,
 "nbformat_minor": 5
}
