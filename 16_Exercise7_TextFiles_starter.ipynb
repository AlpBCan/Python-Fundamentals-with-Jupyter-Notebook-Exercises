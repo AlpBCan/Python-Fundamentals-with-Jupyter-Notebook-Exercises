{
 "cells": [
  {
   "cell_type": "markdown",
   "id": "6958f5b5-a9ca-4f64-a122-e089bec4257b",
   "metadata": {},
   "source": [
    "# EXERCISE 7 - TEXT FILES"
   ]
  },
  {
   "cell_type": "markdown",
   "id": "beee464b-5c89-4ade-91cf-53ca4e226260",
   "metadata": {},
   "source": [
    "### Without using 'with', create a text file in your current folder, name it my_file, write your name to it and close the file."
   ]
  },
  {
   "cell_type": "code",
   "execution_count": null,
   "id": "390babdd-5aa0-4c49-9623-714537878f30",
   "metadata": {},
   "outputs": [],
   "source": []
  },
  {
   "cell_type": "markdown",
   "id": "df618d01-0d1f-491f-9e71-678780cec633",
   "metadata": {},
   "source": [
    "### Using with open, overwrite the text file and write your name, age, city in seperate lines."
   ]
  },
  {
   "cell_type": "code",
   "execution_count": null,
   "id": "806e871e-1065-4ede-96b9-a258ae028a5b",
   "metadata": {},
   "outputs": [],
   "source": []
  },
  {
   "cell_type": "markdown",
   "id": "d774745c-2288-4864-81c1-e951646d467b",
   "metadata": {},
   "source": [
    "### Add your job info to the existing text file"
   ]
  },
  {
   "cell_type": "code",
   "execution_count": null,
   "id": "a64f1dfd-8018-4395-b2d1-922012940844",
   "metadata": {},
   "outputs": [],
   "source": []
  },
  {
   "cell_type": "markdown",
   "id": "292cc54e-b569-4379-91ef-db8313191341",
   "metadata": {},
   "source": [
    "### Read the text file and add the info at lines to a list. Do this with both read and readlines seperately."
   ]
  },
  {
   "cell_type": "code",
   "execution_count": null,
   "id": "c4a3ed4d-0cf0-4238-8bcf-cd15cd2025a0",
   "metadata": {},
   "outputs": [],
   "source": []
  },
  {
   "cell_type": "markdown",
   "id": "de00a1ef-d1b4-4e96-a08a-cb0045cde52a",
   "metadata": {},
   "source": [
    "### Take below text and write every word to seperate lines in a text file. Ignore punctuation."
   ]
  },
  {
   "cell_type": "code",
   "execution_count": null,
   "id": "d6fb5ba4-5097-44dc-b700-93a46c04f597",
   "metadata": {},
   "outputs": [],
   "source": [
    "text = 'Lorem ipsum dolor sit amet, consectetur adipiscing elit. Etiam urna mauris, sollicitudin dictum augue sit amet, viverra blandit mi. Sed nulla ligula, vestibulum id lorem eget, tempor congue orci. Aliquam pellentesque molestie ex. Pellentesque convallis ullamcorper risus a lobortis. Aliquam volutpat varius ultrices. Duis tortor orci, iaculis eget dictum quis, scelerisque nec nisl. Phasellus eget nulla eget turpis scelerisque luctus porta sed lectus. Etiam eu est massa. Mauris nec diam in erat hendrerit pulvinar.'"
   ]
  },
  {
   "cell_type": "code",
   "execution_count": null,
   "id": "2aec388b-2ac7-430a-8935-717e3ff6bd78",
   "metadata": {},
   "outputs": [],
   "source": []
  },
  {
   "cell_type": "markdown",
   "id": "a852cf5f-6f97-4703-8f3a-0aa46f1ea021",
   "metadata": {},
   "source": [
    "### Open the new text file and print every word you appended."
   ]
  },
  {
   "cell_type": "code",
   "execution_count": null,
   "id": "31486f51-51d0-432f-8754-88cd0239496f",
   "metadata": {},
   "outputs": [],
   "source": []
  }
 ],
 "metadata": {
  "kernelspec": {
   "display_name": "Python 3 (ipykernel)",
   "language": "python",
   "name": "python3"
  },
  "language_info": {
   "codemirror_mode": {
    "name": "ipython",
    "version": 3
   },
   "file_extension": ".py",
   "mimetype": "text/x-python",
   "name": "python",
   "nbconvert_exporter": "python",
   "pygments_lexer": "ipython3",
   "version": "3.12.4"
  }
 },
 "nbformat": 4,
 "nbformat_minor": 5
}
