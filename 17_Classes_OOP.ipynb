{
 "cells": [
  {
   "cell_type": "markdown",
   "id": "9a663ffc-2650-40dd-8603-88dcf13a2951",
   "metadata": {},
   "source": [
    "# Classes - OOP"
   ]
  },
  {
   "cell_type": "markdown",
   "id": "4090b170-2f15-410d-be0b-58b273d10824",
   "metadata": {},
   "source": [
    "Class: Blueprint for creating objects"
   ]
  },
  {
   "cell_type": "markdown",
   "id": "f7e2753e-7692-4192-82e1-702ab0abacc0",
   "metadata": {},
   "source": [
    "Object: Instance of a class. A real world entity created using the class blueprint."
   ]
  },
  {
   "cell_type": "markdown",
   "id": "70c36d67-4ccf-4651-8bf4-73bb25a8968d",
   "metadata": {},
   "source": [
    "Attributes: Data stored inside an object."
   ]
  },
  {
   "cell_type": "markdown",
   "id": "5a779332-68e0-403a-bfce-5c6cedcd9249",
   "metadata": {},
   "source": [
    "Methods: Functions defined inside of a class."
   ]
  },
  {
   "cell_type": "markdown",
   "id": "a11117bf-af5b-47af-99c1-b6ac4d488242",
   "metadata": {},
   "source": [
    "### Defining a class"
   ]
  },
  {
   "cell_type": "code",
   "execution_count": null,
   "id": "3b7c172c-def4-48eb-bd89-2d06bafb946a",
   "metadata": {},
   "outputs": [],
   "source": [
    "class Book:\n",
    "    def __init__(self, title, author):\n",
    "        self.title = title\n",
    "        self.author = author\n",
    "\n",
    "    def show_info(self):\n",
    "        return f'Title: {self.title}, Author: {self.author}'"
   ]
  },
  {
   "cell_type": "markdown",
   "id": "a0d51fc6-44fb-4e8c-999c-84b29305752d",
   "metadata": {},
   "source": [
    "### Creating an instance of a class"
   ]
  },
  {
   "cell_type": "code",
   "execution_count": null,
   "id": "c474b6e3-3a8c-4ee2-9612-6d14a24c1efa",
   "metadata": {},
   "outputs": [],
   "source": [
    "book = Book('Animal Farm', 'George Orwell')"
   ]
  },
  {
   "cell_type": "markdown",
   "id": "2ab699c2-68cb-4afa-8bc3-5c2a4dc2a71a",
   "metadata": {},
   "source": [
    "### Calling attributes and methods"
   ]
  },
  {
   "cell_type": "code",
   "execution_count": null,
   "id": "8b8260ea-cb43-41b6-bc21-b22ab0390ea5",
   "metadata": {},
   "outputs": [],
   "source": [
    "book.title"
   ]
  },
  {
   "cell_type": "code",
   "execution_count": null,
   "id": "0b0d5d16-62d0-4ff2-b6d8-c6085f603db2",
   "metadata": {},
   "outputs": [],
   "source": [
    "book.author"
   ]
  },
  {
   "cell_type": "code",
   "execution_count": null,
   "id": "a659a06b-fba6-4f72-8c9f-a234f889b467",
   "metadata": {},
   "outputs": [],
   "source": [
    "book.show_info()"
   ]
  },
  {
   "cell_type": "markdown",
   "id": "360fbbbe-0b12-4d93-a203-2b7e3bb30457",
   "metadata": {},
   "source": [
    "### Creating another instance"
   ]
  },
  {
   "cell_type": "code",
   "execution_count": null,
   "id": "d8562eba-ede8-4508-aa23-ce35988d6955",
   "metadata": {},
   "outputs": [],
   "source": [
    "another_book = Book('The Brothers Karamazov', 'Fyodor Dostoevsky')\n",
    "another_book.show_info()"
   ]
  },
  {
   "cell_type": "markdown",
   "id": "d572271e-5392-4257-9e91-8dbd25c3e9f6",
   "metadata": {},
   "source": [
    "### 2 Key Concepts: Inheritence and Polymorphism"
   ]
  },
  {
   "cell_type": "markdown",
   "id": "c13f4950-b197-46ba-b06b-00bfea04b8f4",
   "metadata": {},
   "source": [
    "### Inheritance"
   ]
  },
  {
   "cell_type": "markdown",
   "id": "2fff72c0-5de1-43ae-a0e4-9fae858ced72",
   "metadata": {},
   "source": [
    "Allows a class (child class) to inherit attributes and methods from another class (parent class). "
   ]
  },
  {
   "cell_type": "markdown",
   "id": "a0b373e5-c11e-4d4a-9a5f-f998d2a20654",
   "metadata": {},
   "source": [
    "Define a base class"
   ]
  },
  {
   "cell_type": "code",
   "execution_count": null,
   "id": "ad92b268-a08d-4bfe-8840-628a40058a2b",
   "metadata": {},
   "outputs": [],
   "source": [
    "class Employee:\n",
    "    def __init__(self, name, employee_id, salary):\n",
    "        self.name = name\n",
    "        self.employee_id = employee_id\n",
    "        self.salary = salary\n",
    "\n",
    "    def display_info(self):\n",
    "        return f\"Name: {self.name}, Employee ID: {self.employee_id}, Salary: {self.salary}\"\n",
    "\n",
    "    def calculate_annual_salary(self):\n",
    "        return self.salary * 12\n",
    "\n",
    "employee = Employee(\"John Smith\", \"2268\", 2000)\n",
    "print(employee.display_info())  \n",
    "print(employee.calculate_annual_salary())  "
   ]
  },
  {
   "cell_type": "markdown",
   "id": "d0d83931-71c8-4f9a-bfb2-bf25a959d5a9",
   "metadata": {},
   "source": [
    "Define derived classes"
   ]
  },
  {
   "cell_type": "code",
   "execution_count": null,
   "id": "23125da1-cd56-4ceb-bf1d-5482e5a059d2",
   "metadata": {},
   "outputs": [],
   "source": [
    "class Manager(Employee):\n",
    "    def __init__(self, name, employee_id, salary, department):\n",
    "        super().__init__(name, employee_id, salary)  \n",
    "        self.department = department  \n",
    "\n",
    "    \n",
    "    def display_add_info(self):\n",
    "        base_info = super().display_info()\n",
    "        return f\"{base_info}, Department: {self.department}\"\n",
    "    \n",
    "# The Manager class inherits from the Employee class and adds a department attribute. \n",
    "# It also takes attributes of base function display info, creates a new function with it and includes department information\n",
    "\n",
    "\n",
    "class Developer(Employee):\n",
    "    def __init__(self, name, employee_id, salary, programming_languages):\n",
    "        super().__init__(name, employee_id, salary)  \n",
    "        self.programming_languages = programming_languages  \n",
    "\n",
    "    # Takes the same function adds new info to it.\n",
    "    def display_info(self):\n",
    "        base_info = super().display_info()\n",
    "        return f\"{base_info}, Programming Languages: {', '.join(self.programming_languages)}\"\n",
    "\n",
    "# The Developer class inherits from the Employee class and adds a programming_languages attribute. \n",
    "# It also overrides the display_info method to include the programming languages information.\n",
    "\n",
    "\n",
    "manager = Manager(\"Emily Johnson\", \"1526\", 6000, \"IT\")\n",
    "developer = Developer(\"James Anderson\", \"1274\", 4500, [\"Python\", \"Java\", \"C#\"])\n",
    "\n",
    "print(manager.display_info()) \n",
    "print(manager.display_add_info())\n",
    "print(developer.display_info()) \n",
    "print(manager.calculate_annual_salary())"
   ]
  },
  {
   "cell_type": "markdown",
   "id": "181bf098-c50f-454f-bd60-759feb9481a0",
   "metadata": {},
   "source": [
    "### Polymorphism"
   ]
  },
  {
   "cell_type": "markdown",
   "id": "2eb06bdf-867e-4f57-881f-3625841aaa9f",
   "metadata": {},
   "source": [
    "Allows methods to be used in different ways. Single function can have different behaviors based on the object."
   ]
  },
  {
   "cell_type": "markdown",
   "id": "271a8579-26aa-4e46-bf27-e5cb996e9298",
   "metadata": {},
   "source": [
    "Base class"
   ]
  },
  {
   "cell_type": "code",
   "execution_count": null,
   "id": "32c10471-cea9-4568-b349-24cb69063c95",
   "metadata": {},
   "outputs": [],
   "source": [
    "class Animal:\n",
    "    def __init__(self, name):\n",
    "        self.name = name\n",
    "\n",
    "    def make_sound(self):\n",
    "        pass"
   ]
  },
  {
   "cell_type": "markdown",
   "id": "e0065c17-9c89-4b17-8d55-decb39e0b17b",
   "metadata": {},
   "source": [
    "Dog"
   ]
  },
  {
   "cell_type": "code",
   "execution_count": null,
   "id": "47504563-7371-46b3-9dd6-38577b3a5020",
   "metadata": {},
   "outputs": [],
   "source": [
    "class Dog(Animal):\n",
    "    def make_sound(self):\n",
    "        return \"Woof!\""
   ]
  },
  {
   "cell_type": "markdown",
   "id": "c688bd9c-c322-44b2-88d8-481f7fd3f794",
   "metadata": {},
   "source": [
    "Cat"
   ]
  },
  {
   "cell_type": "code",
   "execution_count": null,
   "id": "430635c0-3e39-4f46-9e14-de05775e899d",
   "metadata": {},
   "outputs": [],
   "source": [
    "class Cat(Animal):\n",
    "    def make_sound(self):\n",
    "        return \"Meow!\""
   ]
  },
  {
   "cell_type": "markdown",
   "id": "7231eea9-62df-4171-9373-3f2da004e656",
   "metadata": {},
   "source": [
    "Cow"
   ]
  },
  {
   "cell_type": "code",
   "execution_count": null,
   "id": "db68158e-38cb-4b95-aca7-c893952d337d",
   "metadata": {},
   "outputs": [],
   "source": [
    "class Cow(Animal):\n",
    "    def make_sound(self):\n",
    "        return \"Moo!\""
   ]
  },
  {
   "cell_type": "code",
   "execution_count": null,
   "id": "a33cb701-5a0f-4717-b47e-0a2c1d92c072",
   "metadata": {},
   "outputs": [],
   "source": [
    "dog = Dog(\"Apollo\")\n",
    "cat = Cat(\"Grape\")\n",
    "cow = Cow(\"Cinnamon\")\n",
    "\n",
    "# Polymorphism\n",
    "animals = [dog, cat, cow]\n",
    "\n",
    "for animal in animals:\n",
    "    print(animal.name + \" says \" + animal.make_sound())"
   ]
  }
 ],
 "metadata": {
  "kernelspec": {
   "display_name": "Python 3 (ipykernel)",
   "language": "python",
   "name": "python3"
  },
  "language_info": {
   "codemirror_mode": {
    "name": "ipython",
    "version": 3
   },
   "file_extension": ".py",
   "mimetype": "text/x-python",
   "name": "python",
   "nbconvert_exporter": "python",
   "pygments_lexer": "ipython3",
   "version": "3.12.4"
  }
 },
 "nbformat": 4,
 "nbformat_minor": 5
}
