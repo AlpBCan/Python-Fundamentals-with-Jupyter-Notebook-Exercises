{
 "cells": [
  {
   "cell_type": "markdown",
   "id": "9a663ffc-2650-40dd-8603-88dcf13a2951",
   "metadata": {},
   "source": [
    "# Classes - OOP"
   ]
  },
  {
   "cell_type": "markdown",
   "id": "4090b170-2f15-410d-be0b-58b273d10824",
   "metadata": {},
   "source": [
    "Class: Blueprint for creating objects"
   ]
  },
  {
   "cell_type": "markdown",
   "id": "f7e2753e-7692-4192-82e1-702ab0abacc0",
   "metadata": {},
   "source": [
    "Object: Instance of a class. A real world entity created using the class blueprint."
   ]
  },
  {
   "cell_type": "markdown",
   "id": "70c36d67-4ccf-4651-8bf4-73bb25a8968d",
   "metadata": {},
   "source": [
    "Attributes: Data stored inside an object."
   ]
  },
  {
   "cell_type": "markdown",
   "id": "5a779332-68e0-403a-bfce-5c6cedcd9249",
   "metadata": {},
   "source": [
    "Methods: Functions defined inside of a class."
   ]
  },
  {
   "cell_type": "markdown",
   "id": "a11117bf-af5b-47af-99c1-b6ac4d488242",
   "metadata": {},
   "source": [
    "### Defining a class"
   ]
  },
  {
   "cell_type": "code",
   "execution_count": null,
   "id": "68ee9d4d-851e-4950-8a2c-728ca98940c7",
   "metadata": {},
   "outputs": [],
   "source": []
  },
  {
   "cell_type": "markdown",
   "id": "a0d51fc6-44fb-4e8c-999c-84b29305752d",
   "metadata": {},
   "source": [
    "### Creating an instance of a class"
   ]
  },
  {
   "cell_type": "code",
   "execution_count": null,
   "id": "c8aebe69-75e4-4b30-a287-ccb17daf1fb5",
   "metadata": {},
   "outputs": [],
   "source": []
  },
  {
   "cell_type": "markdown",
   "id": "2ab699c2-68cb-4afa-8bc3-5c2a4dc2a71a",
   "metadata": {},
   "source": [
    "### Calling attributes and methods"
   ]
  },
  {
   "cell_type": "code",
   "execution_count": null,
   "id": "67807088-4f0f-408d-a4e1-c79fa59008b0",
   "metadata": {},
   "outputs": [],
   "source": []
  },
  {
   "cell_type": "markdown",
   "id": "360fbbbe-0b12-4d93-a203-2b7e3bb30457",
   "metadata": {},
   "source": [
    "### Creating another instance"
   ]
  },
  {
   "cell_type": "code",
   "execution_count": null,
   "id": "5f0929ed-5ca4-4fda-90be-e0436491bffc",
   "metadata": {},
   "outputs": [],
   "source": []
  },
  {
   "cell_type": "markdown",
   "id": "d572271e-5392-4257-9e91-8dbd25c3e9f6",
   "metadata": {},
   "source": [
    "### 2 Key Concepts: Inheritence and Polymorphism"
   ]
  },
  {
   "cell_type": "code",
   "execution_count": null,
   "id": "c1f03e62-aa99-48eb-b4c0-58c76a7f3098",
   "metadata": {},
   "outputs": [],
   "source": []
  },
  {
   "cell_type": "markdown",
   "id": "c13f4950-b197-46ba-b06b-00bfea04b8f4",
   "metadata": {},
   "source": [
    "### Inheritance"
   ]
  },
  {
   "cell_type": "markdown",
   "id": "2fff72c0-5de1-43ae-a0e4-9fae858ced72",
   "metadata": {},
   "source": [
    "Allows a class (child class) to inherit attributes and methods from another class (parent class). "
   ]
  },
  {
   "cell_type": "code",
   "execution_count": null,
   "id": "2b4925f4-c7cd-4438-a868-c6b41339723d",
   "metadata": {},
   "outputs": [],
   "source": []
  },
  {
   "cell_type": "markdown",
   "id": "a0b373e5-c11e-4d4a-9a5f-f998d2a20654",
   "metadata": {},
   "source": [
    "Define a base class"
   ]
  },
  {
   "cell_type": "code",
   "execution_count": null,
   "id": "b1ce93a9-7a3a-4941-93ef-6fb22b7d08ff",
   "metadata": {},
   "outputs": [],
   "source": []
  },
  {
   "cell_type": "markdown",
   "id": "d0d83931-71c8-4f9a-bfb2-bf25a959d5a9",
   "metadata": {},
   "source": [
    "Define derived classes"
   ]
  },
  {
   "cell_type": "code",
   "execution_count": null,
   "id": "e8758e5e-234b-4cac-8192-50d9c39498e6",
   "metadata": {},
   "outputs": [],
   "source": []
  },
  {
   "cell_type": "markdown",
   "id": "181bf098-c50f-454f-bd60-759feb9481a0",
   "metadata": {},
   "source": [
    "### Polymorphism"
   ]
  },
  {
   "cell_type": "markdown",
   "id": "2eb06bdf-867e-4f57-881f-3625841aaa9f",
   "metadata": {},
   "source": [
    "Allows methods to be used in different ways. Single function can have different behaviors based on the object."
   ]
  },
  {
   "cell_type": "code",
   "execution_count": null,
   "id": "3d07bf8e-2906-4459-9ae6-204ffec733c0",
   "metadata": {},
   "outputs": [],
   "source": []
  },
  {
   "cell_type": "markdown",
   "id": "271a8579-26aa-4e46-bf27-e5cb996e9298",
   "metadata": {},
   "source": [
    "Base class"
   ]
  },
  {
   "cell_type": "code",
   "execution_count": null,
   "id": "11ad7542-fa43-4bec-9bb4-7d9ef4c5848c",
   "metadata": {},
   "outputs": [],
   "source": []
  },
  {
   "cell_type": "markdown",
   "id": "e0065c17-9c89-4b17-8d55-decb39e0b17b",
   "metadata": {},
   "source": [
    "Dog"
   ]
  },
  {
   "cell_type": "code",
   "execution_count": null,
   "id": "7f542296-8bad-4aab-8372-4070a2f3df0e",
   "metadata": {},
   "outputs": [],
   "source": []
  },
  {
   "cell_type": "markdown",
   "id": "c688bd9c-c322-44b2-88d8-481f7fd3f794",
   "metadata": {},
   "source": [
    "Cat"
   ]
  },
  {
   "cell_type": "code",
   "execution_count": null,
   "id": "7a265725-c6fe-4614-b5a7-0de04d746fef",
   "metadata": {},
   "outputs": [],
   "source": []
  },
  {
   "cell_type": "markdown",
   "id": "7231eea9-62df-4171-9373-3f2da004e656",
   "metadata": {},
   "source": [
    "Cow"
   ]
  },
  {
   "cell_type": "code",
   "execution_count": null,
   "id": "90f03885-977d-4b86-9248-517b52d92133",
   "metadata": {},
   "outputs": [],
   "source": []
  }
 ],
 "metadata": {
  "kernelspec": {
   "display_name": "Python 3 (ipykernel)",
   "language": "python",
   "name": "python3"
  },
  "language_info": {
   "codemirror_mode": {
    "name": "ipython",
    "version": 3
   },
   "file_extension": ".py",
   "mimetype": "text/x-python",
   "name": "python",
   "nbconvert_exporter": "python",
   "pygments_lexer": "ipython3",
   "version": "3.12.4"
  }
 },
 "nbformat": 4,
 "nbformat_minor": 5
}
