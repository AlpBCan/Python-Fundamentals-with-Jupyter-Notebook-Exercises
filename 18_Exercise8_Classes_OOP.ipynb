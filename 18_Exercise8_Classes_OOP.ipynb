{
 "cells": [
  {
   "cell_type": "markdown",
   "id": "5ce02b65-28d6-4da4-8a13-f2f2c0780a64",
   "metadata": {},
   "source": [
    "# EXERCISE 8: CLASSES - OOP"
   ]
  },
  {
   "cell_type": "markdown",
   "id": "5de69972-5b7c-4154-9959-8ee1103b86fb",
   "metadata": {},
   "source": [
    "### Create a class named 'Family'. The class should have 4 attributes: 'name', 'homeland', 'language' and 'members'. (init method)"
   ]
  },
  {
   "cell_type": "markdown",
   "id": "40c6b27f-9239-42f1-b5d5-6fd366b2416a",
   "metadata": {},
   "source": [
    "##### Take 'name', 'homeland' and 'language' while creating an instance"
   ]
  },
  {
   "cell_type": "markdown",
   "id": "09d63407-1876-4c4b-876c-28223dfe62b8",
   "metadata": {},
   "source": [
    "##### 'members' will be an empty list by default."
   ]
  },
  {
   "cell_type": "code",
   "execution_count": null,
   "id": "27beabca-97e6-40ab-8b24-5fe4e96dd392",
   "metadata": {},
   "outputs": [],
   "source": [
    "class Family:\n",
    "    def __init__(self, name, homeland, language):\n",
    "        self.name = name\n",
    "        self.homeland = homeland\n",
    "        self.language = language\n",
    "        self.members = []"
   ]
  },
  {
   "cell_type": "markdown",
   "id": "adf1d81f-c65e-47d8-af50-c6c56fd5de36",
   "metadata": {},
   "source": [
    "### Add two methods to this class"
   ]
  },
  {
   "cell_type": "markdown",
   "id": "ab9756cc-c827-443a-aaef-a42d42628fdb",
   "metadata": {},
   "source": [
    "##### 1 - 'add_member': This should add new names to members list"
   ]
  },
  {
   "cell_type": "markdown",
   "id": "f1c0728d-f920-467d-a665-f537277f13e6",
   "metadata": {},
   "source": [
    "##### 2 - 'show_family_info': This should print all attributes of the class."
   ]
  },
  {
   "cell_type": "code",
   "execution_count": null,
   "id": "da40057d-7fa7-4d65-b822-e882e6f17089",
   "metadata": {},
   "outputs": [],
   "source": [
    "class Family:\n",
    "    def __init__(self, name, homeland, language):\n",
    "        self.name = name\n",
    "        self.homeland = homeland\n",
    "        self.language = language\n",
    "        self.members = []\n",
    "\n",
    "    def add_member(self, member):\n",
    "        self.members.append(f'{member} {self.name}')\n",
    "\n",
    "    def show_family_info(self):\n",
    "        print(f'Family Name: {self.name}')\n",
    "        print(f'Homeland: {self.homeland}')\n",
    "        print(f'Language: {self.language}')\n",
    "        print('Members:')\n",
    "        for member in self.members:\n",
    "            print(f'        {member}')"
   ]
  },
  {
   "cell_type": "markdown",
   "id": "501ebb5d-671c-48cb-81ee-1a31d69763eb",
   "metadata": {},
   "source": [
    "##### Create an instance of Family class with an American family. Add 3 members. Call 'show_family_info' method."
   ]
  },
  {
   "cell_type": "code",
   "execution_count": null,
   "id": "247df7aa-4e93-4742-8a02-b9a4d8186375",
   "metadata": {},
   "outputs": [],
   "source": [
    "johnsons = Family('Johnson', 'USA', 'English')\n",
    "johnsons.add_member('Erica')\n",
    "johnsons.add_member('Tommy')\n",
    "johnsons.add_member('Mike')\n",
    "johnsons.show_family_info()"
   ]
  },
  {
   "cell_type": "markdown",
   "id": "2415814e-ee57-4113-bb78-6bfbe1fff248",
   "metadata": {},
   "source": [
    "##### Create an instance of Family class with an Italian family. Add 3 members. Call 'show_family_info' method."
   ]
  },
  {
   "cell_type": "code",
   "execution_count": null,
   "id": "4172a6e8-2eb9-415e-8528-8f99f3a73024",
   "metadata": {},
   "outputs": [],
   "source": [
    "romanos = Family('Romano', 'Italy', 'Italian')\n",
    "romanos.add_member('Giulia')\n",
    "romanos.add_member('Giovanni')\n",
    "romanos.add_member('Martina')\n",
    "romanos.show_family_info()"
   ]
  },
  {
   "cell_type": "markdown",
   "id": "fdfef959-2362-4961-8536-28a89af2d6c0",
   "metadata": {},
   "source": [
    "### Inheritance Exercise: Create a class named GoTFamily and inherit from Family class."
   ]
  },
  {
   "cell_type": "markdown",
   "id": "e76aedb0-5b20-40ff-acb5-f2c4639d5dca",
   "metadata": {},
   "source": [
    "##### In the init method, call super().__init__ to take the attributes from the parent class."
   ]
  },
  {
   "cell_type": "markdown",
   "id": "c55ed25b-d0fd-4c2e-a356-0e6a774b3297",
   "metadata": {},
   "source": [
    "##### Add 3 specific attributes: 'castle', 'words', 'sigil' and also change 'show_family_info' method by adding the new attributes to it"
   ]
  },
  {
   "cell_type": "code",
   "execution_count": null,
   "id": "417a398e-6179-4d05-9085-7fa033b698b7",
   "metadata": {},
   "outputs": [],
   "source": [
    "class GoTFamily(Family):\n",
    "    def __init__(self, name, homeland, language, castle, words, sigil):\n",
    "        super().__init__(name, homeland, language)\n",
    "        self.castle = castle\n",
    "        self.words = words\n",
    "        self.sigil = sigil\n",
    "\n",
    "    def show_family_info(self):\n",
    "        print(f'Family Name: {self.name}')\n",
    "        print(f'Homeland: {self.homeland}')\n",
    "        print(f'Language: {self.language}')\n",
    "        print(f'Castle: {self.castle}')\n",
    "        print(f'Words: {self.words}')\n",
    "        print(f'Sigil: {self.sigil}')\n",
    "        print('Members:')\n",
    "        for member in self.members:\n",
    "            print(f'        {member}')"
   ]
  },
  {
   "cell_type": "markdown",
   "id": "5a79fe0b-d67b-4ac9-b3d6-6e2c72907b2d",
   "metadata": {},
   "source": [
    "### Create 3 objects from GoTFamily class and name them stark, lannister, targaryen. While creating them, enter the necessary information. If you did not watch Game of Thrones:"
   ]
  },
  {
   "cell_type": "markdown",
   "id": "6b91c96b-e6f1-4247-926e-d7dfd81105a4",
   "metadata": {},
   "source": [
    "##### Stark Family: homeland: Westeros, language: Common Tongue, castle: Winterfell, words: \"Winter is coming!\", sigil: 'Werewolf'"
   ]
  },
  {
   "cell_type": "markdown",
   "id": "cdd87288-5ad2-48bc-9acf-53ad6b52db05",
   "metadata": {},
   "source": [
    "##### Lannister Family: homeland: Westeros, language: Common Tongue, castle: Casterly Rock, words: \"Hear me roar!\", sigil: 'Lion'"
   ]
  },
  {
   "cell_type": "markdown",
   "id": "f0082004-12ae-4101-bf40-b6a7bda732a1",
   "metadata": {},
   "source": [
    "##### Targaryen Family: homeland: Valyria, language: High Valyrian, castle: Dragonstone, words: \"Fire and blood!\", sigil: 'Dragon'"
   ]
  },
  {
   "cell_type": "code",
   "execution_count": null,
   "id": "5eaac295-111e-4a7e-8dcf-75a2ed4f79c8",
   "metadata": {},
   "outputs": [],
   "source": [
    "stark = GoTFamily('Stark', 'Westeros', 'Common Tongue', 'Winterfell', 'Winter is Coming!', 'Werewolf')\n",
    "lannister = GoTFamily('Lannister', 'Westeros', 'Common Tongue', 'Casterly Rock', 'Hear me roar!', 'Lion')\n",
    "targaryen = GoTFamily('Targaryen', 'Valyria', 'High Valyrian', 'Dragonstone', 'Fire and Blood!', 'Dragon')"
   ]
  },
  {
   "cell_type": "markdown",
   "id": "2cbe97c4-a990-47e8-91d6-a46d9894714c",
   "metadata": {},
   "source": [
    "### Add 3 members for all 3 families. Call 'show_family_info' method."
   ]
  },
  {
   "cell_type": "code",
   "execution_count": null,
   "id": "82b4d19e-0beb-424f-b168-f41befc52f5a",
   "metadata": {},
   "outputs": [],
   "source": [
    "stark.add_member('Ned')\n",
    "stark.add_member('Arya')\n",
    "stark.add_member('Robb')\n",
    "stark.show_family_info()\n",
    "\n",
    "print()\n",
    "\n",
    "lannister.add_member('Tywin')\n",
    "lannister.add_member('Jamie')\n",
    "lannister.add_member('Tyrion')\n",
    "lannister.show_family_info()\n",
    "\n",
    "print()\n",
    "\n",
    "targaryen.add_member('Daenerys')\n",
    "targaryen.add_member('Rhaegar')\n",
    "targaryen.add_member('Aegon')\n",
    "targaryen.show_family_info()"
   ]
  },
  {
   "cell_type": "markdown",
   "id": "7cfe8edd-2420-4970-8309-d5b147b959d4",
   "metadata": {},
   "source": [
    "### Polymprphism Exercise: Forget about GotFamily class. Create 3 new classes with names Stark, Lannister, Targaryen and for all of them inherit from Family class."
   ]
  },
  {
   "cell_type": "markdown",
   "id": "61ea8c8d-0070-4bd7-9d0e-acebdf739a22",
   "metadata": {},
   "source": [
    "##### In init methods, define only name attribute and assign the family's name to it by default."
   ]
  },
  {
   "cell_type": "markdown",
   "id": "f2d630a9-f1d7-4568-9336-4c34ad9c7852",
   "metadata": {},
   "source": [
    "##### Change 'show_family_info' methods to print only that family's words."
   ]
  },
  {
   "cell_type": "code",
   "execution_count": null,
   "id": "b1fd9726-8d66-49a8-b46d-0a476c701f65",
   "metadata": {},
   "outputs": [],
   "source": [
    "class Stark(Family):\n",
    "    def __init__(self):\n",
    "        self.name = 'Stark'\n",
    "\n",
    "    def show_family_info(self):\n",
    "        print('WINTER IS COMING!')\n",
    "\n",
    "class Lannister(Family):\n",
    "    def __init__(self):\n",
    "        self.name = 'Lannister'\n",
    "\n",
    "    def show_family_info(self):\n",
    "        print('HEAR ME ROAR!')\n",
    "\n",
    "class Targaryen(Family):\n",
    "    def __init__(self):\n",
    "        self.name = 'Stark'\n",
    "\n",
    "    def show_family_info(self):\n",
    "        print('FIRE AND BLOOD!')"
   ]
  },
  {
   "cell_type": "markdown",
   "id": "2b67789a-d57c-4926-a806-cff43e26a570",
   "metadata": {},
   "source": [
    "### Create instances for 3 classes and call 'show_family_info' methods."
   ]
  },
  {
   "cell_type": "code",
   "execution_count": null,
   "id": "b4ebbc10-a32c-4f37-b600-aacce6e50944",
   "metadata": {},
   "outputs": [],
   "source": [
    "stark = Stark()\n",
    "lannister = Lannister()\n",
    "targaryen = Targaryen()\n",
    "\n",
    "stark.show_family_info()\n",
    "lannister.show_family_info()\n",
    "targaryen.show_family_info()"
   ]
  },
  {
   "cell_type": "code",
   "execution_count": null,
   "id": "eacdfc2c-0b27-4cfc-8fd4-1865b2658ac1",
   "metadata": {},
   "outputs": [],
   "source": []
  }
 ],
 "metadata": {
  "kernelspec": {
   "display_name": "Python 3 (ipykernel)",
   "language": "python",
   "name": "python3"
  },
  "language_info": {
   "codemirror_mode": {
    "name": "ipython",
    "version": 3
   },
   "file_extension": ".py",
   "mimetype": "text/x-python",
   "name": "python",
   "nbconvert_exporter": "python",
   "pygments_lexer": "ipython3",
   "version": "3.12.4"
  }
 },
 "nbformat": 4,
 "nbformat_minor": 5
}
