{
 "cells": [
  {
   "cell_type": "markdown",
   "id": "290784b8-1275-4230-b3fc-7fe9fc540301",
   "metadata": {},
   "source": [
    "# Errors and Try-Except Blocks"
   ]
  },
  {
   "cell_type": "markdown",
   "id": "30ee27bf-e862-47ab-8302-baacaf23a639",
   "metadata": {},
   "source": [
    "### 3 Types of errors:"
   ]
  },
  {
   "cell_type": "markdown",
   "id": "ebb213d1-0d79-4794-a8b5-8200ea923312",
   "metadata": {},
   "source": [
    "##### 1 - Syntax Errors: Called as compile-time errors. Caused by incorrect typings."
   ]
  },
  {
   "cell_type": "markdown",
   "id": "4f0ca00b-8c6f-463b-8f71-73ca30dc3667",
   "metadata": {},
   "source": [
    "Execution does not start"
   ]
  },
  {
   "cell_type": "code",
   "execution_count": null,
   "id": "9485fbba-5a9d-4d13-b337-9bac537cd25c",
   "metadata": {},
   "outputs": [],
   "source": [
    "print('Hello')\n",
    "if True\n",
    "    print('It is true')"
   ]
  },
  {
   "cell_type": "markdown",
   "id": "9f8f56f3-8c6e-47c3-a655-b441c81fc1a2",
   "metadata": {},
   "source": [
    "##### 2 - Runtime Errors: Exceptions. Occur during execution."
   ]
  },
  {
   "cell_type": "markdown",
   "id": "3bcd59cd-c5c6-463f-9569-e1af36a5e729",
   "metadata": {},
   "source": [
    "Execution starts but cannot end normally"
   ]
  },
  {
   "cell_type": "code",
   "execution_count": null,
   "id": "8b03a4f2-a18c-4bc6-925b-e4c03c3b1580",
   "metadata": {},
   "outputs": [],
   "source": [
    "mylist = [1, 2, 3]\n",
    "print(f'this is my list: {mylist}')\n",
    "print(mylist[5])"
   ]
  },
  {
   "cell_type": "markdown",
   "id": "5070bc05-8d13-4163-bcfb-fda61833f45d",
   "metadata": {},
   "source": [
    "##### 3 - Logical Errors: Program behaves incorrectly but does not raise an exception"
   ]
  },
  {
   "cell_type": "markdown",
   "id": "4910ffcd-d989-43dd-a62c-2de10730aed4",
   "metadata": {},
   "source": [
    "Execution starts and ends normally"
   ]
  },
  {
   "cell_type": "code",
   "execution_count": null,
   "id": "108a8767-48ce-4cbb-8dc2-fbb32043b4a0",
   "metadata": {},
   "outputs": [],
   "source": [
    "x = 2\n",
    "if x % 2 == 0:\n",
    "    print(f'{x} is odd')\n",
    "else:\n",
    "    print(f'{x} is even')"
   ]
  },
  {
   "cell_type": "markdown",
   "id": "81ee919d-e4bd-4719-9cad-084220b51395",
   "metadata": {},
   "source": [
    "### Common Built-in Exceptions"
   ]
  },
  {
   "cell_type": "markdown",
   "id": "9a6318bf-5b6c-4dd1-a060-a8003e95069d",
   "metadata": {},
   "source": [
    "##### IndexError: when an inde outside of valid range is used"
   ]
  },
  {
   "cell_type": "code",
   "execution_count": null,
   "id": "7df1b8d1-57a7-4477-b6eb-2b89a5931620",
   "metadata": {},
   "outputs": [],
   "source": [
    "my_list = [1, 2, 3]\n",
    "x = my_list[5]"
   ]
  },
  {
   "cell_type": "markdown",
   "id": "df087ceb-9a98-4265-aed9-e91af33fa569",
   "metadata": {},
   "source": [
    "##### KeyError: when a dictionary key is not found"
   ]
  },
  {
   "cell_type": "code",
   "execution_count": null,
   "id": "a6d147cf-cf3b-4ad3-8690-edc812112063",
   "metadata": {},
   "outputs": [],
   "source": [
    "my_dict = {'name': 'Robert', 'age': 19}\n",
    "job = my_dict['job']"
   ]
  },
  {
   "cell_type": "markdown",
   "id": "fb959d90-ad33-4dfe-a5a9-9d5e02f9deaf",
   "metadata": {},
   "source": [
    "##### NameError: when a varible name is not found"
   ]
  },
  {
   "cell_type": "code",
   "execution_count": null,
   "id": "214939b4-875e-4c47-a79f-14535fbd62be",
   "metadata": {},
   "outputs": [],
   "source": [
    "print(z)"
   ]
  },
  {
   "cell_type": "markdown",
   "id": "b8d6c5c5-5228-4224-b539-6896b9d5d1a7",
   "metadata": {},
   "source": [
    "##### TypeError: when an operation is applied to an inappropriate type"
   ]
  },
  {
   "cell_type": "code",
   "execution_count": null,
   "id": "f579a686-bba1-4ed7-bab3-3330c05451bd",
   "metadata": {},
   "outputs": [],
   "source": [
    "sum = 5 + '3'"
   ]
  },
  {
   "cell_type": "markdown",
   "id": "5548738a-985e-475e-b7db-5d66263c87de",
   "metadata": {},
   "source": [
    "##### ValueError: when the type is right but the value is inappropriate"
   ]
  },
  {
   "cell_type": "code",
   "execution_count": null,
   "id": "ee904abe-58ee-4ced-be79-474c1a90ff0b",
   "metadata": {},
   "outputs": [],
   "source": [
    "my_number = int('hello')"
   ]
  },
  {
   "cell_type": "markdown",
   "id": "e6686ee4-c07d-467f-b472-d6f99329ec75",
   "metadata": {},
   "source": [
    "##### FileNotFoundError: when attempt to open a file fails"
   ]
  },
  {
   "cell_type": "code",
   "execution_count": null,
   "id": "b1dcaf89-672f-4065-b59a-323116ffd862",
   "metadata": {},
   "outputs": [],
   "source": [
    "with open('my_data.txt', 'r') as f:\n",
    "    x = f.read()"
   ]
  },
  {
   "cell_type": "markdown",
   "id": "c133a292-f8d1-4c4a-9d81-ca968270ae36",
   "metadata": {},
   "source": [
    "##### ModuleNotFoundError: when import statement fails"
   ]
  },
  {
   "cell_type": "code",
   "execution_count": null,
   "id": "e242c9c0-a524-475f-8a87-20c35fb9d934",
   "metadata": {},
   "outputs": [],
   "source": [
    "import randomm"
   ]
  },
  {
   "cell_type": "markdown",
   "id": "2473cbba-8785-4698-ac7c-daef23d74db3",
   "metadata": {},
   "source": [
    "##### AttributeError: when you try to access or assign an attribute that does not exist"
   ]
  },
  {
   "cell_type": "code",
   "execution_count": null,
   "id": "1091fc5e-77c6-4843-9a44-70420a46217c",
   "metadata": {},
   "outputs": [],
   "source": [
    "x = 'abc'\n",
    "x.reverse()"
   ]
  },
  {
   "cell_type": "markdown",
   "id": "5ddceeaf-49ee-48cc-b840-1d9a79b06cc3",
   "metadata": {},
   "source": [
    "### Handling Exceptions with Try-Except"
   ]
  },
  {
   "cell_type": "code",
   "execution_count": null,
   "id": "72e36c85-69bc-45be-9a22-cb2551c9e21f",
   "metadata": {},
   "outputs": [],
   "source": [
    "try:\n",
    "    # code that may raise and exception\n",
    "    pass\n",
    "except AnException as e:\n",
    "    # this part will be executed if exception occurs\n",
    "    pass"
   ]
  },
  {
   "cell_type": "code",
   "execution_count": null,
   "id": "40bff73a-7ded-4849-92ab-67fb63d330b8",
   "metadata": {},
   "outputs": [],
   "source": [
    "try:\n",
    "    result = 1 / 0\n",
    "except:\n",
    "    print('We have an error')"
   ]
  },
  {
   "cell_type": "code",
   "execution_count": null,
   "id": "9d3d1f32-5045-4fea-814c-095d52819b74",
   "metadata": {},
   "outputs": [],
   "source": [
    "try:\n",
    "    result = 1 / 0\n",
    "except ZeroDivisionError as e:\n",
    "    print(e)"
   ]
  },
  {
   "cell_type": "markdown",
   "id": "053906aa-165b-486d-a4fc-d4916ecff62c",
   "metadata": {},
   "source": [
    "### Multiple Exceptions"
   ]
  },
  {
   "cell_type": "code",
   "execution_count": null,
   "id": "fbc21d5c-d5a3-4889-b667-070bd75b3f1a",
   "metadata": {},
   "outputs": [],
   "source": [
    "my_list = [1, 2, 3]\n",
    "my_dict = {'name': 'Robert'}\n",
    "\n",
    "try:\n",
    "    x = my_list[5]\n",
    "    y = my_dict['age']\n",
    "except KeyError:\n",
    "    print('We have a key error')\n",
    "except IndexError:\n",
    "    print('We have an index error')\n",
    "    "
   ]
  },
  {
   "cell_type": "code",
   "execution_count": null,
   "id": "292f68dd-fad9-4b9b-9b3b-926e68cad19f",
   "metadata": {},
   "outputs": [],
   "source": [
    "my_list = [1, 2, 3]\n",
    "my_dict = {'name': 'Robert'}\n",
    "\n",
    "try:\n",
    "    y = my_dict['age']\n",
    "    x = my_list[5]\n",
    "except KeyError:\n",
    "    print('We have a key error')\n",
    "except IndexError:\n",
    "    print('We have an index error')"
   ]
  },
  {
   "cell_type": "markdown",
   "id": "bc43d9c2-6822-40c7-991b-345809dfc95b",
   "metadata": {},
   "source": [
    "### Finally: will be executed at the end"
   ]
  },
  {
   "cell_type": "code",
   "execution_count": null,
   "id": "c9adfd62-34de-4b57-8dba-0c284a8b5f31",
   "metadata": {},
   "outputs": [],
   "source": [
    "try:\n",
    "    result = 1 / 0\n",
    "except ZeroDivisionError:\n",
    "    print(\"Division by zero error\")\n",
    "finally:\n",
    "    print(\"Whatever happens, this will be executed\")"
   ]
  },
  {
   "cell_type": "markdown",
   "id": "6a60ef6c-b852-4dcf-a9b1-7aec9b97ec56",
   "metadata": {},
   "source": [
    "### Else: executed if you don't get into except"
   ]
  },
  {
   "cell_type": "code",
   "execution_count": null,
   "id": "8f7729de-04d8-4fd7-a135-2a4965fe45b2",
   "metadata": {},
   "outputs": [],
   "source": [
    "try:\n",
    "    result = 1 / 0\n",
    "except ZeroDivisionError:\n",
    "    print(\"Division by zero error\")\n",
    "else:\n",
    "    print(\"No error occurred, result is\", result)\n",
    "finally:\n",
    "    print(\"This will run no matter what\")"
   ]
  },
  {
   "cell_type": "code",
   "execution_count": null,
   "id": "99043bff-ee27-4683-bdd3-bdcf57f6f325",
   "metadata": {},
   "outputs": [],
   "source": [
    "try:\n",
    "    result = 1 / 1\n",
    "except ZeroDivisionError:\n",
    "    print(\"Division by zero error\")\n",
    "else:\n",
    "    print(\"No error occurred, result is\", result)\n",
    "finally:\n",
    "    print(\"This will run no matter what\")"
   ]
  },
  {
   "cell_type": "code",
   "execution_count": null,
   "id": "3e100b98-c8c1-4312-8b42-5956d6d8ac60",
   "metadata": {},
   "outputs": [],
   "source": []
  }
 ],
 "metadata": {
  "kernelspec": {
   "display_name": "Python 3 (ipykernel)",
   "language": "python",
   "name": "python3"
  },
  "language_info": {
   "codemirror_mode": {
    "name": "ipython",
    "version": 3
   },
   "file_extension": ".py",
   "mimetype": "text/x-python",
   "name": "python",
   "nbconvert_exporter": "python",
   "pygments_lexer": "ipython3",
   "version": "3.12.4"
  }
 },
 "nbformat": 4,
 "nbformat_minor": 5
}
