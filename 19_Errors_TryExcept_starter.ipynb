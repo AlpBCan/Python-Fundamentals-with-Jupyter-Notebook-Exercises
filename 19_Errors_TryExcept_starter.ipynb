{
 "cells": [
  {
   "cell_type": "markdown",
   "id": "290784b8-1275-4230-b3fc-7fe9fc540301",
   "metadata": {},
   "source": [
    "# Errors and Try-Except Blocks"
   ]
  },
  {
   "cell_type": "markdown",
   "id": "30ee27bf-e862-47ab-8302-baacaf23a639",
   "metadata": {},
   "source": [
    "### 3 Types of errors:"
   ]
  },
  {
   "cell_type": "markdown",
   "id": "ebb213d1-0d79-4794-a8b5-8200ea923312",
   "metadata": {},
   "source": [
    "##### 1 - Syntax Errors: Called as compile-time errors. Caused by incorrect typings."
   ]
  },
  {
   "cell_type": "markdown",
   "id": "4f0ca00b-8c6f-463b-8f71-73ca30dc3667",
   "metadata": {},
   "source": [
    "Execution does not start"
   ]
  },
  {
   "cell_type": "code",
   "execution_count": null,
   "id": "418cfe23-f0a3-465a-ad14-e95d8f87bd76",
   "metadata": {},
   "outputs": [],
   "source": []
  },
  {
   "cell_type": "markdown",
   "id": "9f8f56f3-8c6e-47c3-a655-b441c81fc1a2",
   "metadata": {},
   "source": [
    "##### 2 - Runtime Errors: Exceptions. Occur during execution."
   ]
  },
  {
   "cell_type": "markdown",
   "id": "3bcd59cd-c5c6-463f-9569-e1af36a5e729",
   "metadata": {},
   "source": [
    "Execution starts but cannot end normally"
   ]
  },
  {
   "cell_type": "code",
   "execution_count": null,
   "id": "3e324ca4-964e-4125-a757-729bb3e1f9d4",
   "metadata": {},
   "outputs": [],
   "source": []
  },
  {
   "cell_type": "markdown",
   "id": "5070bc05-8d13-4163-bcfb-fda61833f45d",
   "metadata": {},
   "source": [
    "##### 3 - Logical Errors: Program behaves incorrectly but does not raise an exception"
   ]
  },
  {
   "cell_type": "markdown",
   "id": "4910ffcd-d989-43dd-a62c-2de10730aed4",
   "metadata": {},
   "source": [
    "Execution starts and ends normally"
   ]
  },
  {
   "cell_type": "code",
   "execution_count": null,
   "id": "881ec380-c0ab-4333-9846-b78a015c5702",
   "metadata": {},
   "outputs": [],
   "source": []
  },
  {
   "cell_type": "markdown",
   "id": "81ee919d-e4bd-4719-9cad-084220b51395",
   "metadata": {},
   "source": [
    "### Common Built-in Exceptions"
   ]
  },
  {
   "cell_type": "markdown",
   "id": "9a6318bf-5b6c-4dd1-a060-a8003e95069d",
   "metadata": {},
   "source": [
    "##### IndexError: when an inde outside of valid range is used"
   ]
  },
  {
   "cell_type": "code",
   "execution_count": null,
   "id": "ec4d7b4e-1c98-4147-abd4-77f9b2f86c19",
   "metadata": {},
   "outputs": [],
   "source": []
  },
  {
   "cell_type": "markdown",
   "id": "df087ceb-9a98-4265-aed9-e91af33fa569",
   "metadata": {},
   "source": [
    "##### KeyError: when a dictionary key is not found"
   ]
  },
  {
   "cell_type": "code",
   "execution_count": null,
   "id": "5206effc-2377-4711-a8ff-f2629917958c",
   "metadata": {},
   "outputs": [],
   "source": []
  },
  {
   "cell_type": "markdown",
   "id": "fb959d90-ad33-4dfe-a5a9-9d5e02f9deaf",
   "metadata": {},
   "source": [
    "##### NameError: when a varible name is not found"
   ]
  },
  {
   "cell_type": "code",
   "execution_count": null,
   "id": "3955c58e-317d-41f4-b24d-3464a9d66175",
   "metadata": {},
   "outputs": [],
   "source": []
  },
  {
   "cell_type": "markdown",
   "id": "b8d6c5c5-5228-4224-b539-6896b9d5d1a7",
   "metadata": {},
   "source": [
    "##### TypeError: when an operation is applied to an inappropriate type"
   ]
  },
  {
   "cell_type": "code",
   "execution_count": null,
   "id": "8dd6e5ed-756b-46d0-909a-dbb5549d3be6",
   "metadata": {},
   "outputs": [],
   "source": []
  },
  {
   "cell_type": "markdown",
   "id": "5548738a-985e-475e-b7db-5d66263c87de",
   "metadata": {},
   "source": [
    "##### ValueError: when the type is right but the value is inappropriate"
   ]
  },
  {
   "cell_type": "code",
   "execution_count": null,
   "id": "bec048cd-528d-4e71-93ad-b90b26b6d606",
   "metadata": {},
   "outputs": [],
   "source": []
  },
  {
   "cell_type": "markdown",
   "id": "e6686ee4-c07d-467f-b472-d6f99329ec75",
   "metadata": {},
   "source": [
    "##### FileNotFoundError: when attempt to open a file fails"
   ]
  },
  {
   "cell_type": "code",
   "execution_count": null,
   "id": "711e80cb-2e61-4da2-959d-966b787ae92a",
   "metadata": {},
   "outputs": [],
   "source": []
  },
  {
   "cell_type": "markdown",
   "id": "c133a292-f8d1-4c4a-9d81-ca968270ae36",
   "metadata": {},
   "source": [
    "##### ModuleNotFoundError: when import statement fails"
   ]
  },
  {
   "cell_type": "code",
   "execution_count": null,
   "id": "552fdbe3-5c37-499c-876d-66700e788da8",
   "metadata": {},
   "outputs": [],
   "source": []
  },
  {
   "cell_type": "markdown",
   "id": "2473cbba-8785-4698-ac7c-daef23d74db3",
   "metadata": {},
   "source": [
    "##### AttributeError: when you try to access or assign an attribute that does not exist"
   ]
  },
  {
   "cell_type": "code",
   "execution_count": null,
   "id": "6408b4d5-8ad1-4a68-8284-267c040a3c73",
   "metadata": {},
   "outputs": [],
   "source": []
  },
  {
   "cell_type": "markdown",
   "id": "5ddceeaf-49ee-48cc-b840-1d9a79b06cc3",
   "metadata": {},
   "source": [
    "### Handling Exceptions with Try-Except"
   ]
  },
  {
   "cell_type": "code",
   "execution_count": null,
   "id": "2fb190aa-394d-4f95-9e75-92ef0ab2618e",
   "metadata": {},
   "outputs": [],
   "source": []
  },
  {
   "cell_type": "markdown",
   "id": "053906aa-165b-486d-a4fc-d4916ecff62c",
   "metadata": {},
   "source": [
    "### Multiple Exceptions"
   ]
  },
  {
   "cell_type": "code",
   "execution_count": null,
   "id": "42b262f4-632b-4b5b-bcae-8b2a45c8bc27",
   "metadata": {},
   "outputs": [],
   "source": []
  },
  {
   "cell_type": "markdown",
   "id": "bc43d9c2-6822-40c7-991b-345809dfc95b",
   "metadata": {},
   "source": [
    "### Finally: will be executed at the end"
   ]
  },
  {
   "cell_type": "code",
   "execution_count": null,
   "id": "ac04dc22-2a4b-4388-a93d-866a4d11c3ac",
   "metadata": {},
   "outputs": [],
   "source": []
  },
  {
   "cell_type": "markdown",
   "id": "6a60ef6c-b852-4dcf-a9b1-7aec9b97ec56",
   "metadata": {},
   "source": [
    "### Else: executed if you don't get into except"
   ]
  },
  {
   "cell_type": "code",
   "execution_count": null,
   "id": "a13db52c-9329-4862-ad07-e7bb0d96c7c6",
   "metadata": {},
   "outputs": [],
   "source": []
  }
 ],
 "metadata": {
  "kernelspec": {
   "display_name": "Python 3 (ipykernel)",
   "language": "python",
   "name": "python3"
  },
  "language_info": {
   "codemirror_mode": {
    "name": "ipython",
    "version": 3
   },
   "file_extension": ".py",
   "mimetype": "text/x-python",
   "name": "python",
   "nbconvert_exporter": "python",
   "pygments_lexer": "ipython3",
   "version": "3.12.4"
  }
 },
 "nbformat": 4,
 "nbformat_minor": 5
}
