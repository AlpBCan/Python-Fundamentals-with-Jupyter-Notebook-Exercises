{
 "cells": [
  {
   "cell_type": "markdown",
   "id": "f75e922d-4b73-43b2-8a5d-ae10e2eaada0",
   "metadata": {},
   "source": [
    "# DATA TYPES"
   ]
  },
  {
   "cell_type": "markdown",
   "id": "086b8e23-63d1-4657-b83e-0c8e8803fca7",
   "metadata": {},
   "source": [
    "### INTEGER (int) --> whole numbers"
   ]
  },
  {
   "cell_type": "code",
   "execution_count": null,
   "id": "79194425-7172-4f09-aa85-cafb25f16cc5",
   "metadata": {},
   "outputs": [],
   "source": [
    "a = 10\n",
    "b = 0\n",
    "c = -5"
   ]
  },
  {
   "cell_type": "markdown",
   "id": "acb76fa5-d783-4f71-8b8a-b2e25b5e3994",
   "metadata": {},
   "source": [
    "### FLOAT (float) --> decimal numbers"
   ]
  },
  {
   "cell_type": "code",
   "execution_count": null,
   "id": "7d4d1c8d-8e05-4868-832a-2e8456cef88f",
   "metadata": {},
   "outputs": [],
   "source": [
    "d = 3.6\n",
    "e = -20.7"
   ]
  },
  {
   "cell_type": "markdown",
   "id": "e9401cd6-42d7-4590-856d-574d2c0d7781",
   "metadata": {},
   "source": [
    "### STRING (str) --> text, series of characters"
   ]
  },
  {
   "cell_type": "code",
   "execution_count": null,
   "id": "5695f01a-3786-4600-94cf-2080863eb277",
   "metadata": {},
   "outputs": [],
   "source": [
    "f = 'Hello'\n",
    "g = 'World'\n",
    "h = ' '\n",
    "i = '10'\n",
    "j = '3.5'\n",
    "k = '...'\n",
    "l = 'hello world 123'"
   ]
  },
  {
   "cell_type": "markdown",
   "id": "bc9f047f-b19c-44f3-93ee-4d4e21cadfdf",
   "metadata": {},
   "source": [
    "### CASTING --> int(), float(), str()"
   ]
  },
  {
   "cell_type": "code",
   "execution_count": null,
   "id": "6bb6856d-46b3-4daf-bbb1-0f82fc10eaff",
   "metadata": {},
   "outputs": [],
   "source": [
    "d_int = int(d)\n",
    "d_int"
   ]
  },
  {
   "cell_type": "code",
   "execution_count": null,
   "id": "89474492-bcb7-45bd-8e76-0f0229c93d53",
   "metadata": {},
   "outputs": [],
   "source": [
    "i_int = int(i)\n",
    "i_int"
   ]
  },
  {
   "cell_type": "code",
   "execution_count": null,
   "id": "d8df01fb-614b-42bb-9374-ec269dabc4fb",
   "metadata": {},
   "outputs": [],
   "source": [
    "a_float = float(a)\n",
    "a_float"
   ]
  },
  {
   "cell_type": "code",
   "execution_count": null,
   "id": "eefbf1e3-180a-47bd-8343-9bac763a3d4f",
   "metadata": {},
   "outputs": [],
   "source": [
    "j_float = float(j)\n",
    "j_float"
   ]
  },
  {
   "cell_type": "code",
   "execution_count": null,
   "id": "8c9b304c-aca3-4116-9529-3fa9649f1d61",
   "metadata": {},
   "outputs": [],
   "source": [
    "e_str = str(e)\n",
    "e_str"
   ]
  },
  {
   "cell_type": "markdown",
   "id": "d0d44189-ad11-410f-8fc9-44c7af5f471e",
   "metadata": {},
   "source": [
    "### BOOLEAN (bool) --> True or False values, only two options"
   ]
  },
  {
   "cell_type": "code",
   "execution_count": null,
   "id": "91d56c56-529b-4916-8994-50a23513d66a",
   "metadata": {},
   "outputs": [],
   "source": [
    "m = True\n",
    "n = False"
   ]
  },
  {
   "cell_type": "markdown",
   "id": "336153b0-e166-41fe-8227-73f051689eeb",
   "metadata": {},
   "source": [
    "### LIST (list) --> ordered and mutable collection of items"
   ]
  },
  {
   "cell_type": "code",
   "execution_count": null,
   "id": "9a24125a-6110-45f4-9e4f-9c298a539d81",
   "metadata": {},
   "outputs": [],
   "source": [
    "o = [1, 2, 3, 4, 5]\n",
    "p = ['car', 'ship', 'plane']\n",
    "my_list = [3, 'hello', 25, 'python']\n",
    "my_other_list = [o, p, my_list, 1, 'b', True, 4.6]"
   ]
  },
  {
   "cell_type": "markdown",
   "id": "1a04f349-5d9b-4155-9567-4fed740f3a01",
   "metadata": {},
   "source": [
    "### TUPLE (tuple) --> ordered but immutable collection of items"
   ]
  },
  {
   "cell_type": "code",
   "execution_count": null,
   "id": "8ea659a5-8b10-4c88-aca9-c8d44ba5995d",
   "metadata": {},
   "outputs": [],
   "source": [
    "r = (1, 2, 3)\n",
    "s = ('cat', 'dog', 'bird')"
   ]
  },
  {
   "cell_type": "markdown",
   "id": "b6f795b2-b0d0-462d-a8d3-23ef3dad9cf9",
   "metadata": {},
   "source": [
    "### DICTIONARY (dict) --> unordered and mutable collection of key-value pairs"
   ]
  },
  {
   "cell_type": "code",
   "execution_count": null,
   "id": "80c8d991-e335-461e-aa4e-6a0b9085c001",
   "metadata": {},
   "outputs": [],
   "source": [
    "t = {'name': 'John', 'age': 32, 'job': 'engineer', 'is_married': False}"
   ]
  },
  {
   "cell_type": "markdown",
   "id": "9003ec61-15a2-4496-ac7b-204add5034c9",
   "metadata": {},
   "source": [
    "### SET (set) --> unordered and mutable collection of unique items"
   ]
  },
  {
   "cell_type": "code",
   "execution_count": null,
   "id": "8b6b14f6-a337-4895-9e3a-269c57a7882f",
   "metadata": {},
   "outputs": [],
   "source": [
    "u = {1, 2, 3}\n",
    "v = {'alfa', 'bravo', 'charlie'}"
   ]
  },
  {
   "cell_type": "markdown",
   "id": "86f792d7-b568-47a5-9b90-9818e9948972",
   "metadata": {},
   "source": [
    "### NONE (NoneType) --> special constant that represents the absence of a value or a null value"
   ]
  },
  {
   "cell_type": "code",
   "execution_count": null,
   "id": "96b012be-2f3f-4564-ad5f-e8a817cb97ff",
   "metadata": {},
   "outputs": [],
   "source": [
    "nothing = None"
   ]
  },
  {
   "cell_type": "markdown",
   "id": "42d123d3-b9e5-4e7f-bb06-1a3502ae0a01",
   "metadata": {},
   "source": [
    "### type() Function"
   ]
  },
  {
   "cell_type": "code",
   "execution_count": null,
   "id": "f5309738-d3dc-409b-8eeb-4153686dc045",
   "metadata": {},
   "outputs": [],
   "source": [
    "type(a), type(d), type(f), type(m), type(o), type(r), type(t), type(u), type(nothing)"
   ]
  },
  {
   "cell_type": "markdown",
   "id": "8b1fd19e-efc8-4506-91d8-30efcb0e52ba",
   "metadata": {},
   "source": [
    "### print and input Functions"
   ]
  },
  {
   "cell_type": "code",
   "execution_count": null,
   "id": "4f9e0db4-5ac7-43c7-ad43-cde844bbb89c",
   "metadata": {},
   "outputs": [],
   "source": [
    "print('Hello, World!')"
   ]
  },
  {
   "cell_type": "code",
   "execution_count": null,
   "id": "e3b026cb-e9d4-4b37-b3c3-e8458db16518",
   "metadata": {},
   "outputs": [],
   "source": [
    "print('Whatever you want to see in the console')"
   ]
  },
  {
   "cell_type": "code",
   "execution_count": null,
   "id": "7723780d-04c2-494d-ae42-8f5451e8af9b",
   "metadata": {},
   "outputs": [],
   "source": [
    "x = input('Enter the value of x: ')\n",
    "print('x is', x)\n",
    "type(x)"
   ]
  },
  {
   "cell_type": "code",
   "execution_count": null,
   "id": "fe0663a4-845b-4156-b72d-ece20beb0140",
   "metadata": {},
   "outputs": [],
   "source": [
    "int_x = int(x)\n",
    "type(int_x)"
   ]
  }
 ],
 "metadata": {
  "kernelspec": {
   "display_name": "Python 3 (ipykernel)",
   "language": "python",
   "name": "python3"
  },
  "language_info": {
   "codemirror_mode": {
    "name": "ipython",
    "version": 3
   },
   "file_extension": ".py",
   "mimetype": "text/x-python",
   "name": "python",
   "nbconvert_exporter": "python",
   "pygments_lexer": "ipython3",
   "version": "3.12.4"
  }
 },
 "nbformat": 4,
 "nbformat_minor": 5
}
