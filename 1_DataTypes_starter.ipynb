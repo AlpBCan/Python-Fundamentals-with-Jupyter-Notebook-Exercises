{
 "cells": [
  {
   "cell_type": "markdown",
   "id": "54a3f1ed-9f5b-480e-8bef-7b05d86a4ae5",
   "metadata": {},
   "source": [
    "# DATA TYPES"
   ]
  },
  {
   "cell_type": "markdown",
   "id": "086b8e23-63d1-4657-b83e-0c8e8803fca7",
   "metadata": {},
   "source": [
    "### INTEGER (int) --> whole numbers"
   ]
  },
  {
   "cell_type": "code",
   "execution_count": null,
   "id": "0c7ec4ed-1eb3-4a74-9937-97e4f9bee15a",
   "metadata": {},
   "outputs": [],
   "source": []
  },
  {
   "cell_type": "markdown",
   "id": "acb76fa5-d783-4f71-8b8a-b2e25b5e3994",
   "metadata": {},
   "source": [
    "### FLOAT (float) --> decimal numbers"
   ]
  },
  {
   "cell_type": "code",
   "execution_count": null,
   "id": "5c02cf8b-3110-45cc-a825-b71e29e93f37",
   "metadata": {},
   "outputs": [],
   "source": []
  },
  {
   "cell_type": "markdown",
   "id": "e9401cd6-42d7-4590-856d-574d2c0d7781",
   "metadata": {},
   "source": [
    "### STRING (str) --> text, series of characters"
   ]
  },
  {
   "cell_type": "code",
   "execution_count": null,
   "id": "b1dbfadd-3ff7-4506-8c60-595054872c1c",
   "metadata": {},
   "outputs": [],
   "source": []
  },
  {
   "cell_type": "markdown",
   "id": "bc9f047f-b19c-44f3-93ee-4d4e21cadfdf",
   "metadata": {},
   "source": [
    "### Casting --> int(), float(), str()"
   ]
  },
  {
   "cell_type": "code",
   "execution_count": null,
   "id": "8506df70-fe2b-453e-bb2d-5a0ad1b76b27",
   "metadata": {},
   "outputs": [],
   "source": []
  },
  {
   "cell_type": "markdown",
   "id": "d0d44189-ad11-410f-8fc9-44c7af5f471e",
   "metadata": {},
   "source": [
    "### BOOLEAN (bool) --> True or False values, only two options"
   ]
  },
  {
   "cell_type": "code",
   "execution_count": null,
   "id": "33b09924-2a6f-43ae-9fd7-71d372c5f8e2",
   "metadata": {},
   "outputs": [],
   "source": []
  },
  {
   "cell_type": "markdown",
   "id": "336153b0-e166-41fe-8227-73f051689eeb",
   "metadata": {},
   "source": [
    "### LIST (list) --> ordered and mutable collection of items"
   ]
  },
  {
   "cell_type": "code",
   "execution_count": null,
   "id": "ef12f5d5-8cf1-41ea-850f-fb76362eed29",
   "metadata": {},
   "outputs": [],
   "source": []
  },
  {
   "cell_type": "markdown",
   "id": "1a04f349-5d9b-4155-9567-4fed740f3a01",
   "metadata": {},
   "source": [
    "### TUPLE (tuple) --> ordered but immutable collection of items"
   ]
  },
  {
   "cell_type": "code",
   "execution_count": null,
   "id": "765661b0-5d79-4665-848a-33361f107050",
   "metadata": {},
   "outputs": [],
   "source": []
  },
  {
   "cell_type": "markdown",
   "id": "b6f795b2-b0d0-462d-a8d3-23ef3dad9cf9",
   "metadata": {},
   "source": [
    "### DICTIONARY (dict) --> unordered and mutable collection of key-value pairs"
   ]
  },
  {
   "cell_type": "code",
   "execution_count": null,
   "id": "bb752fd9-2862-4b8c-b47c-274abae22e5f",
   "metadata": {},
   "outputs": [],
   "source": []
  },
  {
   "cell_type": "markdown",
   "id": "9003ec61-15a2-4496-ac7b-204add5034c9",
   "metadata": {},
   "source": [
    "### SET (set) --> unordered and mutable collection of unique items"
   ]
  },
  {
   "cell_type": "code",
   "execution_count": null,
   "id": "a568b925-d0d6-4a13-b223-3d69f7c1d9bd",
   "metadata": {},
   "outputs": [],
   "source": []
  },
  {
   "cell_type": "markdown",
   "id": "6243173c-c4f2-44a8-8277-cf8682a332a7",
   "metadata": {},
   "source": [
    "### NONE (None) --> special constant that represents the absence of a value or a null value"
   ]
  },
  {
   "cell_type": "code",
   "execution_count": null,
   "id": "44db82f5-e89e-47be-a928-bb422a9a23df",
   "metadata": {},
   "outputs": [],
   "source": []
  },
  {
   "cell_type": "markdown",
   "id": "2d022789-0913-434f-af4a-20531b81c638",
   "metadata": {},
   "source": [
    "### type() Function"
   ]
  },
  {
   "cell_type": "code",
   "execution_count": null,
   "id": "6b8a89d3-8c7c-4d85-ac18-40d55dc7ab44",
   "metadata": {},
   "outputs": [],
   "source": []
  },
  {
   "cell_type": "markdown",
   "id": "05085ce2-1c7c-4453-9ce0-520e3088192d",
   "metadata": {},
   "source": [
    "### print and input Functions"
   ]
  },
  {
   "cell_type": "code",
   "execution_count": null,
   "id": "cfdbcf40-ec88-474f-b772-2034473a3762",
   "metadata": {},
   "outputs": [],
   "source": []
  }
 ],
 "metadata": {
  "kernelspec": {
   "display_name": "Python 3 (ipykernel)",
   "language": "python",
   "name": "python3"
  },
  "language_info": {
   "codemirror_mode": {
    "name": "ipython",
    "version": 3
   },
   "file_extension": ".py",
   "mimetype": "text/x-python",
   "name": "python",
   "nbconvert_exporter": "python",
   "pygments_lexer": "ipython3",
   "version": "3.12.4"
  }
 },
 "nbformat": 4,
 "nbformat_minor": 5
}
