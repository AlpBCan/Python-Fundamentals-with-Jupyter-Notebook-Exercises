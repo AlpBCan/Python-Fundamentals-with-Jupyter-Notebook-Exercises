{
 "cells": [
  {
   "cell_type": "markdown",
   "id": "5beb31de-d9f9-4710-a1ed-9a66fac1d2d5",
   "metadata": {},
   "source": [
    "# OPERATORS"
   ]
  },
  {
   "cell_type": "markdown",
   "id": "3d4ffb18-366a-4948-9953-34319b1ac977",
   "metadata": {},
   "source": [
    "### ARITHMETIC OPERATORS"
   ]
  },
  {
   "cell_type": "markdown",
   "id": "b3a277e4-efcf-461b-8c8f-4f5b64386d30",
   "metadata": {},
   "source": [
    "    +  Addition"
   ]
  },
  {
   "cell_type": "code",
   "execution_count": null,
   "id": "8a14463f-c3ce-4dab-be19-573376485a47",
   "metadata": {},
   "outputs": [],
   "source": [
    "3 + 5"
   ]
  },
  {
   "cell_type": "code",
   "execution_count": null,
   "id": "8d34f969-a41d-4a51-a63a-83457ec8a169",
   "metadata": {},
   "outputs": [],
   "source": [
    "x = 2\n",
    "y = 10\n",
    "x + y"
   ]
  },
  {
   "cell_type": "code",
   "execution_count": null,
   "id": "146040ae-7ac0-4442-bbd5-b7de2886e63b",
   "metadata": {},
   "outputs": [],
   "source": [
    "h = 'Hello'\n",
    "w = 'World'\n",
    "h + w"
   ]
  },
  {
   "cell_type": "code",
   "execution_count": null,
   "id": "86cb7527-35cc-48af-9e0b-8d8910b416ed",
   "metadata": {},
   "outputs": [],
   "source": [
    "my_statement = h + w\n",
    "my_statement"
   ]
  },
  {
   "cell_type": "markdown",
   "id": "349b9c1a-c720-4fca-a466-635b02a678d0",
   "metadata": {},
   "source": [
    "    -  Subtraction"
   ]
  },
  {
   "cell_type": "code",
   "execution_count": null,
   "id": "8ccc0dee-e68e-4c74-bee8-2c58a009d45b",
   "metadata": {},
   "outputs": [],
   "source": [
    "18 - 10"
   ]
  },
  {
   "cell_type": "code",
   "execution_count": null,
   "id": "b5ffdbaa-3c95-4e3d-a308-1d3f45df011c",
   "metadata": {},
   "outputs": [],
   "source": [
    "x = 4\n",
    "y = 15\n",
    "x - y"
   ]
  },
  {
   "cell_type": "markdown",
   "id": "2699aaba-9d0c-46c3-b745-019c68849261",
   "metadata": {},
   "source": [
    "    *  Multiplication"
   ]
  },
  {
   "cell_type": "code",
   "execution_count": null,
   "id": "97c94940-4377-4be4-8010-454654ab11ca",
   "metadata": {},
   "outputs": [],
   "source": [
    "7 * 8"
   ]
  },
  {
   "cell_type": "code",
   "execution_count": null,
   "id": "b261e2d3-ff76-40cf-93b7-8c9504108eac",
   "metadata": {},
   "outputs": [],
   "source": [
    "'a' * 3\n"
   ]
  },
  {
   "cell_type": "markdown",
   "id": "9a4026d2-41ac-4d6d-9105-ec8daaaf0a63",
   "metadata": {},
   "source": [
    "    /  Division"
   ]
  },
  {
   "cell_type": "code",
   "execution_count": null,
   "id": "1c170e5d-8c63-41bf-97d8-bed0e31bf7d0",
   "metadata": {},
   "outputs": [],
   "source": [
    "35 / 7"
   ]
  },
  {
   "cell_type": "code",
   "execution_count": null,
   "id": "3e07efe5-25b2-45c4-8d7b-cf8d71ff49f7",
   "metadata": {},
   "outputs": [],
   "source": [
    "35 / 8"
   ]
  },
  {
   "cell_type": "code",
   "execution_count": null,
   "id": "05ab646b-94bd-47a3-b850-18f82f4406ec",
   "metadata": {},
   "outputs": [],
   "source": [
    "3 / 0"
   ]
  },
  {
   "cell_type": "code",
   "execution_count": null,
   "id": "1a1b8cac-74d4-4a83-872a-64dd04df95fb",
   "metadata": {},
   "outputs": [],
   "source": [
    "0 / 3"
   ]
  },
  {
   "cell_type": "markdown",
   "id": "2929a4d1-5fbc-418e-83c6-589e0dc3621c",
   "metadata": {},
   "source": [
    "    %  Modulus"
   ]
  },
  {
   "cell_type": "code",
   "execution_count": null,
   "id": "1318c451-3dce-46ee-b2d7-0b038bb50c88",
   "metadata": {},
   "outputs": [],
   "source": [
    "18 % 5"
   ]
  },
  {
   "cell_type": "code",
   "execution_count": null,
   "id": "ad904382-fbce-4fb0-929c-9d602a6d2192",
   "metadata": {},
   "outputs": [],
   "source": [
    "5 % 18"
   ]
  },
  {
   "cell_type": "code",
   "execution_count": null,
   "id": "33962beb-761d-45a6-863a-0ee578a662bf",
   "metadata": {},
   "outputs": [],
   "source": [
    "18 % 6"
   ]
  },
  {
   "cell_type": "markdown",
   "id": "b791597c-6f7c-4a46-b874-3e78046b37a9",
   "metadata": {},
   "source": [
    "    **  Exponentiation"
   ]
  },
  {
   "cell_type": "code",
   "execution_count": null,
   "id": "103bf73a-db38-445e-88fb-ac3e0476c1fe",
   "metadata": {},
   "outputs": [],
   "source": [
    "2**3"
   ]
  },
  {
   "cell_type": "code",
   "execution_count": null,
   "id": "3732b9a7-f3a7-41dc-98e0-cd05bf276692",
   "metadata": {},
   "outputs": [],
   "source": [
    "5**0"
   ]
  },
  {
   "cell_type": "markdown",
   "id": "72b57be1-e3b7-491c-91bf-536664e2e982",
   "metadata": {},
   "source": [
    "    // Floor Division"
   ]
  },
  {
   "cell_type": "code",
   "execution_count": null,
   "id": "e3d19a56-f92b-46ba-93bc-f67e2a962b43",
   "metadata": {},
   "outputs": [],
   "source": [
    "35 // 7"
   ]
  },
  {
   "cell_type": "code",
   "execution_count": null,
   "id": "07d33da8-6c45-4abf-abaf-75608e7070b1",
   "metadata": {},
   "outputs": [],
   "source": [
    "35 // 8"
   ]
  },
  {
   "cell_type": "code",
   "execution_count": null,
   "id": "ea977a06-441a-42bf-a6e6-a14b37aa4ccf",
   "metadata": {},
   "outputs": [],
   "source": [
    "12 // 12"
   ]
  },
  {
   "cell_type": "code",
   "execution_count": null,
   "id": "0fbccec1-00bc-4571-bd7a-f5633ee669a4",
   "metadata": {},
   "outputs": [],
   "source": [
    "12 // 3"
   ]
  },
  {
   "cell_type": "code",
   "execution_count": null,
   "id": "89a615e4-31d2-4efc-a100-27b0b010821e",
   "metadata": {},
   "outputs": [],
   "source": [
    "12 // 5"
   ]
  },
  {
   "cell_type": "markdown",
   "id": "3f583c7b-0f74-4a95-b755-5ce32e6bc664",
   "metadata": {},
   "source": [
    "### OPERATOR PRECEDENCE"
   ]
  },
  {
   "cell_type": "markdown",
   "id": "a1fba268-a3c3-4af9-8926-3beacfad0400",
   "metadata": {},
   "source": [
    "    Paranteses > Exponents > Multiplication > Division > Addition > Subtraction"
   ]
  },
  {
   "cell_type": "code",
   "execution_count": null,
   "id": "ef58b94c-9598-4ea4-8d4c-62bc956bed98",
   "metadata": {},
   "outputs": [],
   "source": [
    "6*(7 + 3)**2 / 3 - 3"
   ]
  },
  {
   "cell_type": "markdown",
   "id": "8913f9a2-7550-4275-b47b-2335f53a2036",
   "metadata": {},
   "source": [
    "### ASSIGNMENT OPERATORS"
   ]
  },
  {
   "cell_type": "markdown",
   "id": "7448de2b-7f61-4696-8cff-c7481ea51cba",
   "metadata": {},
   "source": [
    "    ="
   ]
  },
  {
   "cell_type": "code",
   "execution_count": null,
   "id": "f7086c19-4d1d-45dc-8443-894a6835431c",
   "metadata": {},
   "outputs": [],
   "source": [
    "x = 6"
   ]
  },
  {
   "cell_type": "code",
   "execution_count": null,
   "id": "a1fa4778-e919-4665-8737-0482fa63b811",
   "metadata": {},
   "outputs": [],
   "source": [
    "y = x + 3"
   ]
  },
  {
   "cell_type": "code",
   "execution_count": null,
   "id": "37f08320-4efa-468f-925a-8b3b07fc2adc",
   "metadata": {},
   "outputs": [],
   "source": [
    "y"
   ]
  },
  {
   "cell_type": "code",
   "execution_count": null,
   "id": "870c8439-2471-42b8-9995-9b7655c94540",
   "metadata": {},
   "outputs": [],
   "source": [
    "y = y + 5\n",
    "y"
   ]
  },
  {
   "cell_type": "code",
   "execution_count": null,
   "id": "5e45a520-83e9-4cf6-8c79-afe1ae1f690b",
   "metadata": {},
   "outputs": [],
   "source": [
    "cat = 'Maya'"
   ]
  },
  {
   "cell_type": "code",
   "execution_count": null,
   "id": "1ec5bb42-c3de-4b98-8eb8-edfba9816459",
   "metadata": {},
   "outputs": [],
   "source": [
    "dog = 'Dobby'"
   ]
  },
  {
   "cell_type": "code",
   "execution_count": null,
   "id": "8246b6bf-9a1f-4203-a956-169ad2b8e738",
   "metadata": {},
   "outputs": [],
   "source": [
    "is_dividible = True"
   ]
  },
  {
   "cell_type": "markdown",
   "id": "3c5c7a23-9404-4f67-9dcb-add9246e430a",
   "metadata": {},
   "source": [
    "    +="
   ]
  },
  {
   "cell_type": "code",
   "execution_count": null,
   "id": "4b8cc19a-3dc9-4627-9dcb-cfe3792fed74",
   "metadata": {},
   "outputs": [],
   "source": [
    "y = 9"
   ]
  },
  {
   "cell_type": "code",
   "execution_count": null,
   "id": "bb66c953-ea2e-495d-badc-c80c38b05d44",
   "metadata": {},
   "outputs": [],
   "source": [
    "# y = y + 5\n",
    "y += 5\n",
    "y"
   ]
  },
  {
   "cell_type": "markdown",
   "id": "1d211e9d-9c00-4b99-8a01-aa36597a2263",
   "metadata": {},
   "source": [
    "    -="
   ]
  },
  {
   "cell_type": "code",
   "execution_count": null,
   "id": "333bf6e9-a32f-4c67-a8ff-df8a9f969c39",
   "metadata": {},
   "outputs": [],
   "source": [
    "y = 9"
   ]
  },
  {
   "cell_type": "code",
   "execution_count": null,
   "id": "2c06253c-fead-42af-8c01-cd68fa6889d4",
   "metadata": {},
   "outputs": [],
   "source": [
    "# y = y - 5\n",
    "y -= 5\n",
    "y"
   ]
  },
  {
   "cell_type": "markdown",
   "id": "9609b6f1-b6e7-48f0-a079-0616bbf8b6cc",
   "metadata": {},
   "source": [
    "    *="
   ]
  },
  {
   "cell_type": "code",
   "execution_count": null,
   "id": "14ef7fbe-1559-441d-88f1-a85bdbe11b87",
   "metadata": {},
   "outputs": [],
   "source": [
    "y = 9"
   ]
  },
  {
   "cell_type": "code",
   "execution_count": null,
   "id": "4261a33e-614e-4760-84e3-52183306e4f4",
   "metadata": {},
   "outputs": [],
   "source": [
    "# y = y * 5\n",
    "y *= 5\n",
    "y"
   ]
  },
  {
   "cell_type": "markdown",
   "id": "444eddc1-d38f-4e44-b197-d528dc80f4f1",
   "metadata": {},
   "source": [
    "    /="
   ]
  },
  {
   "cell_type": "code",
   "execution_count": null,
   "id": "ec0786c1-d73c-4cd8-be02-5f53b48f7958",
   "metadata": {},
   "outputs": [],
   "source": [
    "y = 9"
   ]
  },
  {
   "cell_type": "code",
   "execution_count": null,
   "id": "786b1f74-abf4-4b79-a5f7-22d4b1107b7c",
   "metadata": {},
   "outputs": [],
   "source": [
    "# y = y / 3\n",
    "y //= 3\n",
    "y"
   ]
  },
  {
   "cell_type": "markdown",
   "id": "c510d4fb-d9b1-4047-bdd3-337db05ff676",
   "metadata": {},
   "source": [
    "### COMPARISON OPERATORS"
   ]
  },
  {
   "cell_type": "markdown",
   "id": "d9b8b28c-0742-46c2-bb8f-6213608abaaf",
   "metadata": {},
   "source": [
    "    =="
   ]
  },
  {
   "cell_type": "code",
   "execution_count": null,
   "id": "0cfd6fd8-b4d6-4641-a8b0-e1cb0520e06a",
   "metadata": {},
   "outputs": [],
   "source": [
    "2 == 2"
   ]
  },
  {
   "cell_type": "code",
   "execution_count": null,
   "id": "3ba17650-8470-4675-b986-518a3777345b",
   "metadata": {},
   "outputs": [],
   "source": [
    "3 == 4"
   ]
  },
  {
   "cell_type": "code",
   "execution_count": null,
   "id": "2b0af47a-d174-49e0-bf27-fa552070642a",
   "metadata": {},
   "outputs": [],
   "source": [
    "'hello' == 'hello'"
   ]
  },
  {
   "cell_type": "code",
   "execution_count": null,
   "id": "37a968cc-df1e-4b73-9d6a-c2385fd3af25",
   "metadata": {},
   "outputs": [],
   "source": [
    "'a' == 'b'"
   ]
  },
  {
   "cell_type": "code",
   "execution_count": null,
   "id": "9a0b92da-b279-4ce3-ac4c-876ac59cbc85",
   "metadata": {},
   "outputs": [],
   "source": [
    "'a' == 'a '"
   ]
  },
  {
   "cell_type": "code",
   "execution_count": null,
   "id": "3298c337-dc3d-4479-ae04-fef72ddb26b8",
   "metadata": {},
   "outputs": [],
   "source": [
    "'' == ' '"
   ]
  },
  {
   "cell_type": "code",
   "execution_count": null,
   "id": "d95b1db6-66c6-4055-985b-2d59ab468355",
   "metadata": {},
   "outputs": [],
   "source": [
    "None == None"
   ]
  },
  {
   "cell_type": "markdown",
   "id": "a82f7d47-7698-488b-948b-58ed8b8b38b4",
   "metadata": {},
   "source": [
    "    !="
   ]
  },
  {
   "cell_type": "code",
   "execution_count": null,
   "id": "29177678-6576-4d2a-a17b-d635cb3b2de8",
   "metadata": {},
   "outputs": [],
   "source": [
    "2 != 2"
   ]
  },
  {
   "cell_type": "code",
   "execution_count": null,
   "id": "bf1d5b65-d345-4c33-bade-555b8ae36ece",
   "metadata": {},
   "outputs": [],
   "source": [
    "'hello' != 'hello'"
   ]
  },
  {
   "cell_type": "code",
   "execution_count": null,
   "id": "048f55b8-8f75-48b6-a42f-06e50f39ce42",
   "metadata": {},
   "outputs": [],
   "source": [
    "'a' != 'b'"
   ]
  },
  {
   "cell_type": "markdown",
   "id": "26e51d43-6498-4389-b414-f08c5025d726",
   "metadata": {},
   "source": [
    "    >"
   ]
  },
  {
   "cell_type": "code",
   "execution_count": null,
   "id": "2a972ae6-2eb9-483e-8d6e-45007be2193f",
   "metadata": {},
   "outputs": [],
   "source": [
    "5 > 3"
   ]
  },
  {
   "cell_type": "code",
   "execution_count": null,
   "id": "8f93992d-ca7d-4d75-98e1-55b21162e946",
   "metadata": {},
   "outputs": [],
   "source": [
    "-5 > 3"
   ]
  },
  {
   "cell_type": "markdown",
   "id": "cd667d70-b6e3-47b8-9d94-0fc43b73b5d7",
   "metadata": {},
   "source": [
    "    <"
   ]
  },
  {
   "cell_type": "code",
   "execution_count": null,
   "id": "3d3a0a62-698d-4240-8e47-1a67047e0ee9",
   "metadata": {},
   "outputs": [],
   "source": [
    "3 < 5"
   ]
  },
  {
   "cell_type": "code",
   "execution_count": null,
   "id": "5c1db5b3-35b5-49fa-9738-f915041fb89c",
   "metadata": {},
   "outputs": [],
   "source": [
    "3 < 3"
   ]
  },
  {
   "cell_type": "markdown",
   "id": "56ea6b97-4f38-415d-a5f7-4a2695e84070",
   "metadata": {},
   "source": [
    "    >="
   ]
  },
  {
   "cell_type": "code",
   "execution_count": null,
   "id": "ed387c3c-8ab2-4220-84a4-b5ee6a2ad402",
   "metadata": {},
   "outputs": [],
   "source": [
    "3 >= 3"
   ]
  },
  {
   "cell_type": "code",
   "execution_count": null,
   "id": "19f3ad89-7117-4df8-9101-cc125ebe0147",
   "metadata": {},
   "outputs": [],
   "source": [
    "3 >= 2"
   ]
  },
  {
   "cell_type": "markdown",
   "id": "de62fe9b-1c73-4f0c-8d46-7e8b6a5af1dc",
   "metadata": {},
   "source": [
    "    <="
   ]
  },
  {
   "cell_type": "code",
   "execution_count": null,
   "id": "0e630ce1-73ea-4ab9-8ad1-568b671dfe52",
   "metadata": {},
   "outputs": [],
   "source": [
    "3 <= 3"
   ]
  },
  {
   "cell_type": "code",
   "execution_count": null,
   "id": "e3bd153e-bc9e-4c15-9ffb-cab80a11f71a",
   "metadata": {},
   "outputs": [],
   "source": [
    "3 <= 2"
   ]
  },
  {
   "cell_type": "markdown",
   "id": "c764da83-42ce-4dd3-aaa6-b6f0b8a090c5",
   "metadata": {},
   "source": [
    "### LOGICAL OPERATORS"
   ]
  },
  {
   "cell_type": "markdown",
   "id": "25701b68-43b6-4613-b1b0-5363fb76493c",
   "metadata": {},
   "source": [
    "    and"
   ]
  },
  {
   "cell_type": "code",
   "execution_count": null,
   "id": "e7979af4-2ad3-4be1-a4fd-a9acb4331dd9",
   "metadata": {},
   "outputs": [],
   "source": [
    "True and True"
   ]
  },
  {
   "cell_type": "code",
   "execution_count": null,
   "id": "944bc73a-303c-4059-ad34-9f8f6a8988ba",
   "metadata": {},
   "outputs": [],
   "source": [
    "True and False"
   ]
  },
  {
   "cell_type": "code",
   "execution_count": null,
   "id": "f44e311e-6029-4ec1-a4f7-6078ecd69479",
   "metadata": {},
   "outputs": [],
   "source": [
    "False and True"
   ]
  },
  {
   "cell_type": "code",
   "execution_count": null,
   "id": "e82b9b2c-74bc-458a-b4cd-d5f954277c9e",
   "metadata": {},
   "outputs": [],
   "source": [
    "False and False"
   ]
  },
  {
   "cell_type": "code",
   "execution_count": null,
   "id": "9646070c-05c4-4842-ae24-2c6b2974b5f9",
   "metadata": {},
   "outputs": [],
   "source": [
    "x = 5\n",
    "x > 3 and x < 10"
   ]
  },
  {
   "cell_type": "code",
   "execution_count": null,
   "id": "0888456a-a31c-4e64-b839-cab575628ee4",
   "metadata": {},
   "outputs": [],
   "source": [
    "x > 3 and x < 4"
   ]
  },
  {
   "cell_type": "markdown",
   "id": "7134731f-8a19-4b62-8832-322cc199c848",
   "metadata": {},
   "source": [
    "    or"
   ]
  },
  {
   "cell_type": "code",
   "execution_count": null,
   "id": "bfd982d0-878f-40c7-93ee-30d99225d2f5",
   "metadata": {},
   "outputs": [],
   "source": [
    "True or True"
   ]
  },
  {
   "cell_type": "code",
   "execution_count": null,
   "id": "a681968e-6e6e-4efc-8e8e-8f2f684be1b0",
   "metadata": {},
   "outputs": [],
   "source": [
    "True or False"
   ]
  },
  {
   "cell_type": "code",
   "execution_count": null,
   "id": "08e66288-a23a-4bd1-853a-00328455027b",
   "metadata": {},
   "outputs": [],
   "source": [
    "False or True"
   ]
  },
  {
   "cell_type": "code",
   "execution_count": null,
   "id": "ffa92a07-3c26-48c7-94dd-1c758a36dc9e",
   "metadata": {},
   "outputs": [],
   "source": [
    "False or False"
   ]
  },
  {
   "cell_type": "code",
   "execution_count": null,
   "id": "959e1d9f-ed69-4480-b529-f782ae1a9dd5",
   "metadata": {},
   "outputs": [],
   "source": [
    "x = 5\n",
    "x > 3 or x < 10"
   ]
  },
  {
   "cell_type": "code",
   "execution_count": null,
   "id": "2113cd7e-d7f0-4ad7-a88d-d3e0ee7356b9",
   "metadata": {},
   "outputs": [],
   "source": [
    "x > 3 or x < 1"
   ]
  },
  {
   "cell_type": "markdown",
   "id": "a90f3a96-0f20-4a51-b30f-5f4118c7f848",
   "metadata": {},
   "source": [
    "    not"
   ]
  },
  {
   "cell_type": "code",
   "execution_count": null,
   "id": "56cc9522-8273-4ec8-a629-697f31d9cb0a",
   "metadata": {},
   "outputs": [],
   "source": [
    "not True"
   ]
  },
  {
   "cell_type": "code",
   "execution_count": null,
   "id": "e1a12b7b-f821-4bd1-ae7a-75643f0d49c7",
   "metadata": {},
   "outputs": [],
   "source": [
    "not False"
   ]
  },
  {
   "cell_type": "code",
   "execution_count": null,
   "id": "0a650510-b28d-4185-8394-b9023ed165f1",
   "metadata": {},
   "outputs": [],
   "source": [
    "not 2 == 2"
   ]
  },
  {
   "cell_type": "code",
   "execution_count": null,
   "id": "77e32918-d6e8-4ff0-9df7-630cb70e08fe",
   "metadata": {},
   "outputs": [],
   "source": [
    "not 'hello' == 'world'"
   ]
  },
  {
   "cell_type": "markdown",
   "id": "37dd9ce5-365b-4c04-990d-84a4bea8c2c2",
   "metadata": {},
   "source": [
    "### IDENTITY OPERATORS"
   ]
  },
  {
   "cell_type": "markdown",
   "id": "eba40229-99d6-4c78-92df-e31a1ef4844c",
   "metadata": {},
   "source": [
    "    is"
   ]
  },
  {
   "cell_type": "code",
   "execution_count": null,
   "id": "9273821b-1424-4f86-b1a0-fdb5073ed100",
   "metadata": {},
   "outputs": [],
   "source": [
    "x = [1, 2, 3]\n",
    "y = [1, 2, 3]\n",
    "\n",
    "z = x\n",
    "\n",
    "x is not z"
   ]
  },
  {
   "cell_type": "markdown",
   "id": "ba3c0c3b-33cc-4851-ba3a-9ece54cb648a",
   "metadata": {},
   "source": [
    "    is not"
   ]
  },
  {
   "cell_type": "markdown",
   "id": "4c3e93f9-e812-497b-9a83-99731612eb3f",
   "metadata": {},
   "source": [
    "### MEMBERSHIP OPERATORS"
   ]
  },
  {
   "cell_type": "markdown",
   "id": "a71f3a84-7fa3-496b-a963-57f0b38cc290",
   "metadata": {},
   "source": [
    "    in"
   ]
  },
  {
   "cell_type": "code",
   "execution_count": null,
   "id": "848d308d-3c64-41b3-bcde-9b136bb204fa",
   "metadata": {},
   "outputs": [],
   "source": [
    "mylist = [1, 2, 3]\n",
    "2 in mylist"
   ]
  },
  {
   "cell_type": "code",
   "execution_count": null,
   "id": "372e8408-4bb4-4de7-83f8-69749a59af33",
   "metadata": {},
   "outputs": [],
   "source": [
    "5 in mylist"
   ]
  },
  {
   "cell_type": "markdown",
   "id": "ff1954d4-f190-4d90-99bb-d47711cd8d55",
   "metadata": {},
   "source": [
    "    not in"
   ]
  },
  {
   "cell_type": "code",
   "execution_count": null,
   "id": "0f96364f-4cc2-4e89-b3c6-678023a307cb",
   "metadata": {},
   "outputs": [],
   "source": [
    "yourset = ('a', 'b', 'c')\n",
    "'p' not in yourset"
   ]
  },
  {
   "cell_type": "code",
   "execution_count": null,
   "id": "ec55f7e4-bc5e-49c3-ba67-92921825ab6d",
   "metadata": {},
   "outputs": [],
   "source": [
    "'c' not in yourset"
   ]
  }
 ],
 "metadata": {
  "kernelspec": {
   "display_name": "Python 3 (ipykernel)",
   "language": "python",
   "name": "python3"
  },
  "language_info": {
   "codemirror_mode": {
    "name": "ipython",
    "version": 3
   },
   "file_extension": ".py",
   "mimetype": "text/x-python",
   "name": "python",
   "nbconvert_exporter": "python",
   "pygments_lexer": "ipython3",
   "version": "3.12.4"
  }
 },
 "nbformat": 4,
 "nbformat_minor": 5
}
