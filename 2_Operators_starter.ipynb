{
 "cells": [
  {
   "cell_type": "markdown",
   "id": "3d16584d-cddb-4c68-a7e1-ce698ada3a43",
   "metadata": {},
   "source": [
    "# OPERATORS"
   ]
  },
  {
   "cell_type": "markdown",
   "id": "3d4ffb18-366a-4948-9953-34319b1ac977",
   "metadata": {},
   "source": [
    "### ARITHMETIC OPERATORS"
   ]
  },
  {
   "cell_type": "markdown",
   "id": "b3a277e4-efcf-461b-8c8f-4f5b64386d30",
   "metadata": {},
   "source": [
    "    +  Addition"
   ]
  },
  {
   "cell_type": "code",
   "execution_count": null,
   "id": "20faa242-c990-4f7f-b613-99f790cd4815",
   "metadata": {},
   "outputs": [],
   "source": []
  },
  {
   "cell_type": "markdown",
   "id": "349b9c1a-c720-4fca-a466-635b02a678d0",
   "metadata": {},
   "source": [
    "    -  Subtraction"
   ]
  },
  {
   "cell_type": "code",
   "execution_count": null,
   "id": "a0250358-7d9a-4046-ab83-d46dff046531",
   "metadata": {},
   "outputs": [],
   "source": []
  },
  {
   "cell_type": "markdown",
   "id": "2699aaba-9d0c-46c3-b745-019c68849261",
   "metadata": {},
   "source": [
    "    *  Multiplication"
   ]
  },
  {
   "cell_type": "code",
   "execution_count": null,
   "id": "0f195cf6-5cd3-40d7-8c40-ff3dfe6680b4",
   "metadata": {},
   "outputs": [],
   "source": []
  },
  {
   "cell_type": "markdown",
   "id": "9a4026d2-41ac-4d6d-9105-ec8daaaf0a63",
   "metadata": {},
   "source": [
    "    /  Division"
   ]
  },
  {
   "cell_type": "code",
   "execution_count": null,
   "id": "d6de7973-78d2-436c-bfe3-b49957439992",
   "metadata": {},
   "outputs": [],
   "source": []
  },
  {
   "cell_type": "markdown",
   "id": "2929a4d1-5fbc-418e-83c6-589e0dc3621c",
   "metadata": {},
   "source": [
    "    %  Modulus"
   ]
  },
  {
   "cell_type": "code",
   "execution_count": null,
   "id": "ec3c6895-8cb0-44df-b5d3-b6f646260560",
   "metadata": {},
   "outputs": [],
   "source": []
  },
  {
   "cell_type": "markdown",
   "id": "b791597c-6f7c-4a46-b874-3e78046b37a9",
   "metadata": {},
   "source": [
    "    **  Exponentiation"
   ]
  },
  {
   "cell_type": "code",
   "execution_count": null,
   "id": "cc5f185c-0a5a-419f-8158-809e0e271d71",
   "metadata": {},
   "outputs": [],
   "source": []
  },
  {
   "cell_type": "markdown",
   "id": "72b57be1-e3b7-491c-91bf-536664e2e982",
   "metadata": {},
   "source": [
    "    // Floor Division"
   ]
  },
  {
   "cell_type": "code",
   "execution_count": null,
   "id": "cb6715dd-8db1-4030-8632-3a2e2f5b0648",
   "metadata": {},
   "outputs": [],
   "source": []
  },
  {
   "cell_type": "markdown",
   "id": "bee2f624-63af-45fa-9862-a19270e8f623",
   "metadata": {},
   "source": [
    "### OPERATOR PRECEDENCE"
   ]
  },
  {
   "cell_type": "markdown",
   "id": "8913f9a2-7550-4275-b47b-2335f53a2036",
   "metadata": {},
   "source": [
    "### ASSIGNMENT OPERATORS"
   ]
  },
  {
   "cell_type": "markdown",
   "id": "7448de2b-7f61-4696-8cff-c7481ea51cba",
   "metadata": {},
   "source": [
    "    ="
   ]
  },
  {
   "cell_type": "code",
   "execution_count": null,
   "id": "1f554cce-2d9a-478f-a98b-87482f15a9db",
   "metadata": {},
   "outputs": [],
   "source": []
  },
  {
   "cell_type": "markdown",
   "id": "3c5c7a23-9404-4f67-9dcb-add9246e430a",
   "metadata": {},
   "source": [
    "    +="
   ]
  },
  {
   "cell_type": "code",
   "execution_count": null,
   "id": "094a5937-e41e-4e9f-bda6-bd785a511729",
   "metadata": {},
   "outputs": [],
   "source": []
  },
  {
   "cell_type": "markdown",
   "id": "1d211e9d-9c00-4b99-8a01-aa36597a2263",
   "metadata": {},
   "source": [
    "    -="
   ]
  },
  {
   "cell_type": "code",
   "execution_count": null,
   "id": "e7fade78-135c-4efd-b394-4c18360ba55e",
   "metadata": {},
   "outputs": [],
   "source": []
  },
  {
   "cell_type": "markdown",
   "id": "9609b6f1-b6e7-48f0-a079-0616bbf8b6cc",
   "metadata": {},
   "source": [
    "    *="
   ]
  },
  {
   "cell_type": "code",
   "execution_count": null,
   "id": "418a270f-b36b-4684-a617-92628af12b64",
   "metadata": {},
   "outputs": [],
   "source": []
  },
  {
   "cell_type": "markdown",
   "id": "444eddc1-d38f-4e44-b197-d528dc80f4f1",
   "metadata": {},
   "source": [
    "    /="
   ]
  },
  {
   "cell_type": "code",
   "execution_count": null,
   "id": "e9e8252b-801e-4db0-9eee-2f922a81ff9a",
   "metadata": {},
   "outputs": [],
   "source": []
  },
  {
   "cell_type": "markdown",
   "id": "36dbc6a0-7fae-4895-a874-5b7500c8ce85",
   "metadata": {},
   "source": [
    "    %="
   ]
  },
  {
   "cell_type": "code",
   "execution_count": null,
   "id": "f9be123c-eedf-4f63-bf22-eeb14de6d78f",
   "metadata": {},
   "outputs": [],
   "source": []
  },
  {
   "cell_type": "markdown",
   "id": "338bf188-f9d5-49fd-9970-3084b47e829e",
   "metadata": {},
   "source": [
    "    //="
   ]
  },
  {
   "cell_type": "code",
   "execution_count": null,
   "id": "f1712742-2654-48e9-8ce4-8b63af54d59c",
   "metadata": {},
   "outputs": [],
   "source": []
  },
  {
   "cell_type": "markdown",
   "id": "dd771f44-cd43-49cf-bf6c-0f23338b0fe3",
   "metadata": {},
   "source": [
    "    **="
   ]
  },
  {
   "cell_type": "code",
   "execution_count": null,
   "id": "8d3f12a2-1969-4e6c-9b6f-8ce3f18f5e14",
   "metadata": {},
   "outputs": [],
   "source": []
  },
  {
   "cell_type": "markdown",
   "id": "c510d4fb-d9b1-4047-bdd3-337db05ff676",
   "metadata": {},
   "source": [
    "### COMPARISON OPERATORS"
   ]
  },
  {
   "cell_type": "markdown",
   "id": "d9b8b28c-0742-46c2-bb8f-6213608abaaf",
   "metadata": {},
   "source": [
    "    =="
   ]
  },
  {
   "cell_type": "code",
   "execution_count": null,
   "id": "cbd2f28a-c79b-4988-b5d8-cee3c288e963",
   "metadata": {},
   "outputs": [],
   "source": []
  },
  {
   "cell_type": "markdown",
   "id": "a82f7d47-7698-488b-948b-58ed8b8b38b4",
   "metadata": {},
   "source": [
    "    !="
   ]
  },
  {
   "cell_type": "code",
   "execution_count": null,
   "id": "31323e42-acb3-460b-9164-74b5c033df28",
   "metadata": {},
   "outputs": [],
   "source": []
  },
  {
   "cell_type": "markdown",
   "id": "26e51d43-6498-4389-b414-f08c5025d726",
   "metadata": {},
   "source": [
    "    >"
   ]
  },
  {
   "cell_type": "code",
   "execution_count": null,
   "id": "143e3577-0eec-4a00-a511-0318c7127510",
   "metadata": {},
   "outputs": [],
   "source": []
  },
  {
   "cell_type": "markdown",
   "id": "cd667d70-b6e3-47b8-9d94-0fc43b73b5d7",
   "metadata": {},
   "source": [
    "    <"
   ]
  },
  {
   "cell_type": "code",
   "execution_count": null,
   "id": "65fa0910-ea9d-4a87-8371-5e98cda86951",
   "metadata": {},
   "outputs": [],
   "source": []
  },
  {
   "cell_type": "markdown",
   "id": "56ea6b97-4f38-415d-a5f7-4a2695e84070",
   "metadata": {},
   "source": [
    "    >="
   ]
  },
  {
   "cell_type": "code",
   "execution_count": null,
   "id": "b09ff7a2-bdd5-4ea4-a7c3-812ecb2a8e95",
   "metadata": {},
   "outputs": [],
   "source": []
  },
  {
   "cell_type": "markdown",
   "id": "de62fe9b-1c73-4f0c-8d46-7e8b6a5af1dc",
   "metadata": {},
   "source": [
    "    <="
   ]
  },
  {
   "cell_type": "code",
   "execution_count": null,
   "id": "5efaa6e5-448f-428d-bbd2-423887fb1961",
   "metadata": {},
   "outputs": [],
   "source": []
  },
  {
   "cell_type": "markdown",
   "id": "c764da83-42ce-4dd3-aaa6-b6f0b8a090c5",
   "metadata": {},
   "source": [
    "### LOGICAL OPERATORS"
   ]
  },
  {
   "cell_type": "markdown",
   "id": "25701b68-43b6-4613-b1b0-5363fb76493c",
   "metadata": {},
   "source": [
    "    and"
   ]
  },
  {
   "cell_type": "code",
   "execution_count": null,
   "id": "705cab9e-84ad-484b-8632-fb48a4eea4df",
   "metadata": {},
   "outputs": [],
   "source": []
  },
  {
   "cell_type": "markdown",
   "id": "7134731f-8a19-4b62-8832-322cc199c848",
   "metadata": {},
   "source": [
    "    or"
   ]
  },
  {
   "cell_type": "code",
   "execution_count": null,
   "id": "8d27d76f-5bda-483c-a0c5-3ad3927f5607",
   "metadata": {},
   "outputs": [],
   "source": []
  },
  {
   "cell_type": "markdown",
   "id": "a90f3a96-0f20-4a51-b30f-5f4118c7f848",
   "metadata": {},
   "source": [
    "    not"
   ]
  },
  {
   "cell_type": "code",
   "execution_count": null,
   "id": "03103b10-7a8c-43eb-a97a-1bfeb445f3cd",
   "metadata": {},
   "outputs": [],
   "source": []
  },
  {
   "cell_type": "markdown",
   "id": "37dd9ce5-365b-4c04-990d-84a4bea8c2c2",
   "metadata": {},
   "source": [
    "### IDENTITY OPERATORS"
   ]
  },
  {
   "cell_type": "markdown",
   "id": "eba40229-99d6-4c78-92df-e31a1ef4844c",
   "metadata": {},
   "source": [
    "    is"
   ]
  },
  {
   "cell_type": "code",
   "execution_count": null,
   "id": "203de914-9b7c-41e4-973d-67fd0086ca96",
   "metadata": {},
   "outputs": [],
   "source": []
  },
  {
   "cell_type": "markdown",
   "id": "ba3c0c3b-33cc-4851-ba3a-9ece54cb648a",
   "metadata": {},
   "source": [
    "    is not"
   ]
  },
  {
   "cell_type": "code",
   "execution_count": null,
   "id": "0562ae9f-c2f5-401a-b2ee-e67f616708b7",
   "metadata": {},
   "outputs": [],
   "source": []
  },
  {
   "cell_type": "markdown",
   "id": "4c3e93f9-e812-497b-9a83-99731612eb3f",
   "metadata": {},
   "source": [
    "### MEMBERSHIP OPERATORS"
   ]
  },
  {
   "cell_type": "markdown",
   "id": "a71f3a84-7fa3-496b-a963-57f0b38cc290",
   "metadata": {},
   "source": [
    "    in"
   ]
  },
  {
   "cell_type": "code",
   "execution_count": null,
   "id": "1ebf0c01-a81e-4eb5-b17b-fa31411bd3a1",
   "metadata": {},
   "outputs": [],
   "source": []
  },
  {
   "cell_type": "markdown",
   "id": "ff1954d4-f190-4d90-99bb-d47711cd8d55",
   "metadata": {},
   "source": [
    "    not in"
   ]
  },
  {
   "cell_type": "code",
   "execution_count": null,
   "id": "34e785f8-b5cf-4899-9982-0182a813337c",
   "metadata": {},
   "outputs": [],
   "source": []
  }
 ],
 "metadata": {
  "kernelspec": {
   "display_name": "Python 3 (ipykernel)",
   "language": "python",
   "name": "python3"
  },
  "language_info": {
   "codemirror_mode": {
    "name": "ipython",
    "version": 3
   },
   "file_extension": ".py",
   "mimetype": "text/x-python",
   "name": "python",
   "nbconvert_exporter": "python",
   "pygments_lexer": "ipython3",
   "version": "3.12.4"
  }
 },
 "nbformat": 4,
 "nbformat_minor": 5
}
