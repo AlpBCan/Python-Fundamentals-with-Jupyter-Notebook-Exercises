{
 "cells": [
  {
   "cell_type": "markdown",
   "id": "cef1784f-9439-4017-94e0-d9257379a905",
   "metadata": {},
   "source": [
    "# EXERCISE 1: DATA TYPES AND OPERATORS"
   ]
  },
  {
   "cell_type": "markdown",
   "id": "488ad894-bc04-4b88-9b5c-7943082cf6e3",
   "metadata": {},
   "source": [
    "### Define two variables a and b, with integer values 6 and 2 "
   ]
  },
  {
   "cell_type": "code",
   "execution_count": null,
   "id": "6bf9693f-1297-47de-bcb6-e6d37a91780d",
   "metadata": {},
   "outputs": [],
   "source": [
    "a = 6\n",
    "b = 2"
   ]
  },
  {
   "cell_type": "markdown",
   "id": "bbce2947-0ef1-487d-89e9-e639715d5130",
   "metadata": {},
   "source": [
    "### Add them together and assign the result to a variable called 'sum'"
   ]
  },
  {
   "cell_type": "code",
   "execution_count": null,
   "id": "cb087a0c-852e-475d-b646-d9bc8ff81e6f",
   "metadata": {},
   "outputs": [],
   "source": [
    "sum = a + b\n",
    "sum"
   ]
  },
  {
   "cell_type": "markdown",
   "id": "0fae1561-356a-43fb-859a-ee944634b0c0",
   "metadata": {},
   "source": [
    "### Subtract b from a and assign the result to 'difference'"
   ]
  },
  {
   "cell_type": "code",
   "execution_count": null,
   "id": "ecc2b216-33b2-4d2c-a7c2-84a7f3403ca0",
   "metadata": {},
   "outputs": [],
   "source": [
    "difference = a - b\n",
    "difference"
   ]
  },
  {
   "cell_type": "markdown",
   "id": "af0ea3cc-83e0-4f9b-8f25-04b25e3268ad",
   "metadata": {},
   "source": [
    "### Multiply them and assign the result to 'product'"
   ]
  },
  {
   "cell_type": "code",
   "execution_count": null,
   "id": "b51b65de-0108-4278-ac16-50c49543f748",
   "metadata": {},
   "outputs": [],
   "source": [
    "product = a * b\n",
    "product"
   ]
  },
  {
   "cell_type": "markdown",
   "id": "a3aa69dd-1d0f-41da-b94e-fa122131eca8",
   "metadata": {},
   "source": [
    "### Divide a with b and assign thr result to 'division'"
   ]
  },
  {
   "cell_type": "code",
   "execution_count": null,
   "id": "d69a3748-adb8-4718-b271-9b4af59dc707",
   "metadata": {},
   "outputs": [],
   "source": [
    "division = a / b\n",
    "division"
   ]
  },
  {
   "cell_type": "markdown",
   "id": "ff78cd73-2019-48e9-bfc4-60d87694e909",
   "metadata": {},
   "source": [
    "### Do the same thing with floor division, assign result to 'floor'"
   ]
  },
  {
   "cell_type": "code",
   "execution_count": null,
   "id": "c18d99aa-d9ba-45e7-964c-3e8aefa0ae58",
   "metadata": {},
   "outputs": [],
   "source": [
    "floor = a // b\n",
    "floor"
   ]
  },
  {
   "cell_type": "markdown",
   "id": "c48072bd-eb60-46fd-8331-bf80c8e29e58",
   "metadata": {},
   "source": [
    "### Calculate a to the b'th power"
   ]
  },
  {
   "cell_type": "code",
   "execution_count": null,
   "id": "5193c054-2042-4fc8-bafd-468c4073872f",
   "metadata": {},
   "outputs": [],
   "source": [
    "a ** b"
   ]
  },
  {
   "cell_type": "markdown",
   "id": "c2f12a49-3d6a-49c9-9729-83a2255a20d7",
   "metadata": {},
   "source": [
    "### Save your first name, age, job and marriage status into accurate variables"
   ]
  },
  {
   "cell_type": "code",
   "execution_count": null,
   "id": "cd1283f2-a639-4df5-94cf-87aec676d8b3",
   "metadata": {},
   "outputs": [],
   "source": [
    "name = 'Alp'\n",
    "age = 30\n",
    "job = 'Engineer'\n",
    "is_married = True"
   ]
  },
  {
   "cell_type": "markdown",
   "id": "1c311730-8067-463b-8861-9532f7184e5c",
   "metadata": {},
   "source": [
    "### Put the variables in a list called 'me'"
   ]
  },
  {
   "cell_type": "code",
   "execution_count": null,
   "id": "bef8f9e6-b979-4e70-90be-2d0a227ff15a",
   "metadata": {},
   "outputs": [],
   "source": [
    "me = [name, age, job, is_married]\n",
    "print(me)"
   ]
  },
  {
   "cell_type": "markdown",
   "id": "fa6d7b9d-3f55-49d4-a8b4-273a1173e1ce",
   "metadata": {},
   "source": [
    "### Add your last name to your first name"
   ]
  },
  {
   "cell_type": "code",
   "execution_count": null,
   "id": "f69fe280-d59d-4a48-916b-064903114035",
   "metadata": {},
   "outputs": [],
   "source": [
    "# name = 'Alp Can'\n",
    "# name = name + ' ' + 'Can'\n",
    "name = name + ' Can'\n",
    "name"
   ]
  },
  {
   "cell_type": "markdown",
   "id": "f2d066bf-67c7-4ece-84d6-b15b614cb9d3",
   "metadata": {},
   "source": [
    "### Increase your age by 2"
   ]
  },
  {
   "cell_type": "code",
   "execution_count": null,
   "id": "c4b1169b-a9cb-4b67-9432-0f09b83fdb89",
   "metadata": {},
   "outputs": [],
   "source": [
    "age += 2\n",
    "age"
   ]
  },
  {
   "cell_type": "markdown",
   "id": "9fd85559-4405-4102-8382-3fa8f69b9879",
   "metadata": {},
   "source": [
    "### Change your job to your dream job by assigning a new value"
   ]
  },
  {
   "cell_type": "code",
   "execution_count": null,
   "id": "77dd1d0f-c2bd-4731-8dc6-94c60b27f3f8",
   "metadata": {},
   "outputs": [],
   "source": [
    "job = 'Teacher'"
   ]
  },
  {
   "cell_type": "markdown",
   "id": "d579106d-b8e6-4569-8709-6e85c8abb90b",
   "metadata": {},
   "source": [
    "### Change your marriage status"
   ]
  },
  {
   "cell_type": "code",
   "execution_count": null,
   "id": "270e6e70-6979-4c0c-9e78-0b27de6becaa",
   "metadata": {},
   "outputs": [],
   "source": [
    "is_married = not is_married\n",
    "is_married"
   ]
  },
  {
   "cell_type": "markdown",
   "id": "3c132c57-ac32-49db-9e86-0ab134a6980d",
   "metadata": {},
   "source": [
    "### Put the variables in a list called 'new_me' and print the list"
   ]
  },
  {
   "cell_type": "code",
   "execution_count": null,
   "id": "3b63b388-323f-431b-add0-3a6e9eb154ce",
   "metadata": {},
   "outputs": [],
   "source": [
    "new_me = [name, age, job, is_married]\n",
    "print(new_me)"
   ]
  },
  {
   "cell_type": "markdown",
   "id": "bad34faf-45f0-4845-82f3-7570bccaa254",
   "metadata": {},
   "source": [
    "### Check if your age is higher than 18 and if you are married"
   ]
  },
  {
   "cell_type": "code",
   "execution_count": null,
   "id": "6aef7d0e-7e9e-414a-b1b5-a7bb2a421799",
   "metadata": {},
   "outputs": [],
   "source": [
    "age > 18 and is_married"
   ]
  },
  {
   "cell_type": "markdown",
   "id": "6febf8fa-7dec-4d7b-aab9-f077fa32b71d",
   "metadata": {},
   "source": [
    "### Check if your age is higher than 25 or if you are married"
   ]
  },
  {
   "cell_type": "code",
   "execution_count": null,
   "id": "2d222240-e664-4fa9-9751-0bf79aa79e87",
   "metadata": {},
   "outputs": [],
   "source": [
    "age > 25 or is_married"
   ]
  },
  {
   "cell_type": "markdown",
   "id": "a32f5e45-f41f-4bd6-a49c-a15cb2671529",
   "metadata": {},
   "source": [
    "### Calculate your BMI - Body Mass Index both in metric units(kg, m) and imperial units(lb, in). Find the formula yourself from Google\n",
    "    "
   ]
  },
  {
   "cell_type": "code",
   "execution_count": null,
   "id": "86f24553-7028-44c1-bea9-3e1712740e6d",
   "metadata": {},
   "outputs": [],
   "source": [
    "metric_bmi = 78 / 1.78**2\n",
    "metric_bmi"
   ]
  },
  {
   "cell_type": "code",
   "execution_count": null,
   "id": "36e148d4-2301-4b27-8d98-805219f6cdf1",
   "metadata": {},
   "outputs": [],
   "source": [
    "imperial_bmi = 703 * (171.960565 / 70.0787402**2)\n",
    "imperial_bmi"
   ]
  },
  {
   "cell_type": "markdown",
   "id": "5c680e12-2a66-452a-be09-e7dd323693aa",
   "metadata": {},
   "source": [
    "### Check if the two calculated bmi values are the same"
   ]
  },
  {
   "cell_type": "code",
   "execution_count": null,
   "id": "1f3a2d9b-883e-467b-99d6-8ca1c554101f",
   "metadata": {},
   "outputs": [],
   "source": [
    "metric_bmi == imperial_bmi"
   ]
  },
  {
   "cell_type": "markdown",
   "id": "a7170af8-dfa3-4725-91b8-134a6252d096",
   "metadata": {},
   "source": [
    "### Convert bmi values to integers. Check again if they are the same"
   ]
  },
  {
   "cell_type": "code",
   "execution_count": null,
   "id": "8fa7ba28-5319-40e7-9195-36935eb162db",
   "metadata": {},
   "outputs": [],
   "source": [
    "metric_bmi = int(metric_bmi)\n",
    "imperial_bmi = int(imperial_bmi)\n",
    "metric_bmi == imperial_bmi"
   ]
  }
 ],
 "metadata": {
  "kernelspec": {
   "display_name": "Python 3 (ipykernel)",
   "language": "python",
   "name": "python3"
  },
  "language_info": {
   "codemirror_mode": {
    "name": "ipython",
    "version": 3
   },
   "file_extension": ".py",
   "mimetype": "text/x-python",
   "name": "python",
   "nbconvert_exporter": "python",
   "pygments_lexer": "ipython3",
   "version": "3.12.4"
  }
 },
 "nbformat": 4,
 "nbformat_minor": 5
}
