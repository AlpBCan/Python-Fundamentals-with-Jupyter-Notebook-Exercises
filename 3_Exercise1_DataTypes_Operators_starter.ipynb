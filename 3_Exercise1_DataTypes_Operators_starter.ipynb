{
 "cells": [
  {
   "cell_type": "markdown",
   "id": "fc00928d-f15e-4fb8-bac5-0c9061aa0266",
   "metadata": {},
   "source": [
    "# EXERCISE 1: DATA TYPES AND OPERATORS"
   ]
  },
  {
   "cell_type": "markdown",
   "id": "488ad894-bc04-4b88-9b5c-7943082cf6e3",
   "metadata": {},
   "source": [
    "### Define two variables a and b, with integer values 6 and 2 "
   ]
  },
  {
   "cell_type": "code",
   "execution_count": null,
   "id": "15dcf924-dbfe-4f2e-a7cb-f2fca83cd76c",
   "metadata": {},
   "outputs": [],
   "source": []
  },
  {
   "cell_type": "markdown",
   "id": "bbce2947-0ef1-487d-89e9-e639715d5130",
   "metadata": {},
   "source": [
    "### Add them together and assign the result to a variable called 'sum'"
   ]
  },
  {
   "cell_type": "code",
   "execution_count": null,
   "id": "68aef491-42b2-454c-9c0c-7e929793e914",
   "metadata": {},
   "outputs": [],
   "source": []
  },
  {
   "cell_type": "markdown",
   "id": "0fae1561-356a-43fb-859a-ee944634b0c0",
   "metadata": {},
   "source": [
    "### Subtract b from a and assign the result to 'difference'"
   ]
  },
  {
   "cell_type": "code",
   "execution_count": null,
   "id": "c2058a05-4312-4e10-9c82-1972c11be16a",
   "metadata": {},
   "outputs": [],
   "source": []
  },
  {
   "cell_type": "markdown",
   "id": "af0ea3cc-83e0-4f9b-8f25-04b25e3268ad",
   "metadata": {},
   "source": [
    "### Multiply them and assign the result to 'product'"
   ]
  },
  {
   "cell_type": "code",
   "execution_count": null,
   "id": "e2a54f94-0978-4ba3-93fe-da3f752d4fd3",
   "metadata": {},
   "outputs": [],
   "source": []
  },
  {
   "cell_type": "markdown",
   "id": "a3aa69dd-1d0f-41da-b94e-fa122131eca8",
   "metadata": {},
   "source": [
    "### Divide a with b and assign thr result to 'division'"
   ]
  },
  {
   "cell_type": "code",
   "execution_count": null,
   "id": "582a9e2d-94e2-45c7-8c03-54a76966b9eb",
   "metadata": {},
   "outputs": [],
   "source": []
  },
  {
   "cell_type": "markdown",
   "id": "ff78cd73-2019-48e9-bfc4-60d87694e909",
   "metadata": {},
   "source": [
    "### Do the same thing with floor division, assign result to 'floor'"
   ]
  },
  {
   "cell_type": "code",
   "execution_count": null,
   "id": "af6b90d6-5b64-440b-8938-ed8917fa40be",
   "metadata": {},
   "outputs": [],
   "source": []
  },
  {
   "cell_type": "markdown",
   "id": "c48072bd-eb60-46fd-8331-bf80c8e29e58",
   "metadata": {},
   "source": [
    "### Calculate a to the b'th power"
   ]
  },
  {
   "cell_type": "code",
   "execution_count": null,
   "id": "daf7f2c9-50e3-4f59-9a1a-f6f68bef2ab3",
   "metadata": {},
   "outputs": [],
   "source": []
  },
  {
   "cell_type": "markdown",
   "id": "c2f12a49-3d6a-49c9-9729-83a2255a20d7",
   "metadata": {},
   "source": [
    "### Save your first name, age, job and marriage status into accurate variables"
   ]
  },
  {
   "cell_type": "code",
   "execution_count": null,
   "id": "27c71ba0-f90b-4669-90fd-c8ab899e6ad8",
   "metadata": {},
   "outputs": [],
   "source": []
  },
  {
   "cell_type": "markdown",
   "id": "1c311730-8067-463b-8861-9532f7184e5c",
   "metadata": {},
   "source": [
    "### Put the variables in a list called 'me'"
   ]
  },
  {
   "cell_type": "code",
   "execution_count": null,
   "id": "34fe5140-d0d5-4390-a302-469e12c596a9",
   "metadata": {},
   "outputs": [],
   "source": []
  },
  {
   "cell_type": "markdown",
   "id": "fa6d7b9d-3f55-49d4-a8b4-273a1173e1ce",
   "metadata": {},
   "source": [
    "### Add your last name to your first name"
   ]
  },
  {
   "cell_type": "code",
   "execution_count": null,
   "id": "99dcbc7f-bc9b-46dc-a679-6bbace35d376",
   "metadata": {},
   "outputs": [],
   "source": []
  },
  {
   "cell_type": "markdown",
   "id": "f2d066bf-67c7-4ece-84d6-b15b614cb9d3",
   "metadata": {},
   "source": [
    "### Increase your age by 2"
   ]
  },
  {
   "cell_type": "code",
   "execution_count": null,
   "id": "d6a3b25a-6122-4138-a433-1f152475fd2a",
   "metadata": {},
   "outputs": [],
   "source": []
  },
  {
   "cell_type": "markdown",
   "id": "9fd85559-4405-4102-8382-3fa8f69b9879",
   "metadata": {},
   "source": [
    "### Change your job to your dream job by assigning a new value"
   ]
  },
  {
   "cell_type": "code",
   "execution_count": null,
   "id": "7afa971b-4911-4908-a539-a0d48c9c35ad",
   "metadata": {},
   "outputs": [],
   "source": []
  },
  {
   "cell_type": "markdown",
   "id": "d579106d-b8e6-4569-8709-6e85c8abb90b",
   "metadata": {},
   "source": [
    "### Change your marriage status"
   ]
  },
  {
   "cell_type": "code",
   "execution_count": null,
   "id": "69903848-fdae-4b30-9919-0070ba9867dc",
   "metadata": {},
   "outputs": [],
   "source": []
  },
  {
   "cell_type": "markdown",
   "id": "3c132c57-ac32-49db-9e86-0ab134a6980d",
   "metadata": {},
   "source": [
    "### Put the variables in a list called 'new_me' and print the list"
   ]
  },
  {
   "cell_type": "code",
   "execution_count": null,
   "id": "20d8f1d3-67d9-4761-a458-4e1c315662d7",
   "metadata": {},
   "outputs": [],
   "source": []
  },
  {
   "cell_type": "markdown",
   "id": "bad34faf-45f0-4845-82f3-7570bccaa254",
   "metadata": {},
   "source": [
    "### Check if your age is higher than 18 and if you are married"
   ]
  },
  {
   "cell_type": "code",
   "execution_count": null,
   "id": "e486834f-d9fc-4fe3-a31f-d400e8becb14",
   "metadata": {},
   "outputs": [],
   "source": []
  },
  {
   "cell_type": "markdown",
   "id": "6febf8fa-7dec-4d7b-aab9-f077fa32b71d",
   "metadata": {},
   "source": [
    "### Check if your age is higher than 25 or if you are married"
   ]
  },
  {
   "cell_type": "code",
   "execution_count": null,
   "id": "00cfed16-65a5-47b5-91aa-2260da8ecf76",
   "metadata": {},
   "outputs": [],
   "source": []
  },
  {
   "cell_type": "markdown",
   "id": "a32f5e45-f41f-4bd6-a49c-a15cb2671529",
   "metadata": {},
   "source": [
    "### Calculate your BMI - Body Mass Index both in metric units(kg, m) and imperial units(lb, in). Find the formula yourself from Google"
   ]
  },
  {
   "cell_type": "code",
   "execution_count": null,
   "id": "19576e5e-d319-460b-a15f-0c7b5a9a2a82",
   "metadata": {},
   "outputs": [],
   "source": []
  },
  {
   "cell_type": "markdown",
   "id": "5c680e12-2a66-452a-be09-e7dd323693aa",
   "metadata": {},
   "source": [
    "### Check if the two calculated bmi values are the same"
   ]
  },
  {
   "cell_type": "code",
   "execution_count": null,
   "id": "a667e1e8-00a9-44c1-85bc-f4fa66c55dbc",
   "metadata": {},
   "outputs": [],
   "source": []
  },
  {
   "cell_type": "markdown",
   "id": "a7170af8-dfa3-4725-91b8-134a6252d096",
   "metadata": {},
   "source": [
    "### Convert bmi values to integers. Check again if they are the same"
   ]
  },
  {
   "cell_type": "code",
   "execution_count": null,
   "id": "f36156e2-5a94-4138-be9c-962b78473adb",
   "metadata": {},
   "outputs": [],
   "source": []
  }
 ],
 "metadata": {
  "kernelspec": {
   "display_name": "Python 3 (ipykernel)",
   "language": "python",
   "name": "python3"
  },
  "language_info": {
   "codemirror_mode": {
    "name": "ipython",
    "version": 3
   },
   "file_extension": ".py",
   "mimetype": "text/x-python",
   "name": "python",
   "nbconvert_exporter": "python",
   "pygments_lexer": "ipython3",
   "version": "3.12.4"
  }
 },
 "nbformat": 4,
 "nbformat_minor": 5
}
