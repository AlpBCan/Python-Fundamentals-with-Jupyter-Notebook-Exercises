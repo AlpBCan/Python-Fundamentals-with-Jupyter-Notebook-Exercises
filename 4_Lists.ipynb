{
 "cells": [
  {
   "cell_type": "markdown",
   "id": "ba31cd19-b582-4279-bb6f-80c7967c1e46",
   "metadata": {},
   "source": [
    "# LISTS"
   ]
  },
  {
   "cell_type": "markdown",
   "id": "3647d0a1-3d5c-480a-9945-123c7eff13f2",
   "metadata": {},
   "source": [
    "### LIST EXAMPLES"
   ]
  },
  {
   "cell_type": "code",
   "execution_count": null,
   "id": "fa5be923-2044-42a9-98d9-33e8ff13bb4f",
   "metadata": {},
   "outputs": [],
   "source": [
    "empty_list = []\n",
    "numbers = [1, 2, 3, 4, 5, 6]\n",
    "texts = ['hello', 'world', 'I', 'use', 'python']\n",
    "my_mixed_list = [15, 'hello', 'world', 3, 5.12, False]\n",
    "nested_list = [[1, 2], [12, 15], ['hello', 'world']]"
   ]
  },
  {
   "cell_type": "markdown",
   "id": "bf52fff9-73b8-45c4-b605-08c7f73c1efb",
   "metadata": {},
   "source": [
    "### INDEXING"
   ]
  },
  {
   "cell_type": "code",
   "execution_count": null,
   "id": "e534241b-0e3d-4751-8ff7-24a42aee4496",
   "metadata": {},
   "outputs": [],
   "source": [
    "numbers = [1, 2, 3, 4, 5, 6]\n",
    "numbers[0]"
   ]
  },
  {
   "cell_type": "code",
   "execution_count": null,
   "id": "b15316b3-edc5-474e-ba13-a4e3df6b1fa8",
   "metadata": {},
   "outputs": [],
   "source": [
    "numbers[5]"
   ]
  },
  {
   "cell_type": "code",
   "execution_count": null,
   "id": "c48089f8-f95b-4970-8999-87d954ae19fb",
   "metadata": {},
   "outputs": [],
   "source": [
    "# numbers[6]"
   ]
  },
  {
   "cell_type": "code",
   "execution_count": null,
   "id": "53fd17fe-076a-440b-a123-a2a884c5ace7",
   "metadata": {},
   "outputs": [],
   "source": [
    "texts = ['hello', 'world', 'I', 'use', 'python']\n",
    "texts[1]"
   ]
  },
  {
   "cell_type": "code",
   "execution_count": null,
   "id": "640f82d6-5dbf-4a0d-ad96-27f4e16d5e77",
   "metadata": {},
   "outputs": [],
   "source": [
    "texts[0]"
   ]
  },
  {
   "cell_type": "code",
   "execution_count": null,
   "id": "81832756-e9a6-4f14-9173-21c5d97f2b21",
   "metadata": {},
   "outputs": [],
   "source": [
    "texts[4]"
   ]
  },
  {
   "cell_type": "code",
   "execution_count": null,
   "id": "0da1462d-55a4-44d6-97bd-d4dc32b60846",
   "metadata": {},
   "outputs": [],
   "source": [
    "texts[-1]"
   ]
  },
  {
   "cell_type": "code",
   "execution_count": null,
   "id": "d38b7d1f-70c0-4a43-a5da-cb1453e3f747",
   "metadata": {},
   "outputs": [],
   "source": [
    "texts[-2]"
   ]
  },
  {
   "cell_type": "code",
   "execution_count": null,
   "id": "f0a2e472-9b6a-44bf-9fb7-883436b7d823",
   "metadata": {},
   "outputs": [],
   "source": [
    "texts[-5]"
   ]
  },
  {
   "cell_type": "code",
   "execution_count": null,
   "id": "a6551057-4be6-4ca4-9855-9b60abb66443",
   "metadata": {},
   "outputs": [],
   "source": [
    "# texts[-6]"
   ]
  },
  {
   "cell_type": "markdown",
   "id": "933c2960-e09d-47c6-abc9-10f821152b00",
   "metadata": {},
   "source": [
    "### SLICING"
   ]
  },
  {
   "cell_type": "code",
   "execution_count": null,
   "id": "e024b846-7434-4418-8146-ea0693407b54",
   "metadata": {},
   "outputs": [],
   "source": [
    "numbers = [1, 2, 3, 4, 5, 6]\n",
    "numbers[:]"
   ]
  },
  {
   "cell_type": "code",
   "execution_count": null,
   "id": "905dd4a9-4217-4fbb-aba8-f182eacbf20e",
   "metadata": {},
   "outputs": [],
   "source": [
    "numbers[2:]"
   ]
  },
  {
   "cell_type": "code",
   "execution_count": null,
   "id": "0223613b-ddb8-4fac-921d-7ff1c135daa3",
   "metadata": {},
   "outputs": [],
   "source": [
    "numbers[2:4]"
   ]
  },
  {
   "cell_type": "code",
   "execution_count": null,
   "id": "80326e46-5ba9-4eb3-b929-13024bcb7662",
   "metadata": {},
   "outputs": [],
   "source": [
    "numbers[:3]"
   ]
  },
  {
   "cell_type": "code",
   "execution_count": null,
   "id": "9dead7fc-f574-453d-b8c8-af2b42a88323",
   "metadata": {},
   "outputs": [],
   "source": [
    "numbers[:-2]"
   ]
  },
  {
   "cell_type": "markdown",
   "id": "db727fc8-11f5-4251-83e3-5ca389c6b9c6",
   "metadata": {},
   "source": [
    "### CHANGING ELEMENTS"
   ]
  },
  {
   "cell_type": "code",
   "execution_count": null,
   "id": "4b6a5613-ae30-4fe3-b37e-2d29b1a72b65",
   "metadata": {},
   "outputs": [],
   "source": [
    "numbers = [1, 2, 3, 4, 5, 6]\n",
    "numbers[1] = 40\n",
    "numbers"
   ]
  },
  {
   "cell_type": "code",
   "execution_count": null,
   "id": "eb3a8120-0514-4a86-b795-37bd70813d50",
   "metadata": {},
   "outputs": [],
   "source": [
    "texts = ['hello', 'world', 'I', 'use', 'python']\n",
    "texts[-1] = 'java'\n",
    "texts"
   ]
  },
  {
   "cell_type": "code",
   "execution_count": null,
   "id": "5d4dbd84-d99d-4de2-b233-15db42e4e0f1",
   "metadata": {},
   "outputs": [],
   "source": [
    "numbers"
   ]
  },
  {
   "cell_type": "code",
   "execution_count": null,
   "id": "58e69792-f7d5-451f-a386-5c23057f64f4",
   "metadata": {},
   "outputs": [],
   "source": [
    "numbers[1:4] = ['a', 'b', 'c']\n",
    "numbers"
   ]
  },
  {
   "cell_type": "markdown",
   "id": "a623a0c8-306b-47aa-ba30-f6089ec3e6c3",
   "metadata": {},
   "source": [
    "### LIST METHODS"
   ]
  },
  {
   "cell_type": "markdown",
   "id": "2710c663-bdfd-4414-b17b-0c068f8d6cf5",
   "metadata": {},
   "source": [
    "##### append() --> add a new element to the end of the list"
   ]
  },
  {
   "cell_type": "code",
   "execution_count": null,
   "id": "7272a108-be4e-4bbc-b118-d9e02ef68e98",
   "metadata": {},
   "outputs": [],
   "source": [
    "numbers = [1, 2, 3, 4, 5, 6]\n",
    "numbers.append(7)\n",
    "numbers"
   ]
  },
  {
   "cell_type": "markdown",
   "id": "e62b42d9-969e-44fc-aa7a-9e37991a1c3f",
   "metadata": {},
   "source": [
    "##### extend() --> add elements(or another list) to the end of the list"
   ]
  },
  {
   "cell_type": "code",
   "execution_count": null,
   "id": "51668c90-c06d-41a5-88f5-a62bae85a36d",
   "metadata": {},
   "outputs": [],
   "source": [
    "numbers.extend([8,9])\n",
    "numbers"
   ]
  },
  {
   "cell_type": "code",
   "execution_count": null,
   "id": "709750f8-d0d4-4c24-8a3f-2e9ab2e39e92",
   "metadata": {},
   "outputs": [],
   "source": [
    "additional_numbers = [10, 11, 12]\n",
    "numbers.extend(additional_numbers)\n",
    "numbers"
   ]
  },
  {
   "cell_type": "markdown",
   "id": "cd7bde60-b7e9-4be1-8af8-dd0152157392",
   "metadata": {},
   "source": [
    "##### insert() --> inserts an element at a specified index"
   ]
  },
  {
   "cell_type": "code",
   "execution_count": null,
   "id": "2ef4ba92-2d66-4c03-91c9-6aaa34f1056f",
   "metadata": {},
   "outputs": [],
   "source": [
    "numbers = [1, 2, 3, 4, 5, 6]\n",
    "numbers.insert(1, 'hundred')\n",
    "numbers"
   ]
  },
  {
   "cell_type": "code",
   "execution_count": null,
   "id": "f4287e32-a149-4c4c-be1e-c9ccd47f1b9e",
   "metadata": {},
   "outputs": [],
   "source": [
    "numbers[1]"
   ]
  },
  {
   "cell_type": "code",
   "execution_count": null,
   "id": "1776969a-2bf1-4e95-a707-eccc4e951d5d",
   "metadata": {},
   "outputs": [],
   "source": [
    "numbers[2]"
   ]
  },
  {
   "cell_type": "markdown",
   "id": "5a2476c5-8f85-4375-b2e6-277b9866170d",
   "metadata": {},
   "source": [
    "##### remove() --> removes the first occurance of the specified value"
   ]
  },
  {
   "cell_type": "code",
   "execution_count": null,
   "id": "5e655c43-32bc-4c1b-9df8-a7cc5f3b2e6a",
   "metadata": {},
   "outputs": [],
   "source": [
    "numbers = [1, 2, 3, 4, 5, 6, 3]\n",
    "numbers.remove(3)\n",
    "numbers"
   ]
  },
  {
   "cell_type": "code",
   "execution_count": null,
   "id": "aba8880b-1b2d-4aa3-b6f3-660d5a6fbd37",
   "metadata": {},
   "outputs": [],
   "source": [
    "numbers.remove(3)\n",
    "numbers"
   ]
  },
  {
   "cell_type": "code",
   "execution_count": null,
   "id": "2082638a-6fa1-4966-83b3-e33603e3e989",
   "metadata": {},
   "outputs": [],
   "source": [
    "# numbers.remove(3)"
   ]
  },
  {
   "cell_type": "markdown",
   "id": "9ad3b37a-c9e3-4d19-a0ae-20cd0d79eb9b",
   "metadata": {},
   "source": [
    "##### pop() --> removes and returns the element at the specified index"
   ]
  },
  {
   "cell_type": "code",
   "execution_count": null,
   "id": "bfd64232-15de-4c1d-a9db-7fcbde702768",
   "metadata": {},
   "outputs": [],
   "source": [
    "numbers = [1, 2, 3, 4, 5, 6]\n",
    "deleted_element = numbers.pop()\n",
    "print(deleted_element)\n",
    "print(numbers)"
   ]
  },
  {
   "cell_type": "code",
   "execution_count": null,
   "id": "c8b95fa0-7f7a-43f1-a4a8-44aa8af9ed84",
   "metadata": {},
   "outputs": [],
   "source": [
    "numbers.pop(3)\n",
    "numbers"
   ]
  },
  {
   "cell_type": "markdown",
   "id": "834d2129-88c2-4be1-9f55-59ae9d0df5d2",
   "metadata": {},
   "source": [
    "##### clear() --> deletes all elements of the list"
   ]
  },
  {
   "cell_type": "code",
   "execution_count": null,
   "id": "0529849f-0334-43ca-ba2c-b52682eaa2ba",
   "metadata": {},
   "outputs": [],
   "source": [
    "numbers"
   ]
  },
  {
   "cell_type": "code",
   "execution_count": null,
   "id": "091bc7f9-ddbd-403e-b95e-2de2171e0a3b",
   "metadata": {},
   "outputs": [],
   "source": [
    "numbers.clear()\n",
    "numbers"
   ]
  },
  {
   "cell_type": "markdown",
   "id": "eb48b8a8-12ec-4766-b078-e962ac70ba9b",
   "metadata": {},
   "source": [
    "##### index() --> returns index of the for occurance of the specified value"
   ]
  },
  {
   "cell_type": "code",
   "execution_count": null,
   "id": "57fc0fcb-a444-4cde-8133-75a2c44465d7",
   "metadata": {},
   "outputs": [],
   "source": [
    "numbers = [1, 2, 3, 4, 5, 6, 5]\n",
    "index_of_integer_five = numbers.index(5)\n",
    "index_of_integer_five"
   ]
  },
  {
   "cell_type": "markdown",
   "id": "465d2982-2b78-416e-8a41-da1a8a3d6428",
   "metadata": {},
   "source": [
    "##### count() --> returns number of occurances of the specified value"
   ]
  },
  {
   "cell_type": "code",
   "execution_count": null,
   "id": "2c577f8b-2ff9-47ad-96ef-99da49f3c3ca",
   "metadata": {},
   "outputs": [],
   "source": [
    "numbers.count(1)"
   ]
  },
  {
   "cell_type": "code",
   "execution_count": null,
   "id": "74971718-03e7-4d71-9436-b92286b14b15",
   "metadata": {},
   "outputs": [],
   "source": [
    "numbers.count(5)"
   ]
  },
  {
   "cell_type": "code",
   "execution_count": null,
   "id": "4202e176-5911-47f6-8347-7788d35f20ec",
   "metadata": {},
   "outputs": [],
   "source": [
    "numbers.count(20)"
   ]
  },
  {
   "cell_type": "markdown",
   "id": "c864a52c-7a00-4041-9e77-028b80304b86",
   "metadata": {},
   "source": [
    "##### sort() --> sorts the list in ascending order, you can change the order"
   ]
  },
  {
   "cell_type": "code",
   "execution_count": null,
   "id": "144b522e-e225-4b5a-921a-44f32b14b971",
   "metadata": {},
   "outputs": [],
   "source": [
    "new_numbers = [2, 5, 1, 17, 14, 0]\n",
    "new_numbers.sort()\n",
    "new_numbers"
   ]
  },
  {
   "cell_type": "code",
   "execution_count": null,
   "id": "9ab8447c-ec56-40cb-8bdb-7710399844aa",
   "metadata": {},
   "outputs": [],
   "source": [
    "new_numbers = [2, 5, 1, 17, 14, 0]\n",
    "new_numbers.sort(reverse=True)\n",
    "new_numbers"
   ]
  },
  {
   "cell_type": "code",
   "execution_count": null,
   "id": "7220875d-7d3b-4499-9344-c4011e316ee6",
   "metadata": {},
   "outputs": [],
   "source": [
    "texts = ['hello', 'world', 'I', 'use', 'python']\n",
    "texts.sort()\n",
    "texts"
   ]
  },
  {
   "cell_type": "code",
   "execution_count": null,
   "id": "1766f9da-d5dd-49be-8a19-1c5882a9ed84",
   "metadata": {},
   "outputs": [],
   "source": [
    "# my_mixed_list = [15, 'hello', 'world', 3, 5.12, False]\n",
    "# my_mixed_list.sort()\n",
    "# my_mixed_list"
   ]
  },
  {
   "cell_type": "markdown",
   "id": "79714cf4-04e5-403f-8a52-7a165347a52c",
   "metadata": {},
   "source": [
    "##### reverse() --> reverses the order"
   ]
  },
  {
   "cell_type": "code",
   "execution_count": null,
   "id": "c4f8f49f-92fc-4c16-8014-64e1d91275e6",
   "metadata": {},
   "outputs": [],
   "source": [
    "reverse_list = [4, 3, 2, 1]\n",
    "reverse_list.reverse()\n",
    "reverse_list"
   ]
  },
  {
   "cell_type": "markdown",
   "id": "132ef5ed-7189-4338-995c-a07ff8bfc04c",
   "metadata": {},
   "source": [
    "### SOME USEFUL LIST OPERATIONS"
   ]
  },
  {
   "cell_type": "markdown",
   "id": "ebec25a9-884a-4098-92dc-dec7deefaa9f",
   "metadata": {},
   "source": [
    "##### len(list) --> gives the number of elements in a list"
   ]
  },
  {
   "cell_type": "code",
   "execution_count": null,
   "id": "3c193986-0c41-421b-8790-3ae57a190bd5",
   "metadata": {},
   "outputs": [],
   "source": [
    "texts = ['hello', 'world', 'I', 'use', 'python']\n",
    "len(texts)"
   ]
  },
  {
   "cell_type": "markdown",
   "id": "11431820-3271-42ba-81c9-2d32ca9d9b9c",
   "metadata": {},
   "source": [
    "##### sum(list) --> sums the numbers in a list"
   ]
  },
  {
   "cell_type": "code",
   "execution_count": null,
   "id": "ad03262d-8498-4cc6-be84-a2cc14df406a",
   "metadata": {},
   "outputs": [],
   "source": [
    "new_list = [7, 3, 5]\n",
    "sum(new_list)"
   ]
  },
  {
   "cell_type": "markdown",
   "id": "36bebd2b-8a68-48c8-a08d-00635c3d04e0",
   "metadata": {},
   "source": [
    "##### max(list) and min(list) --> find the max and min values in a list, also work with strings (acc. to alphabetic order)"
   ]
  },
  {
   "cell_type": "code",
   "execution_count": null,
   "id": "4e076d98-b0da-4d0f-8c65-4605f183e815",
   "metadata": {},
   "outputs": [],
   "source": [
    "max(new_list)"
   ]
  },
  {
   "cell_type": "code",
   "execution_count": null,
   "id": "72948d92-0733-4fb9-946c-ea8f7779abf1",
   "metadata": {},
   "outputs": [],
   "source": [
    "min(new_list)"
   ]
  },
  {
   "cell_type": "code",
   "execution_count": null,
   "id": "f7f36cbc-e84d-4beb-8739-7f1b4f62427e",
   "metadata": {},
   "outputs": [],
   "source": [
    "texts = ['hello', 'world', 'I', 'use', 'python']\n",
    "max(texts)"
   ]
  },
  {
   "cell_type": "code",
   "execution_count": null,
   "id": "18770bcc-4dbd-4d79-95c9-2e60cf4eff97",
   "metadata": {},
   "outputs": [],
   "source": [
    "min(texts)"
   ]
  },
  {
   "cell_type": "markdown",
   "id": "4ad881d3-34f9-4965-a900-e779ae646ea7",
   "metadata": {},
   "source": [
    "##### list(set(list)) --> used to remove duplicate elements from a list"
   ]
  },
  {
   "cell_type": "code",
   "execution_count": null,
   "id": "07082956-be9b-415a-9444-a9bc240510ab",
   "metadata": {},
   "outputs": [],
   "source": [
    "my_list = [3, 5, 1, 1, 7, 8, 7, 7, 4]\n",
    "list(set(my_list))"
   ]
  },
  {
   "cell_type": "markdown",
   "id": "877d3487-d281-4ced-82b0-83328db842ff",
   "metadata": {},
   "source": [
    "##### range function --> used to generate a sequence of numbers"
   ]
  },
  {
   "cell_type": "code",
   "execution_count": null,
   "id": "44ba798d-1fab-4d47-93f6-90b869d4a13b",
   "metadata": {},
   "outputs": [],
   "source": [
    "range(5)"
   ]
  },
  {
   "cell_type": "code",
   "execution_count": null,
   "id": "e5f6f594-f851-4d1f-ae39-ae59c8245edb",
   "metadata": {},
   "outputs": [],
   "source": [
    "range(2,5)"
   ]
  },
  {
   "cell_type": "code",
   "execution_count": null,
   "id": "11bfc855-1087-4634-b1b9-e8ed5e6ffeea",
   "metadata": {},
   "outputs": [],
   "source": [
    "my_range_list = list(range(2,5))\n",
    "my_range_list"
   ]
  },
  {
   "cell_type": "code",
   "execution_count": null,
   "id": "6e0578de-cc68-47f4-a9c0-3ebaf3ae7e1e",
   "metadata": {},
   "outputs": [],
   "source": [
    "my_range_list = list(range(1, 40, 3))\n",
    "my_range_list"
   ]
  },
  {
   "cell_type": "markdown",
   "id": "66a1c562-f1a8-4e57-81a4-1ebe7b844529",
   "metadata": {},
   "source": [
    "##### List Comprehensions"
   ]
  },
  {
   "cell_type": "code",
   "execution_count": null,
   "id": "f2bd0356-dc0a-4a1f-8257-b61931d99fe6",
   "metadata": {},
   "outputs": [],
   "source": [
    "numbers = list(range(1,5))\n",
    "numbers"
   ]
  },
  {
   "cell_type": "code",
   "execution_count": null,
   "id": "932aebf9-2d6c-4716-b5e7-992f1d5419be",
   "metadata": {},
   "outputs": [],
   "source": [
    "squares = [x**2 for x in numbers]\n",
    "squares"
   ]
  },
  {
   "cell_type": "code",
   "execution_count": null,
   "id": "c898e476-32f5-40c6-8484-33cfbe105777",
   "metadata": {},
   "outputs": [],
   "source": [
    "cubes = [a**3 for a in range(300)]\n",
    "cubes"
   ]
  },
  {
   "cell_type": "code",
   "execution_count": null,
   "id": "624a6537-dcb0-4ff3-9f8f-add832c336af",
   "metadata": {},
   "outputs": [],
   "source": []
  }
 ],
 "metadata": {
  "kernelspec": {
   "display_name": "Python 3 (ipykernel)",
   "language": "python",
   "name": "python3"
  },
  "language_info": {
   "codemirror_mode": {
    "name": "ipython",
    "version": 3
   },
   "file_extension": ".py",
   "mimetype": "text/x-python",
   "name": "python",
   "nbconvert_exporter": "python",
   "pygments_lexer": "ipython3",
   "version": "3.12.4"
  }
 },
 "nbformat": 4,
 "nbformat_minor": 5
}
