{
 "cells": [
  {
   "cell_type": "markdown",
   "id": "39bd7a9c-9c53-4bc9-bf2d-5bfa8b12f24e",
   "metadata": {},
   "source": [
    "# LISTS"
   ]
  },
  {
   "cell_type": "markdown",
   "id": "3647d0a1-3d5c-480a-9945-123c7eff13f2",
   "metadata": {},
   "source": [
    "### LIST EXAMPLES"
   ]
  },
  {
   "cell_type": "code",
   "execution_count": null,
   "id": "739c02d1-ab30-4cea-8a2c-d446fbe2c163",
   "metadata": {},
   "outputs": [],
   "source": []
  },
  {
   "cell_type": "markdown",
   "id": "bf52fff9-73b8-45c4-b605-08c7f73c1efb",
   "metadata": {},
   "source": [
    "### INDEXING"
   ]
  },
  {
   "cell_type": "code",
   "execution_count": null,
   "id": "230df6bd-191f-44f2-84a2-a929a156fe33",
   "metadata": {},
   "outputs": [],
   "source": []
  },
  {
   "cell_type": "markdown",
   "id": "933c2960-e09d-47c6-abc9-10f821152b00",
   "metadata": {},
   "source": [
    "### SLICING"
   ]
  },
  {
   "cell_type": "code",
   "execution_count": null,
   "id": "84de7c18-e1d7-4513-b3a5-dfe7807a199c",
   "metadata": {},
   "outputs": [],
   "source": []
  },
  {
   "cell_type": "markdown",
   "id": "db727fc8-11f5-4251-83e3-5ca389c6b9c6",
   "metadata": {},
   "source": [
    "### CHANGING ELEMENTS"
   ]
  },
  {
   "cell_type": "code",
   "execution_count": null,
   "id": "bc7c811d-0d88-492e-b2b4-d060558757ec",
   "metadata": {},
   "outputs": [],
   "source": []
  },
  {
   "cell_type": "markdown",
   "id": "a623a0c8-306b-47aa-ba30-f6089ec3e6c3",
   "metadata": {},
   "source": [
    "### LIST METHODS"
   ]
  },
  {
   "cell_type": "markdown",
   "id": "2710c663-bdfd-4414-b17b-0c068f8d6cf5",
   "metadata": {},
   "source": [
    "##### append() --> add a new element to the end of the list"
   ]
  },
  {
   "cell_type": "code",
   "execution_count": null,
   "id": "920648f2-b95c-41f0-8b85-fe7b2eee84d5",
   "metadata": {},
   "outputs": [],
   "source": []
  },
  {
   "cell_type": "markdown",
   "id": "e62b42d9-969e-44fc-aa7a-9e37991a1c3f",
   "metadata": {},
   "source": [
    "##### extend() --> add elements(or another list) to the end of the list"
   ]
  },
  {
   "cell_type": "code",
   "execution_count": null,
   "id": "e53fb724-9411-4a4b-8ef3-7f291da794ba",
   "metadata": {},
   "outputs": [],
   "source": []
  },
  {
   "cell_type": "markdown",
   "id": "cd7bde60-b7e9-4be1-8af8-dd0152157392",
   "metadata": {},
   "source": [
    "##### insert() --> inserts an element at a specified index"
   ]
  },
  {
   "cell_type": "code",
   "execution_count": null,
   "id": "5aee408a-68e6-47e8-bc24-abdb33bba43c",
   "metadata": {},
   "outputs": [],
   "source": []
  },
  {
   "cell_type": "markdown",
   "id": "5a2476c5-8f85-4375-b2e6-277b9866170d",
   "metadata": {},
   "source": [
    "##### remove() --> removes the first occurance of the specified value"
   ]
  },
  {
   "cell_type": "code",
   "execution_count": null,
   "id": "967f4d0f-2193-45b3-a1ae-a249a4714014",
   "metadata": {},
   "outputs": [],
   "source": []
  },
  {
   "cell_type": "markdown",
   "id": "9ad3b37a-c9e3-4d19-a0ae-20cd0d79eb9b",
   "metadata": {},
   "source": [
    "##### pop() --> removes and returns the element at the specified index"
   ]
  },
  {
   "cell_type": "code",
   "execution_count": null,
   "id": "77224394-a55a-44b4-8c54-6a70fc9d30cd",
   "metadata": {},
   "outputs": [],
   "source": []
  },
  {
   "cell_type": "markdown",
   "id": "834d2129-88c2-4be1-9f55-59ae9d0df5d2",
   "metadata": {},
   "source": [
    "##### clear() --> deletes all elements of the list"
   ]
  },
  {
   "cell_type": "code",
   "execution_count": null,
   "id": "5bf070c1-8da4-422a-a9e1-32498c9bc70b",
   "metadata": {},
   "outputs": [],
   "source": []
  },
  {
   "cell_type": "markdown",
   "id": "eb48b8a8-12ec-4766-b078-e962ac70ba9b",
   "metadata": {},
   "source": [
    "##### index() --> returns index of the for occurance of the specified value"
   ]
  },
  {
   "cell_type": "code",
   "execution_count": null,
   "id": "08307f42-041c-48bf-9756-01ad43dc1900",
   "metadata": {},
   "outputs": [],
   "source": []
  },
  {
   "cell_type": "markdown",
   "id": "465d2982-2b78-416e-8a41-da1a8a3d6428",
   "metadata": {},
   "source": [
    "##### count() --> returns number of occurances of the specified value"
   ]
  },
  {
   "cell_type": "code",
   "execution_count": null,
   "id": "41bba7e8-76c2-44c1-91fa-7eb473c8afc9",
   "metadata": {},
   "outputs": [],
   "source": []
  },
  {
   "cell_type": "markdown",
   "id": "c864a52c-7a00-4041-9e77-028b80304b86",
   "metadata": {},
   "source": [
    "##### sort() --> sorts the list in ascending order, you can change the order"
   ]
  },
  {
   "cell_type": "code",
   "execution_count": null,
   "id": "f5547cb0-3f77-4a5d-be40-2b39c24c4c72",
   "metadata": {},
   "outputs": [],
   "source": []
  },
  {
   "cell_type": "markdown",
   "id": "79714cf4-04e5-403f-8a52-7a165347a52c",
   "metadata": {},
   "source": [
    "##### reverse() --> reverses the order"
   ]
  },
  {
   "cell_type": "code",
   "execution_count": null,
   "id": "711bcee5-6fbb-4375-96b1-b9d02fad45f8",
   "metadata": {},
   "outputs": [],
   "source": []
  },
  {
   "cell_type": "markdown",
   "id": "132ef5ed-7189-4338-995c-a07ff8bfc04c",
   "metadata": {},
   "source": [
    "### SOME USEFUL LIST OPERATIONS"
   ]
  },
  {
   "cell_type": "markdown",
   "id": "ebec25a9-884a-4098-92dc-dec7deefaa9f",
   "metadata": {},
   "source": [
    "##### len(list) --> gives the number of elements in a list"
   ]
  },
  {
   "cell_type": "code",
   "execution_count": null,
   "id": "0d4b5dc2-8536-4b2c-becf-14fd8d3d6276",
   "metadata": {},
   "outputs": [],
   "source": []
  },
  {
   "cell_type": "markdown",
   "id": "11431820-3271-42ba-81c9-2d32ca9d9b9c",
   "metadata": {},
   "source": [
    "##### sum(list) --> sums the numbers in a list"
   ]
  },
  {
   "cell_type": "code",
   "execution_count": null,
   "id": "645bc25e-6d6e-45e6-b075-6a592f39f57b",
   "metadata": {},
   "outputs": [],
   "source": []
  },
  {
   "cell_type": "markdown",
   "id": "36bebd2b-8a68-48c8-a08d-00635c3d04e0",
   "metadata": {},
   "source": [
    "##### max(list) and min(list) --> find the max and min values in a list, also work with strings (acc. to alphabetic order)"
   ]
  },
  {
   "cell_type": "code",
   "execution_count": null,
   "id": "cb28e1c4-c864-4c9b-bc94-a29f0557ba2d",
   "metadata": {},
   "outputs": [],
   "source": []
  },
  {
   "cell_type": "markdown",
   "id": "4ad881d3-34f9-4965-a900-e779ae646ea7",
   "metadata": {},
   "source": [
    "##### list(set(list)) --> used to remove duplicate elements from a list"
   ]
  },
  {
   "cell_type": "code",
   "execution_count": null,
   "id": "f27de137-2abc-43dc-819f-f557fa303908",
   "metadata": {},
   "outputs": [],
   "source": []
  },
  {
   "cell_type": "markdown",
   "id": "877d3487-d281-4ced-82b0-83328db842ff",
   "metadata": {},
   "source": [
    "##### range function --> used to generate a sequence of numbers"
   ]
  },
  {
   "cell_type": "code",
   "execution_count": null,
   "id": "4c0bfae3-bf0c-4cc7-ac49-cafe646326a5",
   "metadata": {},
   "outputs": [],
   "source": []
  },
  {
   "cell_type": "markdown",
   "id": "66a1c562-f1a8-4e57-81a4-1ebe7b844529",
   "metadata": {},
   "source": [
    "##### List Comprehensions"
   ]
  },
  {
   "cell_type": "code",
   "execution_count": null,
   "id": "8d27249f-f8e3-4879-9e05-645b90c4c549",
   "metadata": {},
   "outputs": [],
   "source": []
  }
 ],
 "metadata": {
  "kernelspec": {
   "display_name": "Python 3 (ipykernel)",
   "language": "python",
   "name": "python3"
  },
  "language_info": {
   "codemirror_mode": {
    "name": "ipython",
    "version": 3
   },
   "file_extension": ".py",
   "mimetype": "text/x-python",
   "name": "python",
   "nbconvert_exporter": "python",
   "pygments_lexer": "ipython3",
   "version": "3.12.4"
  }
 },
 "nbformat": 4,
 "nbformat_minor": 5
}
