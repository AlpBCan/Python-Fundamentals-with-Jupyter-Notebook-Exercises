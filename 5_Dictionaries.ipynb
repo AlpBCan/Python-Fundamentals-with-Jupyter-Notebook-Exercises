{
 "cells": [
  {
   "cell_type": "markdown",
   "id": "16bd7e8c-e5fe-49b5-8000-1b685d1f321f",
   "metadata": {},
   "source": [
    "# DICTIONARIES"
   ]
  },
  {
   "cell_type": "markdown",
   "id": "70c64b8d-6297-485e-a484-ae6440db37d1",
   "metadata": {},
   "source": [
    "### CREATING DICTIONARIES"
   ]
  },
  {
   "cell_type": "code",
   "execution_count": null,
   "id": "0e46e17c-a176-4421-a0c7-7408fc8d37b1",
   "metadata": {},
   "outputs": [],
   "source": [
    "empty = {}\n",
    "\n",
    "me = {\n",
    "    'name': 'John',\n",
    "    'age': 30\n",
    "}\n",
    "\n",
    "lists = {'mylist': [1, 2], 'yourlist': ['a', 'b']}"
   ]
  },
  {
   "cell_type": "markdown",
   "id": "d6451b29-acbf-4d37-8ed8-752878c70d78",
   "metadata": {},
   "source": [
    "### ACCESSING VALUES"
   ]
  },
  {
   "cell_type": "code",
   "execution_count": null,
   "id": "f7427eb5-c241-4077-b1fc-cfff89369a20",
   "metadata": {},
   "outputs": [],
   "source": [
    "me['name']"
   ]
  },
  {
   "cell_type": "code",
   "execution_count": null,
   "id": "95879b10-6245-4f20-897b-abb8db1fc34f",
   "metadata": {},
   "outputs": [],
   "source": [
    "me['age']"
   ]
  },
  {
   "cell_type": "markdown",
   "id": "039024ee-2d8e-4988-a4a0-c948d1f7896e",
   "metadata": {},
   "source": [
    "### ADDING VALUES"
   ]
  },
  {
   "cell_type": "code",
   "execution_count": null,
   "id": "8329648c-a054-4d60-877d-76e263b1f369",
   "metadata": {},
   "outputs": [],
   "source": [
    "me['city'] = 'Istanbul'\n",
    "me"
   ]
  },
  {
   "cell_type": "markdown",
   "id": "de254929-8e14-4bc1-a42f-d4088f5d1d26",
   "metadata": {},
   "source": [
    "### UPDATING VALUES"
   ]
  },
  {
   "cell_type": "code",
   "execution_count": null,
   "id": "841cefbd-bdcd-496d-8d5e-21819f5f7b60",
   "metadata": {},
   "outputs": [],
   "source": [
    "me['city'] = 'London'\n",
    "me"
   ]
  },
  {
   "cell_type": "code",
   "execution_count": null,
   "id": "1d12acc8-5433-4ba4-874b-3dfac0372540",
   "metadata": {},
   "outputs": [],
   "source": [
    "lists['mylist'].append(3)\n",
    "lists['yourlist'].append('c')\n",
    "lists"
   ]
  },
  {
   "cell_type": "markdown",
   "id": "321c16c5-0097-4159-a639-3db658b2b286",
   "metadata": {},
   "source": [
    "### DELETING VALUES"
   ]
  },
  {
   "cell_type": "code",
   "execution_count": null,
   "id": "ae311c84-0e21-4ef3-b766-46b1aac51bb6",
   "metadata": {},
   "outputs": [],
   "source": [
    "del me['city']\n",
    "me"
   ]
  },
  {
   "cell_type": "code",
   "execution_count": null,
   "id": "2e5d13d9-bf3f-43e4-8b8a-f9f8ce1c5e29",
   "metadata": {},
   "outputs": [],
   "source": [
    "me.pop('age')\n",
    "me"
   ]
  },
  {
   "cell_type": "code",
   "execution_count": null,
   "id": "7731268f-bde5-4f54-a985-61bb845ef063",
   "metadata": {},
   "outputs": [],
   "source": [
    "me['age'] = 30"
   ]
  },
  {
   "cell_type": "markdown",
   "id": "5f83e20d-91bd-4433-ad63-a003fe731975",
   "metadata": {},
   "source": [
    "### DICTIONARY METHODS"
   ]
  },
  {
   "cell_type": "code",
   "execution_count": null,
   "id": "1450069b-8f24-4d93-97fb-3fec9ee0f767",
   "metadata": {},
   "outputs": [],
   "source": [
    "me.keys()"
   ]
  },
  {
   "cell_type": "code",
   "execution_count": null,
   "id": "ca6018bd-90c4-4705-ae84-8b8193af9ef7",
   "metadata": {},
   "outputs": [],
   "source": [
    "me.values()"
   ]
  },
  {
   "cell_type": "code",
   "execution_count": null,
   "id": "f902073e-f292-46a8-9142-e21db8069c7e",
   "metadata": {},
   "outputs": [],
   "source": [
    "me.items()"
   ]
  },
  {
   "cell_type": "code",
   "execution_count": null,
   "id": "ca153ca2-25cb-44b4-97b3-6bfe968e8fb7",
   "metadata": {},
   "outputs": [],
   "source": [
    "list(me.keys())[0]"
   ]
  }
 ],
 "metadata": {
  "kernelspec": {
   "display_name": "Python 3 (ipykernel)",
   "language": "python",
   "name": "python3"
  },
  "language_info": {
   "codemirror_mode": {
    "name": "ipython",
    "version": 3
   },
   "file_extension": ".py",
   "mimetype": "text/x-python",
   "name": "python",
   "nbconvert_exporter": "python",
   "pygments_lexer": "ipython3",
   "version": "3.12.4"
  }
 },
 "nbformat": 4,
 "nbformat_minor": 5
}
