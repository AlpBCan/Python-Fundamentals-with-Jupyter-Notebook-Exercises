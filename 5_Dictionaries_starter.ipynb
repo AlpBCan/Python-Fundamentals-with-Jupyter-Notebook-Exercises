{
 "cells": [
  {
   "cell_type": "markdown",
   "id": "16bd7e8c-e5fe-49b5-8000-1b685d1f321f",
   "metadata": {},
   "source": [
    "# DICTIONARIES"
   ]
  },
  {
   "cell_type": "markdown",
   "id": "70c64b8d-6297-485e-a484-ae6440db37d1",
   "metadata": {},
   "source": [
    "### CREATING DICTIONARIES"
   ]
  },
  {
   "cell_type": "code",
   "execution_count": null,
   "id": "e930b465-ce82-44a5-8d7d-55c967014ccd",
   "metadata": {},
   "outputs": [],
   "source": []
  },
  {
   "cell_type": "markdown",
   "id": "d6451b29-acbf-4d37-8ed8-752878c70d78",
   "metadata": {},
   "source": [
    "### ACCESSING VALUES"
   ]
  },
  {
   "cell_type": "code",
   "execution_count": null,
   "id": "ab1fb9c8-b399-49ba-9fa7-553d7b0ebc71",
   "metadata": {},
   "outputs": [],
   "source": []
  },
  {
   "cell_type": "markdown",
   "id": "039024ee-2d8e-4988-a4a0-c948d1f7896e",
   "metadata": {},
   "source": [
    "### ADDING VALUES"
   ]
  },
  {
   "cell_type": "code",
   "execution_count": null,
   "id": "6d88386f-eafb-404f-a5ef-aa3d16b3fccf",
   "metadata": {},
   "outputs": [],
   "source": []
  },
  {
   "cell_type": "markdown",
   "id": "de254929-8e14-4bc1-a42f-d4088f5d1d26",
   "metadata": {},
   "source": [
    "### UPDATING VALUES"
   ]
  },
  {
   "cell_type": "code",
   "execution_count": null,
   "id": "0ef8fb3b-44c6-42ac-8dcb-2b4a6af6ce0b",
   "metadata": {},
   "outputs": [],
   "source": []
  },
  {
   "cell_type": "markdown",
   "id": "321c16c5-0097-4159-a639-3db658b2b286",
   "metadata": {},
   "source": [
    "### DELETING VALUES"
   ]
  },
  {
   "cell_type": "code",
   "execution_count": null,
   "id": "a798eb24-fbdf-44ea-af12-be70dec2459d",
   "metadata": {},
   "outputs": [],
   "source": []
  },
  {
   "cell_type": "markdown",
   "id": "5f83e20d-91bd-4433-ad63-a003fe731975",
   "metadata": {},
   "source": [
    "### DICTIONARY METHODS"
   ]
  },
  {
   "cell_type": "code",
   "execution_count": null,
   "id": "6332d758-ed4f-425d-bf57-288a73fd1005",
   "metadata": {},
   "outputs": [],
   "source": []
  }
 ],
 "metadata": {
  "kernelspec": {
   "display_name": "Python 3 (ipykernel)",
   "language": "python",
   "name": "python3"
  },
  "language_info": {
   "codemirror_mode": {
    "name": "ipython",
    "version": 3
   },
   "file_extension": ".py",
   "mimetype": "text/x-python",
   "name": "python",
   "nbconvert_exporter": "python",
   "pygments_lexer": "ipython3",
   "version": "3.12.4"
  }
 },
 "nbformat": 4,
 "nbformat_minor": 5
}
