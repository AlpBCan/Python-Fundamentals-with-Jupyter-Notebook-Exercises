{
 "cells": [
  {
   "cell_type": "markdown",
   "id": "69d095b3-8ed9-494c-ab17-1d17ab3a0b85",
   "metadata": {},
   "source": [
    "# EXERCISE 2: LISTS"
   ]
  },
  {
   "cell_type": "code",
   "execution_count": null,
   "id": "36d15376-208e-4e56-b30f-f2fba9be3486",
   "metadata": {},
   "outputs": [],
   "source": [
    "numbers = [3 ,7 ,22 ,6 ,90 ,58 ,0 ,13 , 6, 34, 34, 18, 6]"
   ]
  },
  {
   "cell_type": "markdown",
   "id": "088fbfbb-11f6-41c4-a406-58efe10fdf40",
   "metadata": {},
   "source": [
    "### Select the first element of the list"
   ]
  },
  {
   "cell_type": "code",
   "execution_count": null,
   "id": "06c4d019-a442-48fa-9aef-61dfc0cb6287",
   "metadata": {},
   "outputs": [],
   "source": [
    "numbers[0]"
   ]
  },
  {
   "cell_type": "markdown",
   "id": "4ddbd622-eea4-4c75-9534-ace9440b29f4",
   "metadata": {},
   "source": [
    "### Select the last element of the list"
   ]
  },
  {
   "cell_type": "code",
   "execution_count": null,
   "id": "ee657c92-2a4d-459b-af28-6f955924712e",
   "metadata": {},
   "outputs": [],
   "source": [
    "numbers[-1]"
   ]
  },
  {
   "cell_type": "markdown",
   "id": "2f89cba6-da15-4559-a966-2dfc1dd37ff8",
   "metadata": {},
   "source": [
    "### Select the 6th element of the list"
   ]
  },
  {
   "cell_type": "code",
   "execution_count": null,
   "id": "090d808b-ef70-469a-8e0c-9f2a7a7b0f1a",
   "metadata": {},
   "outputs": [],
   "source": [
    "numbers[5]"
   ]
  },
  {
   "cell_type": "markdown",
   "id": "a335fe2a-6d50-4cd2-97ab-8647c4272dfa",
   "metadata": {},
   "source": [
    "### Select the 6th element from the end of the list"
   ]
  },
  {
   "cell_type": "code",
   "execution_count": null,
   "id": "67484f45-5115-43a7-b17c-38eaccabae87",
   "metadata": {},
   "outputs": [],
   "source": [
    "numbers[-6]"
   ]
  },
  {
   "cell_type": "markdown",
   "id": "e19825b9-a04e-4b5d-9455-886043cb5170",
   "metadata": {},
   "source": [
    "### Select the first 3 elements of the list"
   ]
  },
  {
   "cell_type": "code",
   "execution_count": null,
   "id": "9268f268-0e62-412a-a3d9-530dd2cc5862",
   "metadata": {},
   "outputs": [],
   "source": [
    "numbers[:3]"
   ]
  },
  {
   "cell_type": "markdown",
   "id": "35decd45-4a66-4c02-9daa-f14c097ab4da",
   "metadata": {},
   "source": [
    "### Select elements from index 4 to 10(inclusive)"
   ]
  },
  {
   "cell_type": "code",
   "execution_count": null,
   "id": "d4500a25-079a-4221-9a3d-b500d414be29",
   "metadata": {},
   "outputs": [],
   "source": [
    "numbers[4:11]"
   ]
  },
  {
   "cell_type": "markdown",
   "id": "3ded61f4-9ef8-4151-a7a9-c07b63ea65e0",
   "metadata": {},
   "source": [
    "### Select the last 3 elements of the list"
   ]
  },
  {
   "cell_type": "code",
   "execution_count": null,
   "id": "4df27750-d544-471a-ad3f-55441454d074",
   "metadata": {},
   "outputs": [],
   "source": [
    "numbers[-3:]"
   ]
  },
  {
   "cell_type": "markdown",
   "id": "044941a9-d6b3-49df-bce6-edaa83ec23ad",
   "metadata": {},
   "source": [
    "### Change the 3rd element to 7"
   ]
  },
  {
   "cell_type": "code",
   "execution_count": null,
   "id": "d1dca5a4-3d4b-4bb8-8934-a1be41e5cada",
   "metadata": {},
   "outputs": [],
   "source": [
    "numbers[2] = 7\n",
    "numbers"
   ]
  },
  {
   "cell_type": "markdown",
   "id": "4549fcba-2195-4928-88a5-c7854bedf424",
   "metadata": {},
   "source": [
    "### Add number 10 to the end of the list"
   ]
  },
  {
   "cell_type": "code",
   "execution_count": null,
   "id": "1f69e8d0-d9d2-46d9-a7cd-3ed5c5a573f9",
   "metadata": {},
   "outputs": [],
   "source": [
    "numbers.append(10)\n",
    "numbers"
   ]
  },
  {
   "cell_type": "markdown",
   "id": "d233526d-6eab-4a58-9966-d3a347385f3d",
   "metadata": {},
   "source": [
    "### Add [1, 2] to this list"
   ]
  },
  {
   "cell_type": "code",
   "execution_count": null,
   "id": "c384d1c8-495d-4a7c-8531-2d5899564924",
   "metadata": {},
   "outputs": [],
   "source": [
    "numbers.extend([1,2])\n",
    "numbers"
   ]
  },
  {
   "cell_type": "markdown",
   "id": "65b49c33-3f02-4a39-949e-b68083dabfa5",
   "metadata": {},
   "source": [
    "### Delete 1 and 2 from the list"
   ]
  },
  {
   "cell_type": "code",
   "execution_count": null,
   "id": "57250248-f49f-41ba-9c1e-c094eb7b3284",
   "metadata": {},
   "outputs": [],
   "source": [
    "numbers.pop()\n",
    "numbers.pop()\n",
    "numbers"
   ]
  },
  {
   "cell_type": "markdown",
   "id": "57566cbf-7ca5-421b-aef2-d25bd7648179",
   "metadata": {},
   "source": [
    "### Add number 11 to at the beginning of the list"
   ]
  },
  {
   "cell_type": "code",
   "execution_count": null,
   "id": "371743ad-4da5-4f8e-8bf3-22461489f49a",
   "metadata": {},
   "outputs": [],
   "source": [
    "numbers.insert(0, 11)\n",
    "numbers"
   ]
  },
  {
   "cell_type": "markdown",
   "id": "08886ca9-2f85-4cfd-955a-ab8d36d99ff3",
   "metadata": {},
   "source": [
    "### Find the index of number 90"
   ]
  },
  {
   "cell_type": "code",
   "execution_count": null,
   "id": "4c762065-379e-4492-8b87-5e74650e3353",
   "metadata": {},
   "outputs": [],
   "source": [
    "numbers.index(90)"
   ]
  },
  {
   "cell_type": "markdown",
   "id": "e147fe5e-ff21-4913-a8ae-abda60189751",
   "metadata": {},
   "source": [
    "### Find how many sixes in the list"
   ]
  },
  {
   "cell_type": "code",
   "execution_count": null,
   "id": "40ef82b0-9571-4acb-98c9-8f3d8013559c",
   "metadata": {},
   "outputs": [],
   "source": [
    "numbers.count(6)"
   ]
  },
  {
   "cell_type": "markdown",
   "id": "56d633d5-3960-469c-81db-2f95ce296cbd",
   "metadata": {},
   "source": [
    "### Sort the list"
   ]
  },
  {
   "cell_type": "code",
   "execution_count": null,
   "id": "dbe162e9-127a-43a1-a390-e299cc004277",
   "metadata": {},
   "outputs": [],
   "source": [
    "numbers.sort()\n",
    "numbers"
   ]
  },
  {
   "cell_type": "markdown",
   "id": "396e8be3-fa9e-476f-b32b-ac4d097653df",
   "metadata": {},
   "source": [
    "### Reverse sorted list"
   ]
  },
  {
   "cell_type": "code",
   "execution_count": null,
   "id": "0800d139-ec8f-49d9-8ce4-e92f90108e1b",
   "metadata": {},
   "outputs": [],
   "source": [
    "numbers.reverse()\n",
    "numbers"
   ]
  },
  {
   "cell_type": "code",
   "execution_count": null,
   "id": "7d51f77d-058c-45c9-9c2e-7f37eb5373f5",
   "metadata": {},
   "outputs": [],
   "source": [
    "numbers = numbers = [3 ,7 ,22 ,6 ,90 ,58 ,0 ,13 , 6, 34, 34, 18, 6]"
   ]
  },
  {
   "cell_type": "markdown",
   "id": "cc3bbbb3-b3c4-4131-94cc-c74302c51964",
   "metadata": {},
   "source": [
    "### Find the number of elements in the list"
   ]
  },
  {
   "cell_type": "code",
   "execution_count": null,
   "id": "8d616a1a-0c10-4d8f-b8c8-3e5b0d25174e",
   "metadata": {},
   "outputs": [],
   "source": [
    "len(numbers)"
   ]
  },
  {
   "cell_type": "markdown",
   "id": "bf9169b8-cac5-47d6-a580-314b3f02eba0",
   "metadata": {},
   "source": [
    "### Find the max and min values in the list and print them"
   ]
  },
  {
   "cell_type": "code",
   "execution_count": null,
   "id": "0c779e7d-17f3-4f72-a6a9-8aa1ec3646ec",
   "metadata": {},
   "outputs": [],
   "source": [
    "print(max(numbers))\n",
    "print(min(numbers))"
   ]
  },
  {
   "cell_type": "markdown",
   "id": "52e7fe08-1ef6-4b06-a642-e40ec07422d6",
   "metadata": {},
   "source": [
    "### Find sum of the values in the list"
   ]
  },
  {
   "cell_type": "code",
   "execution_count": null,
   "id": "ecf2770b-c88a-40b9-995a-706a4410a3cf",
   "metadata": {},
   "outputs": [],
   "source": [
    "sum(numbers)"
   ]
  },
  {
   "cell_type": "markdown",
   "id": "0f5caf80-a950-47e5-ac32-73a0d6d4634a",
   "metadata": {},
   "source": [
    "### Define a variable called 'unique_list' and assign unique numbers of numbers list using set() function"
   ]
  },
  {
   "cell_type": "code",
   "execution_count": null,
   "id": "eed7d370-0752-42de-bc8a-ad76f4178a69",
   "metadata": {},
   "outputs": [],
   "source": [
    "unique_list = list(set(numbers))\n",
    "unique_list"
   ]
  },
  {
   "cell_type": "markdown",
   "id": "49147d14-5e65-4aff-ac14-2e25510fa93d",
   "metadata": {},
   "source": [
    "### Remove all the items from the list"
   ]
  },
  {
   "cell_type": "code",
   "execution_count": null,
   "id": "3382d272-7056-4100-a75e-4b64e80a3129",
   "metadata": {},
   "outputs": [],
   "source": [
    "numbers.clear()\n",
    "numbers"
   ]
  },
  {
   "cell_type": "markdown",
   "id": "e35c5bb8-6ca5-41ca-add5-99cfb2d2bdb4",
   "metadata": {},
   "source": [
    "### DICTIONARIES"
   ]
  },
  {
   "cell_type": "raw",
   "id": "77ad21b2-9fa5-425f-9b91-153199333d34",
   "metadata": {},
   "source": [
    "Create a dictionary of a person:\n",
    "    name --> John\n",
    "    surname --> Jones\n",
    "    age --> 24\n",
    "    city --> London\n",
    "    job --> Programmer\n",
    "    languages --> Python, Javascript, Java\n",
    "    married --> No"
   ]
  },
  {
   "cell_type": "code",
   "execution_count": null,
   "id": "4fadf199-e078-4eb8-89c0-9ed4fc89d5df",
   "metadata": {},
   "outputs": [],
   "source": [
    "person = {\n",
    "    'name': 'John',\n",
    "    'surname': 'Jones',\n",
    "    'age': 24,\n",
    "    'city': 'London',\n",
    "    'job': 'Programmer',\n",
    "    'languages': ['Pyhton', 'Javascript', 'Java'],\n",
    "    'married': False\n",
    "}"
   ]
  },
  {
   "cell_type": "markdown",
   "id": "974e6cd8-1b52-4410-9627-4aa681e87455",
   "metadata": {},
   "source": [
    "### 5 Years later; John is married, forgot Java :), learned Dart language, moved to Madrid and acquired a middle name 'Ross'. Make necessary changes on the dictionary."
   ]
  },
  {
   "cell_type": "code",
   "execution_count": null,
   "id": "1117bb64-acd4-4a16-bafb-a8f3eeb08142",
   "metadata": {},
   "outputs": [],
   "source": [
    "person['age'] += 5\n",
    "person['married'] = True\n",
    "person['languages'].pop()\n",
    "person['languages'].append('Dart')\n",
    "person['city'] = 'Madrid'\n",
    "person['midname'] = 'Ross'\n",
    "person\n"
   ]
  },
  {
   "cell_type": "markdown",
   "id": "00a5a259-d288-4cea-b93f-8086e73b7b22",
   "metadata": {},
   "source": [
    "### Show the keys of person's dictionary"
   ]
  },
  {
   "cell_type": "code",
   "execution_count": null,
   "id": "219c5a39-3c6e-4a62-aa67-b1738299817a",
   "metadata": {},
   "outputs": [],
   "source": [
    "person.keys()"
   ]
  },
  {
   "cell_type": "markdown",
   "id": "4e631ec9-1586-4437-aba9-f3a09c253899",
   "metadata": {},
   "source": [
    "### Show the values"
   ]
  },
  {
   "cell_type": "code",
   "execution_count": null,
   "id": "ce961840-2f3f-4f0e-96f7-174372381740",
   "metadata": {},
   "outputs": [],
   "source": [
    "person.values()"
   ]
  }
 ],
 "metadata": {
  "kernelspec": {
   "display_name": "Python 3 (ipykernel)",
   "language": "python",
   "name": "python3"
  },
  "language_info": {
   "codemirror_mode": {
    "name": "ipython",
    "version": 3
   },
   "file_extension": ".py",
   "mimetype": "text/x-python",
   "name": "python",
   "nbconvert_exporter": "python",
   "pygments_lexer": "ipython3",
   "version": "3.12.4"
  }
 },
 "nbformat": 4,
 "nbformat_minor": 5
}
