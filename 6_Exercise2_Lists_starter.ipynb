{
 "cells": [
  {
   "cell_type": "markdown",
   "id": "69d095b3-8ed9-494c-ab17-1d17ab3a0b85",
   "metadata": {},
   "source": [
    "# EXERCISE 2: LISTS"
   ]
  },
  {
   "cell_type": "code",
   "execution_count": null,
   "id": "a6324141-63fa-42f0-bbea-39ab18821dbb",
   "metadata": {},
   "outputs": [],
   "source": [
    "numbers = [3 ,7 ,22 ,6 ,90 ,58 ,0 ,13 , 6, 34, 34, 18, 6]"
   ]
  },
  {
   "cell_type": "markdown",
   "id": "088fbfbb-11f6-41c4-a406-58efe10fdf40",
   "metadata": {},
   "source": [
    "### Select the first element of the list"
   ]
  },
  {
   "cell_type": "code",
   "execution_count": null,
   "id": "bd9096f4-6fd8-413c-8ad0-8286e5ab3389",
   "metadata": {},
   "outputs": [],
   "source": []
  },
  {
   "cell_type": "markdown",
   "id": "4ddbd622-eea4-4c75-9534-ace9440b29f4",
   "metadata": {},
   "source": [
    "### Select the last element of the list"
   ]
  },
  {
   "cell_type": "code",
   "execution_count": null,
   "id": "de773820-9094-419c-9bc6-405a03ba8d07",
   "metadata": {},
   "outputs": [],
   "source": []
  },
  {
   "cell_type": "markdown",
   "id": "2f89cba6-da15-4559-a966-2dfc1dd37ff8",
   "metadata": {},
   "source": [
    "### Select the 6th element of the list"
   ]
  },
  {
   "cell_type": "code",
   "execution_count": null,
   "id": "64708266-4d3c-4f61-94cf-f214eed8aeb5",
   "metadata": {},
   "outputs": [],
   "source": []
  },
  {
   "cell_type": "markdown",
   "id": "a335fe2a-6d50-4cd2-97ab-8647c4272dfa",
   "metadata": {},
   "source": [
    "### Select the 6th element from the end of the list"
   ]
  },
  {
   "cell_type": "code",
   "execution_count": null,
   "id": "ab76ad3f-2a58-42cf-bf9b-315d32d36390",
   "metadata": {},
   "outputs": [],
   "source": []
  },
  {
   "cell_type": "markdown",
   "id": "e19825b9-a04e-4b5d-9455-886043cb5170",
   "metadata": {},
   "source": [
    "### Select the first 3 elements of the list"
   ]
  },
  {
   "cell_type": "code",
   "execution_count": null,
   "id": "44718fa4-6a95-474c-af52-8ab632d95cdd",
   "metadata": {},
   "outputs": [],
   "source": []
  },
  {
   "cell_type": "markdown",
   "id": "35decd45-4a66-4c02-9daa-f14c097ab4da",
   "metadata": {},
   "source": [
    "### Select elements from index 4 to 10(inclusive)"
   ]
  },
  {
   "cell_type": "code",
   "execution_count": null,
   "id": "c5b1138d-f92d-4dc0-926b-982a83aaaf4f",
   "metadata": {},
   "outputs": [],
   "source": []
  },
  {
   "cell_type": "markdown",
   "id": "3ded61f4-9ef8-4151-a7a9-c07b63ea65e0",
   "metadata": {},
   "source": [
    "### Select the last 3 elements of the list"
   ]
  },
  {
   "cell_type": "code",
   "execution_count": null,
   "id": "21dda6f6-0761-454c-9515-8479c6523880",
   "metadata": {},
   "outputs": [],
   "source": []
  },
  {
   "cell_type": "markdown",
   "id": "044941a9-d6b3-49df-bce6-edaa83ec23ad",
   "metadata": {},
   "source": [
    "### Change the 3rd element to 7"
   ]
  },
  {
   "cell_type": "code",
   "execution_count": null,
   "id": "98c699ff-184a-451d-966d-c3fb66a3513d",
   "metadata": {},
   "outputs": [],
   "source": []
  },
  {
   "cell_type": "markdown",
   "id": "4549fcba-2195-4928-88a5-c7854bedf424",
   "metadata": {},
   "source": [
    "### Add number 10 to the end of the list"
   ]
  },
  {
   "cell_type": "code",
   "execution_count": null,
   "id": "1583d5e2-6e45-473c-87fe-c54250b17cb4",
   "metadata": {},
   "outputs": [],
   "source": []
  },
  {
   "cell_type": "markdown",
   "id": "d233526d-6eab-4a58-9966-d3a347385f3d",
   "metadata": {},
   "source": [
    "### Add [1, 2] to this list"
   ]
  },
  {
   "cell_type": "code",
   "execution_count": null,
   "id": "42458241-24b5-41a1-b33c-682f72ccaf3a",
   "metadata": {},
   "outputs": [],
   "source": []
  },
  {
   "cell_type": "markdown",
   "id": "65b49c33-3f02-4a39-949e-b68083dabfa5",
   "metadata": {},
   "source": [
    "### Delete 1 and 2 from the list"
   ]
  },
  {
   "cell_type": "code",
   "execution_count": null,
   "id": "e9a9faa2-c943-4ec9-a5b7-3834ed19005b",
   "metadata": {},
   "outputs": [],
   "source": []
  },
  {
   "cell_type": "markdown",
   "id": "57566cbf-7ca5-421b-aef2-d25bd7648179",
   "metadata": {},
   "source": [
    "### Add number 11 to at the beginning of the list"
   ]
  },
  {
   "cell_type": "code",
   "execution_count": null,
   "id": "2a6faa33-f071-4f34-841c-26e24d271d0f",
   "metadata": {},
   "outputs": [],
   "source": []
  },
  {
   "cell_type": "markdown",
   "id": "08886ca9-2f85-4cfd-955a-ab8d36d99ff3",
   "metadata": {},
   "source": [
    "### Find the index of number 90"
   ]
  },
  {
   "cell_type": "code",
   "execution_count": null,
   "id": "c611b9b0-95b6-49f2-aba6-7cff89bfd46b",
   "metadata": {},
   "outputs": [],
   "source": []
  },
  {
   "cell_type": "markdown",
   "id": "e147fe5e-ff21-4913-a8ae-abda60189751",
   "metadata": {},
   "source": [
    "### Find how many sixes in the list"
   ]
  },
  {
   "cell_type": "code",
   "execution_count": null,
   "id": "ea078ef7-feb0-451c-9963-8e6ca5e68a15",
   "metadata": {},
   "outputs": [],
   "source": []
  },
  {
   "cell_type": "markdown",
   "id": "56d633d5-3960-469c-81db-2f95ce296cbd",
   "metadata": {},
   "source": [
    "### Sort the list"
   ]
  },
  {
   "cell_type": "code",
   "execution_count": null,
   "id": "52f5e834-a890-4483-83ec-d50c3dedc58d",
   "metadata": {},
   "outputs": [],
   "source": []
  },
  {
   "cell_type": "markdown",
   "id": "396e8be3-fa9e-476f-b32b-ac4d097653df",
   "metadata": {},
   "source": [
    "### Reverse sorted list"
   ]
  },
  {
   "cell_type": "code",
   "execution_count": null,
   "id": "59ec4684-9a53-42b5-8d7c-3230618ec139",
   "metadata": {},
   "outputs": [],
   "source": []
  },
  {
   "cell_type": "markdown",
   "id": "cc3bbbb3-b3c4-4131-94cc-c74302c51964",
   "metadata": {},
   "source": [
    "### Find the number of elements in the list"
   ]
  },
  {
   "cell_type": "code",
   "execution_count": null,
   "id": "46939371-2574-42d4-a97d-8d3f66c0e0cc",
   "metadata": {},
   "outputs": [],
   "source": []
  },
  {
   "cell_type": "markdown",
   "id": "bf9169b8-cac5-47d6-a580-314b3f02eba0",
   "metadata": {},
   "source": [
    "### Find the max and min values in the list and print them"
   ]
  },
  {
   "cell_type": "code",
   "execution_count": null,
   "id": "a3944b92-97ed-450f-b9c7-c5bf741322b0",
   "metadata": {},
   "outputs": [],
   "source": []
  },
  {
   "cell_type": "markdown",
   "id": "52e7fe08-1ef6-4b06-a642-e40ec07422d6",
   "metadata": {},
   "source": [
    "### Find sum of the values in the list"
   ]
  },
  {
   "cell_type": "code",
   "execution_count": null,
   "id": "b6ecff9c-e0b8-419d-aa3c-620e07842501",
   "metadata": {},
   "outputs": [],
   "source": []
  },
  {
   "cell_type": "markdown",
   "id": "0f5caf80-a950-47e5-ac32-73a0d6d4634a",
   "metadata": {},
   "source": [
    "### Define a variable called 'unique_list' and assign unique numbers of numbers list using set() function"
   ]
  },
  {
   "cell_type": "code",
   "execution_count": null,
   "id": "5ec65dea-c68b-4aed-9c34-2eab30362574",
   "metadata": {},
   "outputs": [],
   "source": []
  },
  {
   "cell_type": "markdown",
   "id": "49147d14-5e65-4aff-ac14-2e25510fa93d",
   "metadata": {},
   "source": [
    "### Remove all the items from the list"
   ]
  },
  {
   "cell_type": "code",
   "execution_count": null,
   "id": "49d1448e-727c-4f49-875c-57684b8a5591",
   "metadata": {},
   "outputs": [],
   "source": []
  },
  {
   "cell_type": "markdown",
   "id": "e35c5bb8-6ca5-41ca-add5-99cfb2d2bdb4",
   "metadata": {},
   "source": [
    "### DICTIONARIES"
   ]
  },
  {
   "cell_type": "raw",
   "id": "6deff42b-8de7-4d29-930c-feb2fd60343d",
   "metadata": {},
   "source": [
    "Create a dictionary of a person:\n",
    "    name --> John\n",
    "    surname --> Jones\n",
    "    age --> 24\n",
    "    city --> London\n",
    "    job --> Programmer\n",
    "    languages --> Python, Javascript, Java\n",
    "    married --> No"
   ]
  },
  {
   "cell_type": "markdown",
   "id": "974e6cd8-1b52-4410-9627-4aa681e87455",
   "metadata": {},
   "source": [
    "### 5 Years later; John is married, forgot Java :), learned Dart language, moved to Madrid and acquired a middle name 'Ross'. Make necessary changes on the dictionary."
   ]
  },
  {
   "cell_type": "code",
   "execution_count": null,
   "id": "b9d61fd3-83ec-4b16-a9e0-6051510ced49",
   "metadata": {},
   "outputs": [],
   "source": []
  },
  {
   "cell_type": "markdown",
   "id": "00a5a259-d288-4cea-b93f-8086e73b7b22",
   "metadata": {},
   "source": [
    "### Show the keys of person's dictionary"
   ]
  },
  {
   "cell_type": "code",
   "execution_count": null,
   "id": "15d7ab52-44c7-433b-87bf-e8d5ef4cd9f0",
   "metadata": {},
   "outputs": [],
   "source": []
  },
  {
   "cell_type": "markdown",
   "id": "4e631ec9-1586-4437-aba9-f3a09c253899",
   "metadata": {},
   "source": [
    "### Show the values"
   ]
  },
  {
   "cell_type": "code",
   "execution_count": null,
   "id": "d601f2d2-5259-4fd5-aa7f-859c7ff814bb",
   "metadata": {},
   "outputs": [],
   "source": []
  }
 ],
 "metadata": {
  "kernelspec": {
   "display_name": "Python 3 (ipykernel)",
   "language": "python",
   "name": "python3"
  },
  "language_info": {
   "codemirror_mode": {
    "name": "ipython",
    "version": 3
   },
   "file_extension": ".py",
   "mimetype": "text/x-python",
   "name": "python",
   "nbconvert_exporter": "python",
   "pygments_lexer": "ipython3",
   "version": "3.12.4"
  }
 },
 "nbformat": 4,
 "nbformat_minor": 5
}
