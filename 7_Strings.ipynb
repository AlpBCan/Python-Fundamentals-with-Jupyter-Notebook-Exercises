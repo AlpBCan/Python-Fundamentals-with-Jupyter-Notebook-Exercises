{
 "cells": [
  {
   "cell_type": "markdown",
   "id": "413d99e3-e2b2-42d5-b126-0781af27d6cd",
   "metadata": {},
   "source": [
    "# STRINGS"
   ]
  },
  {
   "cell_type": "markdown",
   "id": "9b537fae-9e25-455f-ad14-6104d24f17ef",
   "metadata": {},
   "source": [
    "### CREATING A STRING - using single or double quotes"
   ]
  },
  {
   "cell_type": "code",
   "execution_count": null,
   "id": "2ebe5285-e0c8-4cd6-96fc-9b8fa78af69e",
   "metadata": {},
   "outputs": [],
   "source": [
    "text = 'Hello, World. I am using Python'\n",
    "text = \"Hello, World. I am using Python\""
   ]
  },
  {
   "cell_type": "markdown",
   "id": "513019f5-2051-4b4f-a419-edcc66c7c21f",
   "metadata": {},
   "source": [
    "### INDEXING"
   ]
  },
  {
   "cell_type": "code",
   "execution_count": null,
   "id": "c67f891a-e3a5-465e-96ba-e3d594e573d8",
   "metadata": {},
   "outputs": [],
   "source": [
    "text[0]"
   ]
  },
  {
   "cell_type": "code",
   "execution_count": null,
   "id": "2ce5a4da-c0ff-4d18-a0e0-4242d3f66387",
   "metadata": {},
   "outputs": [],
   "source": [
    "text[5]"
   ]
  },
  {
   "cell_type": "code",
   "execution_count": null,
   "id": "ef8ce058-cc9a-4512-b188-b9a74269c7fb",
   "metadata": {},
   "outputs": [],
   "source": [
    "text[-1]"
   ]
  },
  {
   "cell_type": "code",
   "execution_count": null,
   "id": "56e1be8e-fd95-43ed-b4cc-7cf37c890f0d",
   "metadata": {},
   "outputs": [],
   "source": [
    "text[-7]"
   ]
  },
  {
   "cell_type": "markdown",
   "id": "b2ab6c06-9fd9-46bb-b222-874fba8f99ee",
   "metadata": {},
   "source": [
    "### SLICING"
   ]
  },
  {
   "cell_type": "code",
   "execution_count": null,
   "id": "6eeeef6d-3ac6-4e43-869c-4e1536e46a7a",
   "metadata": {},
   "outputs": [],
   "source": [
    "text"
   ]
  },
  {
   "cell_type": "code",
   "execution_count": null,
   "id": "03b46952-3de9-440e-af0e-b96a39e74125",
   "metadata": {},
   "outputs": [],
   "source": [
    "text[:]"
   ]
  },
  {
   "cell_type": "code",
   "execution_count": null,
   "id": "f4681faa-a424-4667-a27f-30627035c76c",
   "metadata": {},
   "outputs": [],
   "source": [
    "text[0:5]\n",
    "text[:5]"
   ]
  },
  {
   "cell_type": "code",
   "execution_count": null,
   "id": "d53f4b12-89c6-4888-887d-e5c702336101",
   "metadata": {},
   "outputs": [],
   "source": [
    "text[7:12]"
   ]
  },
  {
   "cell_type": "code",
   "execution_count": null,
   "id": "04e45adb-ae65-4ac0-a659-1776a2617697",
   "metadata": {},
   "outputs": [],
   "source": [
    "text[-6:]"
   ]
  },
  {
   "cell_type": "markdown",
   "id": "a8e54638-bb14-4192-aaf4-a10616036d82",
   "metadata": {},
   "source": [
    "### CONCATENATION"
   ]
  },
  {
   "cell_type": "code",
   "execution_count": null,
   "id": "387e7f37-4a82-46de-80ed-4cd12875cc8e",
   "metadata": {},
   "outputs": [],
   "source": [
    "mystring = 'Hello' + ' ' + 'World'\n",
    "mystring"
   ]
  },
  {
   "cell_type": "code",
   "execution_count": null,
   "id": "867dde2e-bab8-4fec-9589-763d1fb5514f",
   "metadata": {},
   "outputs": [],
   "source": [
    "a = 'Hello'\n",
    "space = ' '\n",
    "b = 'World'\n",
    "a + space + b\n"
   ]
  },
  {
   "cell_type": "markdown",
   "id": "73b4edab-dee8-48bc-bf7e-54a76e56ba3c",
   "metadata": {},
   "source": [
    "### FORMATTING"
   ]
  },
  {
   "cell_type": "markdown",
   "id": "d08613ba-dd1e-41fa-bc54-74509cd0ef31",
   "metadata": {},
   "source": [
    "    With .format()"
   ]
  },
  {
   "cell_type": "code",
   "execution_count": null,
   "id": "7998a286-6b88-49c2-a8ea-0b14b0f4d233",
   "metadata": {},
   "outputs": [],
   "source": [
    "mystring = 'Hello, I am using {}'.format('Python')\n",
    "mystring"
   ]
  },
  {
   "cell_type": "code",
   "execution_count": null,
   "id": "d825fb18-b45a-4940-af63-4391ad28b763",
   "metadata": {},
   "outputs": [],
   "source": [
    "mystring = 'Hello, I am using {} and I am a {}'.format('Python', 'Data Scientist')\n",
    "mystring"
   ]
  },
  {
   "cell_type": "code",
   "execution_count": null,
   "id": "ab243ede-34b2-4aca-a25f-79fddbabc501",
   "metadata": {},
   "outputs": [],
   "source": [
    "language = 'Java' # change these\n",
    "job = 'Back End Developer'\n",
    "mystring = 'Hello, I am using {} and I am a {}'.format(language, job)\n",
    "mystring"
   ]
  },
  {
   "cell_type": "markdown",
   "id": "181ac020-6e4c-4db4-855e-72723405edfe",
   "metadata": {},
   "source": [
    "    With f strings"
   ]
  },
  {
   "cell_type": "code",
   "execution_count": null,
   "id": "7b3457ce-e491-4942-8556-b77f708cc834",
   "metadata": {},
   "outputs": [],
   "source": [
    "x = 'Python'\n",
    "mystring = f'Hello, I am using {x}'\n",
    "mystring"
   ]
  },
  {
   "cell_type": "code",
   "execution_count": null,
   "id": "215e87f4-878d-44e7-9d7f-a65975431c5a",
   "metadata": {},
   "outputs": [],
   "source": [
    "y = 30\n",
    "mystring = f'I am {y+5} years old'\n",
    "mystring"
   ]
  },
  {
   "cell_type": "code",
   "execution_count": null,
   "id": "623d9c38-caab-47e3-a0fe-794b4ce25509",
   "metadata": {},
   "outputs": [],
   "source": [
    "z = 'Javascript'\n",
    "mystring = f'I can write {z[:4]} code' # first z, then z[:4]\n",
    "mystring"
   ]
  },
  {
   "cell_type": "markdown",
   "id": "7091ac94-c48a-4c1f-a893-9452599080f2",
   "metadata": {},
   "source": [
    "### STRING METHODS"
   ]
  },
  {
   "cell_type": "markdown",
   "id": "f6946586-95e0-4676-bb6f-d7db3e5d62e1",
   "metadata": {},
   "source": [
    "Note: Strings are immutable. The methods we will use will not change the string as they did with the lists. They will return the changed values, we can see them or we can save them in variables but the original string will always be the same. \n",
    "Note: We can change the string variables if we assign a new value to them. This is not about immutability."
   ]
  },
  {
   "cell_type": "markdown",
   "id": "13c102ea-57de-4482-8a58-191302278b27",
   "metadata": {},
   "source": [
    "    upper(), lower() --> Converts all characters in the string to upper/lowercase"
   ]
  },
  {
   "cell_type": "code",
   "execution_count": null,
   "id": "e7f95ebf-762f-4b51-bdc3-6d5af2783588",
   "metadata": {},
   "outputs": [],
   "source": [
    "text = 'hello world'\n",
    "text.upper()"
   ]
  },
  {
   "cell_type": "code",
   "execution_count": null,
   "id": "8c4a4bed-67fe-4b76-b44f-1e74b99c661b",
   "metadata": {},
   "outputs": [],
   "source": [
    "text"
   ]
  },
  {
   "cell_type": "code",
   "execution_count": null,
   "id": "2162003a-df9b-4a66-8492-590820528f09",
   "metadata": {},
   "outputs": [],
   "source": [
    "text = 'HELLO WORLD' \n",
    "text.lower()"
   ]
  },
  {
   "cell_type": "markdown",
   "id": "e4bf777d-c8ff-40e2-ba1d-3bcf8eb7f3f4",
   "metadata": {},
   "source": [
    "    capitalize() --> Capitalizes the first character of the string"
   ]
  },
  {
   "cell_type": "code",
   "execution_count": null,
   "id": "cf7dc641-86f9-4aba-85ce-6aa191767d3c",
   "metadata": {},
   "outputs": [],
   "source": [
    "text = 'hello world'\n",
    "text.capitalize()"
   ]
  },
  {
   "cell_type": "markdown",
   "id": "bc072a56-6c68-4166-90d2-f2059da140ff",
   "metadata": {},
   "source": [
    "    title() --> Capitalizes the first character of each word in the string"
   ]
  },
  {
   "cell_type": "code",
   "execution_count": null,
   "id": "bcd4267d-5560-4793-9de6-22a8b0d359c0",
   "metadata": {},
   "outputs": [],
   "source": [
    "text.title()"
   ]
  },
  {
   "cell_type": "markdown",
   "id": "a9e84f9a-25bc-483c-889f-1e65892a1352",
   "metadata": {},
   "source": [
    "    split() --> Splits the string into a list of substrings based on a delimiter"
   ]
  },
  {
   "cell_type": "code",
   "execution_count": null,
   "id": "486c8dc1-aef3-4a99-9ba2-89e680f57672",
   "metadata": {},
   "outputs": [],
   "source": [
    "text = 'Hello, World. I am using Python'\n",
    "string_list = text.split() # = .split(' ')\n",
    "string_list"
   ]
  },
  {
   "cell_type": "code",
   "execution_count": null,
   "id": "a109e5cb-2d1a-4eee-be9a-e3abcdfc0f15",
   "metadata": {},
   "outputs": [],
   "source": [
    "len(string_list)"
   ]
  },
  {
   "cell_type": "code",
   "execution_count": null,
   "id": "ebba08b6-c748-4899-923d-a035b1247196",
   "metadata": {},
   "outputs": [],
   "source": [
    "text.split(',')"
   ]
  },
  {
   "cell_type": "code",
   "execution_count": null,
   "id": "94928d1a-632e-4545-ab74-5e811da750a9",
   "metadata": {},
   "outputs": [],
   "source": [
    "text.split('o')"
   ]
  },
  {
   "cell_type": "markdown",
   "id": "985326c9-c15f-44e2-894c-3df4f76c1c23",
   "metadata": {},
   "source": [
    "    strip() --> Removes leading and trailing whitespace"
   ]
  },
  {
   "cell_type": "code",
   "execution_count": null,
   "id": "5dfe1620-9f21-45e6-9eef-0a97c84cbecb",
   "metadata": {},
   "outputs": [],
   "source": [
    "text = '  Hello    '\n",
    "text"
   ]
  },
  {
   "cell_type": "code",
   "execution_count": null,
   "id": "e4e4adc1-765e-4bae-b648-dee8ec105a74",
   "metadata": {},
   "outputs": [],
   "source": [
    "len(text)"
   ]
  },
  {
   "cell_type": "code",
   "execution_count": null,
   "id": "b83d0ca6-5900-4300-8b03-b35397ce17a1",
   "metadata": {},
   "outputs": [],
   "source": [
    "stripped_text = text.strip()\n",
    "stripped_text"
   ]
  },
  {
   "cell_type": "code",
   "execution_count": null,
   "id": "64544b4f-08cf-41a8-92e0-07656a52b757",
   "metadata": {},
   "outputs": [],
   "source": [
    "len(stripped_text)"
   ]
  },
  {
   "cell_type": "markdown",
   "id": "b109be01-66a4-4521-88fb-f56de0515440",
   "metadata": {},
   "source": [
    "    join(list) --> Joins a list of strings into a single string with a specified delimiter"
   ]
  },
  {
   "cell_type": "code",
   "execution_count": null,
   "id": "c55e0f5d-1e2d-429c-92d9-efa13a645ff8",
   "metadata": {},
   "outputs": [],
   "source": [
    "mylist = ['hello', 'world', 'python']\n",
    "'-'.join(mylist)"
   ]
  },
  {
   "cell_type": "code",
   "execution_count": null,
   "id": "ffefbcae-f3b7-4a7f-8870-c78fafb0d3df",
   "metadata": {},
   "outputs": [],
   "source": [
    "mystring = 'my python files'\n",
    "mylist = mystring.split(' ')\n",
    "mylist\n",
    "folder_name = '_'.join(mylist)\n",
    "folder_name"
   ]
  },
  {
   "cell_type": "markdown",
   "id": "4933dfb1-a416-4d65-a45b-f68af30861c1",
   "metadata": {},
   "source": [
    "    find() --Returns the lowest index in the string where the substring is found, or -1 if not found"
   ]
  },
  {
   "cell_type": "code",
   "execution_count": null,
   "id": "9a62d8bb-b93e-4a71-b651-2110cb064499",
   "metadata": {},
   "outputs": [],
   "source": [
    "text = 'Hello, World. I am using Python'\n",
    "text.find('e')"
   ]
  },
  {
   "cell_type": "code",
   "execution_count": null,
   "id": "a78a99ba-7540-468c-b01f-0f282d1c0556",
   "metadata": {},
   "outputs": [],
   "source": [
    "text.find('World')"
   ]
  },
  {
   "cell_type": "code",
   "execution_count": null,
   "id": "cc5681c6-e90a-476a-b015-e3d44a6dbc7f",
   "metadata": {},
   "outputs": [],
   "source": [
    "text.find('Python')"
   ]
  },
  {
   "cell_type": "code",
   "execution_count": null,
   "id": "281d4f2c-ecca-4142-a555-89de6a95ec40",
   "metadata": {},
   "outputs": [],
   "source": [
    "text.find(' ')"
   ]
  },
  {
   "cell_type": "markdown",
   "id": "07eaf7d5-c0a3-4622-9976-3f32dd9bb7ab",
   "metadata": {},
   "source": [
    "    replace(old, new) --> Returns a copy of the string with all occurrences of the substring 'old' replaced by 'new'"
   ]
  },
  {
   "cell_type": "code",
   "execution_count": null,
   "id": "6170b890-3c49-4b7e-a255-7433d78c14ef",
   "metadata": {},
   "outputs": [],
   "source": [
    "text = 'Hello, World. I am using Python'\n",
    "text.replace('Python', 'Java')"
   ]
  },
  {
   "cell_type": "code",
   "execution_count": null,
   "id": "ccdf8b82-aa4a-48cd-a479-ccd095a254ff",
   "metadata": {},
   "outputs": [],
   "source": [
    "text.replace('I am', 'Everybody')"
   ]
  },
  {
   "cell_type": "code",
   "execution_count": null,
   "id": "043bd07e-2709-42e5-a471-94da11f7cc26",
   "metadata": {},
   "outputs": [],
   "source": [
    "mystring = 'my python files'\n",
    "mystring.replace(' ', '_')"
   ]
  },
  {
   "cell_type": "markdown",
   "id": "8d80ef79-2f92-46e2-9a93-f7bdd4235b01",
   "metadata": {},
   "source": [
    "    count() --> Returns the number of occurrences of the substring in the string"
   ]
  },
  {
   "cell_type": "code",
   "execution_count": null,
   "id": "4c8fcd14-6dd0-4791-a7f2-f2d8eda90118",
   "metadata": {},
   "outputs": [],
   "source": [
    "text.count('o')"
   ]
  },
  {
   "cell_type": "code",
   "execution_count": null,
   "id": "0dc8082c-f07d-41a9-9bdd-f0a0532660d9",
   "metadata": {},
   "outputs": [],
   "source": [
    "text.count(' ')"
   ]
  },
  {
   "cell_type": "code",
   "execution_count": null,
   "id": "4632f8c6-3945-4cdf-9c57-0cb79a3a6dbf",
   "metadata": {},
   "outputs": [],
   "source": [
    "text.count('World')"
   ]
  },
  {
   "cell_type": "markdown",
   "id": "2f597fd1-b6e3-4374-9152-177989cce00c",
   "metadata": {},
   "source": [
    "    startswith() --> Returns True if the string starts with the specified prefix, otherwise False"
   ]
  },
  {
   "cell_type": "code",
   "execution_count": null,
   "id": "c8ebd4fc-47b9-4ce3-b661-48c14d63a643",
   "metadata": {},
   "outputs": [],
   "source": [
    "text.startswith('H')"
   ]
  },
  {
   "cell_type": "code",
   "execution_count": null,
   "id": "3d7c46f2-d3c7-4e18-944b-f83aa97bb52d",
   "metadata": {},
   "outputs": [],
   "source": [
    "text.startswith('h')"
   ]
  },
  {
   "cell_type": "markdown",
   "id": "342aa2c5-7802-4587-85d3-7087e311f1b5",
   "metadata": {},
   "source": [
    "    endswith() --> Returns True if the string ends with the specified suffix, otherwise False"
   ]
  },
  {
   "cell_type": "code",
   "execution_count": null,
   "id": "3abf9c57-7ebf-492a-8c5f-892ce744ddfa",
   "metadata": {},
   "outputs": [],
   "source": [
    "text.endswith('n')"
   ]
  },
  {
   "cell_type": "markdown",
   "id": "8b5d01e9-b2cf-45fb-9c02-53939c106c1f",
   "metadata": {},
   "source": [
    "    isdigit() --> Returns True if all characters in the string are digits, otherwise False"
   ]
  },
  {
   "cell_type": "code",
   "execution_count": null,
   "id": "a1d0d702-a7fb-4143-8e99-a6ca6a79316c",
   "metadata": {},
   "outputs": [],
   "source": [
    "mystring = '123'\n",
    "mystring.isdigit()"
   ]
  },
  {
   "cell_type": "code",
   "execution_count": null,
   "id": "716bec21-8669-45e0-a82c-c9b35075c28f",
   "metadata": {},
   "outputs": [],
   "source": [
    "mystring = '123a'\n",
    "mystring.isdigit()"
   ]
  },
  {
   "cell_type": "markdown",
   "id": "a21902b3-a551-40c2-b98c-70db7133b4ae",
   "metadata": {},
   "source": [
    "    isalpha() --> Returns True if all characters in the string are alphabetic, otherwise False"
   ]
  },
  {
   "cell_type": "code",
   "execution_count": null,
   "id": "52b57151-2ef9-4831-ae2c-69c4fe701954",
   "metadata": {},
   "outputs": [],
   "source": [
    "mystring = 'abcd'\n",
    "mystring.isalpha()"
   ]
  },
  {
   "cell_type": "code",
   "execution_count": null,
   "id": "6fbd2d5a-5ccf-4cb8-aa25-0125d34c23a9",
   "metadata": {},
   "outputs": [],
   "source": [
    "mystring = 'abcd1'\n",
    "mystring.isalpha()"
   ]
  },
  {
   "cell_type": "markdown",
   "id": "78fd4a3f-212d-44e8-aaa2-afd036f241ef",
   "metadata": {},
   "source": [
    "    isalnum() --> Returns True if all characters in the string are alphanumeric (letters and numbers), otherwise False"
   ]
  },
  {
   "cell_type": "code",
   "execution_count": null,
   "id": "d175ee5c-e868-4bc6-8c87-13d259846e02",
   "metadata": {},
   "outputs": [],
   "source": [
    "mystring = '123ab'\n",
    "mystring.isalnum()"
   ]
  },
  {
   "cell_type": "code",
   "execution_count": null,
   "id": "53776577-8ea4-426d-a3ca-4d78ccc3342f",
   "metadata": {},
   "outputs": [],
   "source": [
    "mystring = 'hello world'\n",
    "mystring.isalnum()"
   ]
  },
  {
   "cell_type": "code",
   "execution_count": null,
   "id": "9fcf7e20-a9cc-4b7b-b1da-e295f8c7c2c2",
   "metadata": {},
   "outputs": [],
   "source": [
    "mystring = '123ab_'\n",
    "mystring.isalnum()"
   ]
  },
  {
   "cell_type": "markdown",
   "id": "8ea5b0ce-2685-4cf0-8bc7-36deb7e76fa5",
   "metadata": {},
   "source": [
    "    isupper() --> Returns True if all characters in the string are uppercase, otherwise False"
   ]
  },
  {
   "cell_type": "code",
   "execution_count": null,
   "id": "f773123d-cb93-470c-8f90-a080e1fa860f",
   "metadata": {},
   "outputs": [],
   "source": [
    "mystring = 'HELLO'\n",
    "mystring.isupper()"
   ]
  },
  {
   "cell_type": "code",
   "execution_count": null,
   "id": "5468b82e-0b67-403a-8253-f6371018462a",
   "metadata": {},
   "outputs": [],
   "source": [
    "mystring = 'HeLLO'\n",
    "mystring.isupper()"
   ]
  },
  {
   "cell_type": "markdown",
   "id": "60d9f796-081e-4d08-8cbc-b919515428ec",
   "metadata": {},
   "source": [
    "    islower() --> Returns True if all characters in the string are lowercase, otherwise False"
   ]
  },
  {
   "cell_type": "code",
   "execution_count": null,
   "id": "7bdecd65-b462-440c-829e-6ae9db5ae701",
   "metadata": {},
   "outputs": [],
   "source": [
    "mystring = 'hello'\n",
    "mystring.islower()"
   ]
  },
  {
   "cell_type": "markdown",
   "id": "1197713a-242f-4b8a-ade2-d7496ca21348",
   "metadata": {},
   "source": [
    "### MULTILINE STRINGS"
   ]
  },
  {
   "cell_type": "code",
   "execution_count": null,
   "id": "d8ba8097-2c0a-4cf0-ab3f-1aeb07fc7592",
   "metadata": {},
   "outputs": [],
   "source": [
    "multi = '''\n",
    "Hello, World.\n",
    "I am using:\n",
    "           - Python\n",
    "           - Javascript\n",
    "           - Java\n",
    "           - Dart\n",
    "'''\n"
   ]
  },
  {
   "cell_type": "code",
   "execution_count": null,
   "id": "b4541cfd-9898-4948-8513-29df63aec5df",
   "metadata": {},
   "outputs": [],
   "source": [
    "print(multi)"
   ]
  },
  {
   "cell_type": "code",
   "execution_count": null,
   "id": "93803b89-c1c2-4ec3-8d6f-66df7775ca6a",
   "metadata": {},
   "outputs": [],
   "source": [
    "multi"
   ]
  },
  {
   "cell_type": "markdown",
   "id": "232578f3-1d3e-406f-9a3f-f734638c2db8",
   "metadata": {},
   "source": [
    "### NEWLINE"
   ]
  },
  {
   "cell_type": "code",
   "execution_count": null,
   "id": "a88469c2-8483-4727-bc5e-5b5c2b4b6f6a",
   "metadata": {},
   "outputs": [],
   "source": [
    "mystring = '1\\n2\\n3\\n4\\n5'\n",
    "print(mystring)"
   ]
  },
  {
   "cell_type": "code",
   "execution_count": null,
   "id": "f71b938f-8f38-441a-896a-e2ad12360cf1",
   "metadata": {},
   "outputs": [],
   "source": [
    "mystring = '\\n1\\n2\\n3\\n4\\n5\\n'\n",
    "print(mystring)"
   ]
  },
  {
   "cell_type": "code",
   "execution_count": null,
   "id": "da47ed64-7bac-4b2c-b9b0-c6be0498765f",
   "metadata": {},
   "outputs": [],
   "source": [
    "print(mystring.strip())"
   ]
  },
  {
   "cell_type": "code",
   "execution_count": null,
   "id": "fd1a27ac-31fd-49b4-b21b-a055f29dd5c7",
   "metadata": {},
   "outputs": [],
   "source": [
    "mystring = '1\\n\\n2\\n\\n3\\n\\n4\\n\\n5'\n",
    "print(mystring)"
   ]
  },
  {
   "cell_type": "code",
   "execution_count": null,
   "id": "e630a742-060c-4c2e-984a-fb5b41d9be1f",
   "metadata": {},
   "outputs": [],
   "source": [
    "mystring.replace('\\n', '-')"
   ]
  },
  {
   "cell_type": "markdown",
   "id": "0288df15-bb6d-470f-afba-6690c46d32f9",
   "metadata": {},
   "source": [
    "### ESCAPE CHARACTERS"
   ]
  },
  {
   "cell_type": "code",
   "execution_count": null,
   "id": "03e2c99f-2e7a-4632-8841-3941ffb221d0",
   "metadata": {},
   "outputs": [],
   "source": [
    "# text = 'Is it called 'Python' ?'"
   ]
  },
  {
   "cell_type": "code",
   "execution_count": null,
   "id": "cf1c3658-6dd6-44cd-836b-d29e45bc08e4",
   "metadata": {},
   "outputs": [],
   "source": [
    "text = 'Is it called \\'Python\\' ?'"
   ]
  }
 ],
 "metadata": {
  "kernelspec": {
   "display_name": "Python 3 (ipykernel)",
   "language": "python",
   "name": "python3"
  },
  "language_info": {
   "codemirror_mode": {
    "name": "ipython",
    "version": 3
   },
   "file_extension": ".py",
   "mimetype": "text/x-python",
   "name": "python",
   "nbconvert_exporter": "python",
   "pygments_lexer": "ipython3",
   "version": "3.12.4"
  }
 },
 "nbformat": 4,
 "nbformat_minor": 5
}
