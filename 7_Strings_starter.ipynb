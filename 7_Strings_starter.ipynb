{
 "cells": [
  {
   "cell_type": "markdown",
   "id": "7b6f6ac7-3b7c-4efe-8764-854241f4f30d",
   "metadata": {},
   "source": [
    "# STRINGS"
   ]
  },
  {
   "cell_type": "markdown",
   "id": "9b537fae-9e25-455f-ad14-6104d24f17ef",
   "metadata": {},
   "source": [
    "### CREATING A STRING - using single or double quotes"
   ]
  },
  {
   "cell_type": "code",
   "execution_count": null,
   "id": "42dcaf83-aba9-42e4-b7c7-50432e846598",
   "metadata": {},
   "outputs": [],
   "source": []
  },
  {
   "cell_type": "markdown",
   "id": "513019f5-2051-4b4f-a419-edcc66c7c21f",
   "metadata": {},
   "source": [
    "### INDEXING"
   ]
  },
  {
   "cell_type": "code",
   "execution_count": null,
   "id": "c2cb4819-4bf6-4da1-aeb2-bbdec5513bf5",
   "metadata": {},
   "outputs": [],
   "source": []
  },
  {
   "cell_type": "markdown",
   "id": "b2ab6c06-9fd9-46bb-b222-874fba8f99ee",
   "metadata": {},
   "source": [
    "### SLICING"
   ]
  },
  {
   "cell_type": "code",
   "execution_count": null,
   "id": "d35304e8-5441-4232-8b25-e3899a4c080c",
   "metadata": {},
   "outputs": [],
   "source": []
  },
  {
   "cell_type": "markdown",
   "id": "a8e54638-bb14-4192-aaf4-a10616036d82",
   "metadata": {},
   "source": [
    "### CONCATENATION"
   ]
  },
  {
   "cell_type": "code",
   "execution_count": null,
   "id": "7f0116b3-90f9-4712-a694-68cbb062f025",
   "metadata": {},
   "outputs": [],
   "source": []
  },
  {
   "cell_type": "markdown",
   "id": "73b4edab-dee8-48bc-bf7e-54a76e56ba3c",
   "metadata": {},
   "source": [
    "### FORMATTING"
   ]
  },
  {
   "cell_type": "markdown",
   "id": "d08613ba-dd1e-41fa-bc54-74509cd0ef31",
   "metadata": {},
   "source": [
    "    With .format()"
   ]
  },
  {
   "cell_type": "code",
   "execution_count": null,
   "id": "9ac583b7-fc8f-4a36-8a8b-9cf5d368e5e8",
   "metadata": {},
   "outputs": [],
   "source": []
  },
  {
   "cell_type": "markdown",
   "id": "181ac020-6e4c-4db4-855e-72723405edfe",
   "metadata": {},
   "source": [
    "    With f strings"
   ]
  },
  {
   "cell_type": "code",
   "execution_count": null,
   "id": "dd1b1e56-66e3-4979-9dba-0c2dd13675d1",
   "metadata": {},
   "outputs": [],
   "source": []
  },
  {
   "cell_type": "markdown",
   "id": "7091ac94-c48a-4c1f-a893-9452599080f2",
   "metadata": {},
   "source": [
    "### STRING METHODS"
   ]
  },
  {
   "cell_type": "markdown",
   "id": "f6946586-95e0-4676-bb6f-d7db3e5d62e1",
   "metadata": {},
   "source": [
    "Note: Strings are immutable. The methods we will use will not change the string as they did with the lists. They will return the changed values, we can see them or we can save them in variables but the original string will always be the same. \n",
    "Note: We can change the string variables if we assign a new value to them. This is not about immutability."
   ]
  },
  {
   "cell_type": "markdown",
   "id": "13c102ea-57de-4482-8a58-191302278b27",
   "metadata": {},
   "source": [
    "    upper(), lower() --> Converts all characters in the string to upper/lowercase"
   ]
  },
  {
   "cell_type": "code",
   "execution_count": null,
   "id": "3f1d3573-d98f-4cff-8118-bc3f72a3095e",
   "metadata": {},
   "outputs": [],
   "source": []
  },
  {
   "cell_type": "markdown",
   "id": "e4bf777d-c8ff-40e2-ba1d-3bcf8eb7f3f4",
   "metadata": {},
   "source": [
    "    capitalize() --> Capitalizes the first character of the string"
   ]
  },
  {
   "cell_type": "code",
   "execution_count": null,
   "id": "c47bbe32-cddb-42a0-a176-1f63b720b8f1",
   "metadata": {},
   "outputs": [],
   "source": []
  },
  {
   "cell_type": "markdown",
   "id": "bc072a56-6c68-4166-90d2-f2059da140ff",
   "metadata": {},
   "source": [
    "    title() --> Capitalizes the first character of each word in the string"
   ]
  },
  {
   "cell_type": "code",
   "execution_count": null,
   "id": "70e06646-5778-4d13-8b60-a85157a0f1f4",
   "metadata": {},
   "outputs": [],
   "source": []
  },
  {
   "cell_type": "markdown",
   "id": "a9e84f9a-25bc-483c-889f-1e65892a1352",
   "metadata": {},
   "source": [
    "    split() --> Splits the string into a list of substrings based on a delimiter"
   ]
  },
  {
   "cell_type": "code",
   "execution_count": null,
   "id": "1a9e932b-ff8e-4903-9794-ef2b3d3229dd",
   "metadata": {},
   "outputs": [],
   "source": []
  },
  {
   "cell_type": "markdown",
   "id": "985326c9-c15f-44e2-894c-3df4f76c1c23",
   "metadata": {},
   "source": [
    "    strip() --> Removes leading and trailing whitespace"
   ]
  },
  {
   "cell_type": "code",
   "execution_count": null,
   "id": "c51bc2a6-eaf5-4ed2-89f5-7bb0b4359ec9",
   "metadata": {},
   "outputs": [],
   "source": []
  },
  {
   "cell_type": "markdown",
   "id": "b109be01-66a4-4521-88fb-f56de0515440",
   "metadata": {},
   "source": [
    "    join(list) --> Joins a list of strings into a single string with a specified delimiter"
   ]
  },
  {
   "cell_type": "code",
   "execution_count": null,
   "id": "bc7f91d7-6cdd-4be1-aa4c-74f21ee412a0",
   "metadata": {},
   "outputs": [],
   "source": []
  },
  {
   "cell_type": "markdown",
   "id": "4933dfb1-a416-4d65-a45b-f68af30861c1",
   "metadata": {},
   "source": [
    "    find() --Returns the lowest index in the string where the substring is found, or -1 if not found"
   ]
  },
  {
   "cell_type": "code",
   "execution_count": null,
   "id": "1dee6fd8-eb0b-460f-907a-be7843d5e689",
   "metadata": {},
   "outputs": [],
   "source": []
  },
  {
   "cell_type": "markdown",
   "id": "07eaf7d5-c0a3-4622-9976-3f32dd9bb7ab",
   "metadata": {},
   "source": [
    "    replace(old, new) --> Returns a copy of the string with all occurrences of the substring 'old' replaced by 'new'"
   ]
  },
  {
   "cell_type": "code",
   "execution_count": null,
   "id": "dcc703ab-4e03-4482-b836-5b336978750e",
   "metadata": {},
   "outputs": [],
   "source": []
  },
  {
   "cell_type": "markdown",
   "id": "8d80ef79-2f92-46e2-9a93-f7bdd4235b01",
   "metadata": {},
   "source": [
    "    count() --> Returns the number of occurrences of the substring in the string"
   ]
  },
  {
   "cell_type": "code",
   "execution_count": null,
   "id": "2353d965-7d71-40a7-baf2-0b663dc9e19e",
   "metadata": {},
   "outputs": [],
   "source": []
  },
  {
   "cell_type": "markdown",
   "id": "2f597fd1-b6e3-4374-9152-177989cce00c",
   "metadata": {},
   "source": [
    "    startswith() --> Returns True if the string starts with the specified prefix, otherwise False"
   ]
  },
  {
   "cell_type": "code",
   "execution_count": null,
   "id": "1978e92e-9836-4004-8973-d5be9702495e",
   "metadata": {},
   "outputs": [],
   "source": []
  },
  {
   "cell_type": "markdown",
   "id": "342aa2c5-7802-4587-85d3-7087e311f1b5",
   "metadata": {},
   "source": [
    "    endswith() --> Returns True if the string ends with the specified suffix, otherwise False"
   ]
  },
  {
   "cell_type": "code",
   "execution_count": null,
   "id": "fe46b8b3-6778-4262-925d-f271c37e7505",
   "metadata": {},
   "outputs": [],
   "source": []
  },
  {
   "cell_type": "markdown",
   "id": "8b5d01e9-b2cf-45fb-9c02-53939c106c1f",
   "metadata": {},
   "source": [
    "    isdigit() --> Returns True if all characters in the string are digits, otherwise False"
   ]
  },
  {
   "cell_type": "code",
   "execution_count": null,
   "id": "5744122a-2395-490f-98df-2930a4efa6d2",
   "metadata": {},
   "outputs": [],
   "source": []
  },
  {
   "cell_type": "markdown",
   "id": "a21902b3-a551-40c2-b98c-70db7133b4ae",
   "metadata": {},
   "source": [
    "    isalpha() --> Returns True if all characters in the string are alphabetic, otherwise False"
   ]
  },
  {
   "cell_type": "code",
   "execution_count": null,
   "id": "0487bb84-a4ba-407d-b35a-db30a4a7420a",
   "metadata": {},
   "outputs": [],
   "source": []
  },
  {
   "cell_type": "markdown",
   "id": "78fd4a3f-212d-44e8-aaa2-afd036f241ef",
   "metadata": {},
   "source": [
    "    isalnum() --> Returns True if all characters in the string are alphanumeric (letters and numbers), otherwise False"
   ]
  },
  {
   "cell_type": "code",
   "execution_count": null,
   "id": "b0a38aff-21c4-4361-8986-cde72bd6cb74",
   "metadata": {},
   "outputs": [],
   "source": []
  },
  {
   "cell_type": "markdown",
   "id": "8ea5b0ce-2685-4cf0-8bc7-36deb7e76fa5",
   "metadata": {},
   "source": [
    "    isupper() --> Returns True if all characters in the string are uppercase, otherwise False"
   ]
  },
  {
   "cell_type": "code",
   "execution_count": null,
   "id": "1b96218e-e944-45d2-b91f-ddd738c47183",
   "metadata": {},
   "outputs": [],
   "source": []
  },
  {
   "cell_type": "markdown",
   "id": "60d9f796-081e-4d08-8cbc-b919515428ec",
   "metadata": {},
   "source": [
    "    islower() --> Returns True if all characters in the string are lowercase, otherwise False"
   ]
  },
  {
   "cell_type": "code",
   "execution_count": null,
   "id": "45883df8-89cd-4283-9937-b2b0256b236e",
   "metadata": {},
   "outputs": [],
   "source": []
  },
  {
   "cell_type": "markdown",
   "id": "1197713a-242f-4b8a-ade2-d7496ca21348",
   "metadata": {},
   "source": [
    "### MULTILINE STRINGS"
   ]
  },
  {
   "cell_type": "code",
   "execution_count": null,
   "id": "3f825198-2913-4928-9f6b-c93116bd9efb",
   "metadata": {},
   "outputs": [],
   "source": []
  },
  {
   "cell_type": "markdown",
   "id": "232578f3-1d3e-406f-9a3f-f734638c2db8",
   "metadata": {},
   "source": [
    "### NEWLINE"
   ]
  },
  {
   "cell_type": "code",
   "execution_count": null,
   "id": "f1d98943-ed2f-4159-b91a-d6a85768b0b4",
   "metadata": {},
   "outputs": [],
   "source": []
  },
  {
   "cell_type": "markdown",
   "id": "0288df15-bb6d-470f-afba-6690c46d32f9",
   "metadata": {},
   "source": [
    "### ESCAPE CHARACTERS"
   ]
  },
  {
   "cell_type": "code",
   "execution_count": null,
   "id": "a478a716-6e92-4e1b-8f2f-215ff91436bb",
   "metadata": {},
   "outputs": [],
   "source": []
  }
 ],
 "metadata": {
  "kernelspec": {
   "display_name": "Python 3 (ipykernel)",
   "language": "python",
   "name": "python3"
  },
  "language_info": {
   "codemirror_mode": {
    "name": "ipython",
    "version": 3
   },
   "file_extension": ".py",
   "mimetype": "text/x-python",
   "name": "python",
   "nbconvert_exporter": "python",
   "pygments_lexer": "ipython3",
   "version": "3.12.4"
  }
 },
 "nbformat": 4,
 "nbformat_minor": 5
}
