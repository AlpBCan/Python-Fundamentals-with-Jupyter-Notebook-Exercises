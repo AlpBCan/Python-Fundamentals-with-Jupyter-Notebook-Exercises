{
 "cells": [
  {
   "cell_type": "markdown",
   "id": "c5ae5b19-1d36-4c38-a039-ab5e5c691acb",
   "metadata": {},
   "source": [
    "# EXERCISE 3: STRINGS"
   ]
  },
  {
   "cell_type": "code",
   "execution_count": null,
   "id": "c9f055e8-b8c2-476b-9a5d-d619b4ac3322",
   "metadata": {},
   "outputs": [],
   "source": [
    "text = 'Python is great!'"
   ]
  },
  {
   "cell_type": "markdown",
   "id": "d46252e4-d0d4-44bd-bc0b-f9ff887c0be9",
   "metadata": {},
   "source": [
    "### Select the first and last chars of this string. Also select 'Python using slicing'."
   ]
  },
  {
   "cell_type": "code",
   "execution_count": null,
   "id": "04bac824-8938-4c69-b6a1-45a188f66e20",
   "metadata": {},
   "outputs": [],
   "source": [
    "text[0]\n",
    "text[-1]\n",
    "text[:6]"
   ]
  },
  {
   "cell_type": "code",
   "execution_count": null,
   "id": "0cb8ddc9-61d6-4c2d-bae5-a7823471545e",
   "metadata": {},
   "outputs": [],
   "source": [
    "new_text = 'Right?'"
   ]
  },
  {
   "cell_type": "markdown",
   "id": "8dea3bba-24ed-4f27-8554-4c42770dddd2",
   "metadata": {},
   "source": [
    "### Concat text and new_text using '+' operator(don't forget to leave a blank line). Assing it to 'text' again."
   ]
  },
  {
   "cell_type": "code",
   "execution_count": null,
   "id": "7a1ec071-ebab-4281-8fc9-8694328d456d",
   "metadata": {},
   "outputs": [],
   "source": [
    "text = text + ' ' + new_text\n",
    "text"
   ]
  },
  {
   "cell_type": "markdown",
   "id": "abb70264-24b9-4dcf-8be0-d842b9053b30",
   "metadata": {},
   "source": [
    "### Write the same expression again but add 'Python' with .format() method."
   ]
  },
  {
   "cell_type": "code",
   "execution_count": null,
   "id": "d73ce88e-f197-40d8-ab29-cd93aa7240c8",
   "metadata": {},
   "outputs": [],
   "source": [
    "text = '{} is great! Right?'.format('Python')\n",
    "text"
   ]
  },
  {
   "cell_type": "markdown",
   "id": "85a4f855-adde-4741-b37c-299fbf54fad8",
   "metadata": {},
   "source": [
    "### Do the same thing with f string. Define a variable first and assign 'Java' to it. In the f string expression, use this variable and change it to 'Javascript'"
   ]
  },
  {
   "cell_type": "code",
   "execution_count": null,
   "id": "72b801e0-4186-4758-8059-c6d63f8840d6",
   "metadata": {},
   "outputs": [],
   "source": [
    "language = 'Java'\n",
    "text = f'{language + 'script'} is great! Right?'\n",
    "text"
   ]
  },
  {
   "cell_type": "markdown",
   "id": "ff328aea-2069-4cc1-b4d7-04275261c8d5",
   "metadata": {},
   "source": [
    "### Define text = 'Python is great! Right?' again and change all characters to uppercase"
   ]
  },
  {
   "cell_type": "code",
   "execution_count": null,
   "id": "a8c3f845-0db3-46ac-886c-3e264614c9bc",
   "metadata": {},
   "outputs": [],
   "source": [
    "text = 'Python is great! Right?'\n",
    "text.upper()"
   ]
  },
  {
   "cell_type": "markdown",
   "id": "b778d522-ac0a-4366-8bdb-40d1b45c0990",
   "metadata": {},
   "source": [
    "### Save the string to another variable in lowercase. \n",
    "Note: Since strings are immutable, we cannot change them with the methods. We need to assign the string to another variable(or to the same variable again) in order to use the changed version."
   ]
  },
  {
   "cell_type": "code",
   "execution_count": null,
   "id": "95446f98-7f9c-4fbb-b738-762fbf4a1172",
   "metadata": {},
   "outputs": [],
   "source": [
    "lower = text.lower()\n",
    "lower"
   ]
  },
  {
   "cell_type": "markdown",
   "id": "4966d99c-faf6-439e-bffe-fb647d66d414",
   "metadata": {},
   "source": [
    "### Capitalize the first character"
   ]
  },
  {
   "cell_type": "code",
   "execution_count": null,
   "id": "813b1e6b-7e7a-4ad6-b53c-f8f607c53b37",
   "metadata": {},
   "outputs": [],
   "source": [
    "lower.capitalize()"
   ]
  },
  {
   "cell_type": "markdown",
   "id": "2a4f3ca9-b604-400c-a2de-06c20eeef424",
   "metadata": {},
   "source": [
    "### Capitalize all the words"
   ]
  },
  {
   "cell_type": "code",
   "execution_count": null,
   "id": "f4c31cca-c8d1-4c70-b64d-aced046e7e73",
   "metadata": {},
   "outputs": [],
   "source": [
    "lower.title()"
   ]
  },
  {
   "cell_type": "markdown",
   "id": "e75a9125-d4c9-4654-b7c5-afb34645bb95",
   "metadata": {},
   "source": [
    "### Take the 'text' variable again and split in in two pieces using '!'"
   ]
  },
  {
   "cell_type": "code",
   "execution_count": null,
   "id": "ca4bfa67-83c5-4458-8da6-e5d313c6e38c",
   "metadata": {},
   "outputs": [],
   "source": [
    "text.split('!')"
   ]
  },
  {
   "cell_type": "markdown",
   "id": "aec3340f-42c0-4387-967e-9948be663dac",
   "metadata": {},
   "source": [
    "### Split using the spaces"
   ]
  },
  {
   "cell_type": "code",
   "execution_count": null,
   "id": "b2d9f160-d0d4-4608-b4aa-1dec286f5cea",
   "metadata": {},
   "outputs": [],
   "source": [
    "text.split()"
   ]
  },
  {
   "cell_type": "markdown",
   "id": "f705517a-0747-4f2d-97c4-245279bc4068",
   "metadata": {},
   "source": [
    "### Find the length of the list that you get from the split() method."
   ]
  },
  {
   "cell_type": "code",
   "execution_count": null,
   "id": "54390e2b-e863-4905-89ee-3ca72c3980ec",
   "metadata": {},
   "outputs": [],
   "source": [
    "len(text.split())"
   ]
  },
  {
   "cell_type": "markdown",
   "id": "6f8b3214-cf78-456d-967b-59ca4f03c779",
   "metadata": {},
   "source": [
    "### Split the list again using spaces, reach the question mark and assign it to a variable."
   ]
  },
  {
   "cell_type": "code",
   "execution_count": null,
   "id": "d68dfba7-c0ed-4755-b6cd-49fbb65432cc",
   "metadata": {},
   "outputs": [],
   "source": [
    "question = text.split(' ')[-1][-1]\n",
    "question"
   ]
  },
  {
   "cell_type": "markdown",
   "id": "6c07c7b7-f20c-45d4-99f4-210ce598e1d6",
   "metadata": {},
   "source": [
    "### Do the same thing for the exclamation mark"
   ]
  },
  {
   "cell_type": "code",
   "execution_count": null,
   "id": "fe68b8e8-8702-4324-bfaa-6939905fd905",
   "metadata": {},
   "outputs": [],
   "source": [
    "exclamation = text.split(' ')[2][-1]\n",
    "exclamation"
   ]
  },
  {
   "cell_type": "markdown",
   "id": "83675563-9812-4209-859e-28d0c5f396c3",
   "metadata": {},
   "source": [
    "### Replace the spaces with new lines and also add new lines to beginnig and end of the string using '+' operator, assign it to another variable called 'new_lines'. Print 'new_lines'."
   ]
  },
  {
   "cell_type": "code",
   "execution_count": null,
   "id": "f5f5cde5-a612-42d3-a27b-653786cc2bbe",
   "metadata": {},
   "outputs": [],
   "source": [
    "new_lines = '\\n' + text.replace(' ', '\\n') + '\\n'\n",
    "print(new_lines)"
   ]
  },
  {
   "cell_type": "markdown",
   "id": "f44d4132-2d17-4332-abf1-b14b6c571e1d",
   "metadata": {},
   "source": [
    "### Get rid of the new lines at the beginning and end using a method. Assign the result to the same variable and print it."
   ]
  },
  {
   "cell_type": "code",
   "execution_count": null,
   "id": "a35cc325-2706-462d-a263-372f1050d127",
   "metadata": {},
   "outputs": [],
   "source": [
    "new_lines = new_lines.strip()\n",
    "print(new_lines)"
   ]
  },
  {
   "cell_type": "markdown",
   "id": "017a1ad0-97c2-4d07-babd-5998699532c0",
   "metadata": {},
   "source": [
    "### Replace the new lines with underlines. Assign it to a variable called 'underline'."
   ]
  },
  {
   "cell_type": "code",
   "execution_count": null,
   "id": "cac76e5c-cee4-42f4-b7be-00b86949bfbb",
   "metadata": {},
   "outputs": [],
   "source": [
    "underline = new_lines.replace('\\n', '_')\n",
    "underline"
   ]
  },
  {
   "cell_type": "markdown",
   "id": "304fda70-d6f5-4c23-b337-efccfa10ccb6",
   "metadata": {},
   "source": [
    "### Find the number of underlines in the string."
   ]
  },
  {
   "cell_type": "code",
   "execution_count": null,
   "id": "9752885b-355b-4d59-8a08-ec7b68ccac76",
   "metadata": {},
   "outputs": [],
   "source": [
    "underline.count('_')"
   ]
  },
  {
   "cell_type": "markdown",
   "id": "7d0f37ba-19b5-4728-b84a-4e75fa04522b",
   "metadata": {},
   "source": [
    "### Find the index of first underline in the string."
   ]
  },
  {
   "cell_type": "code",
   "execution_count": null,
   "id": "92721b7e-befe-4c8f-b323-5d5a8827b6be",
   "metadata": {},
   "outputs": [],
   "source": [
    "underline.find('_')"
   ]
  },
  {
   "cell_type": "markdown",
   "id": "857230bf-8037-4d0e-ba7d-ed6eed07c8b0",
   "metadata": {},
   "source": [
    "### Split this string using the underlines and join them back with spaces in the place of those underlines. Assign the result to 'text' again. You can do this in one line but if you need more than one line it is completely OK."
   ]
  },
  {
   "cell_type": "code",
   "execution_count": null,
   "id": "c264c38a-15e2-46a5-8429-8a4d4ee4c375",
   "metadata": {},
   "outputs": [],
   "source": [
    "text = ' '.join(underline.split('_'))\n",
    "text"
   ]
  }
 ],
 "metadata": {
  "kernelspec": {
   "display_name": "Python 3 (ipykernel)",
   "language": "python",
   "name": "python3"
  },
  "language_info": {
   "codemirror_mode": {
    "name": "ipython",
    "version": 3
   },
   "file_extension": ".py",
   "mimetype": "text/x-python",
   "name": "python",
   "nbconvert_exporter": "python",
   "pygments_lexer": "ipython3",
   "version": "3.12.4"
  }
 },
 "nbformat": 4,
 "nbformat_minor": 5
}
