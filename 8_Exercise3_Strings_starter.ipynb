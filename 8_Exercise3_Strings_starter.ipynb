{
 "cells": [
  {
   "cell_type": "markdown",
   "id": "ab58c46d-ce90-4e1b-b5ad-32581eb6edb0",
   "metadata": {},
   "source": [
    "# EXERCISE 3: STRINGS"
   ]
  },
  {
   "cell_type": "code",
   "execution_count": null,
   "id": "c9f055e8-b8c2-476b-9a5d-d619b4ac3322",
   "metadata": {},
   "outputs": [],
   "source": [
    "text = 'Python is great!'"
   ]
  },
  {
   "cell_type": "markdown",
   "id": "d46252e4-d0d4-44bd-bc0b-f9ff887c0be9",
   "metadata": {},
   "source": [
    "### Select the first and last chars of this string. Also select 'Python using slicing'."
   ]
  },
  {
   "cell_type": "code",
   "execution_count": null,
   "id": "ba7f0ebe-aa84-49f3-a171-535484936b78",
   "metadata": {},
   "outputs": [],
   "source": []
  },
  {
   "cell_type": "code",
   "execution_count": null,
   "id": "0cb8ddc9-61d6-4c2d-bae5-a7823471545e",
   "metadata": {},
   "outputs": [],
   "source": [
    "new_text = 'Right?'"
   ]
  },
  {
   "cell_type": "markdown",
   "id": "8dea3bba-24ed-4f27-8554-4c42770dddd2",
   "metadata": {},
   "source": [
    "### Concat text and new_text using '+' operator(don't forget to leave a blank line). Assing it to 'text' again."
   ]
  },
  {
   "cell_type": "code",
   "execution_count": null,
   "id": "26e9509c-c3f2-4910-8dbe-7477442d0e9e",
   "metadata": {},
   "outputs": [],
   "source": []
  },
  {
   "cell_type": "markdown",
   "id": "abb70264-24b9-4dcf-8be0-d842b9053b30",
   "metadata": {},
   "source": [
    "### Write the same expression again but add 'Python' with .format() method."
   ]
  },
  {
   "cell_type": "code",
   "execution_count": null,
   "id": "d6cf194d-ec8f-4ecb-9441-1f88a295e216",
   "metadata": {},
   "outputs": [],
   "source": []
  },
  {
   "cell_type": "markdown",
   "id": "85a4f855-adde-4741-b37c-299fbf54fad8",
   "metadata": {},
   "source": [
    "### Do the same thing with f string. Define a variable first and assign 'Java' to it. In the f string expression, use this variable and change it to 'Javascript'"
   ]
  },
  {
   "cell_type": "code",
   "execution_count": null,
   "id": "b5221a03-8a71-412b-8455-a41f157a82a8",
   "metadata": {},
   "outputs": [],
   "source": []
  },
  {
   "cell_type": "markdown",
   "id": "ff328aea-2069-4cc1-b4d7-04275261c8d5",
   "metadata": {},
   "source": [
    "### Define text = 'Python is great! Right?' again and change all characters to uppercase"
   ]
  },
  {
   "cell_type": "code",
   "execution_count": null,
   "id": "4cecf845-8ca2-425a-bbd3-5440aafa6228",
   "metadata": {},
   "outputs": [],
   "source": []
  },
  {
   "cell_type": "markdown",
   "id": "b778d522-ac0a-4366-8bdb-40d1b45c0990",
   "metadata": {},
   "source": [
    "### Save the string to another variable in lowercase. \n",
    "Note: Since strings are immutable, we cannot change them with the methods. We need to assign the string to another variable(or to the same variable again) in order to use the changed version."
   ]
  },
  {
   "cell_type": "code",
   "execution_count": null,
   "id": "ba9bea5e-d12c-42de-bd72-9a69042db670",
   "metadata": {},
   "outputs": [],
   "source": []
  },
  {
   "cell_type": "markdown",
   "id": "4966d99c-faf6-439e-bffe-fb647d66d414",
   "metadata": {},
   "source": [
    "### Capitalize the first character"
   ]
  },
  {
   "cell_type": "code",
   "execution_count": null,
   "id": "a4c52005-10c3-4a68-b88c-02f2cc7cce8d",
   "metadata": {},
   "outputs": [],
   "source": []
  },
  {
   "cell_type": "markdown",
   "id": "2a4f3ca9-b604-400c-a2de-06c20eeef424",
   "metadata": {},
   "source": [
    "### Capitalize all the words"
   ]
  },
  {
   "cell_type": "code",
   "execution_count": null,
   "id": "d49c5ef2-1563-4087-b724-ea6a50053919",
   "metadata": {},
   "outputs": [],
   "source": []
  },
  {
   "cell_type": "markdown",
   "id": "e75a9125-d4c9-4654-b7c5-afb34645bb95",
   "metadata": {},
   "source": [
    "### Take the 'text' variable again and split in in two pieces using '!'"
   ]
  },
  {
   "cell_type": "code",
   "execution_count": null,
   "id": "380f7391-dddc-41f6-9cad-3554744f1596",
   "metadata": {},
   "outputs": [],
   "source": []
  },
  {
   "cell_type": "markdown",
   "id": "aec3340f-42c0-4387-967e-9948be663dac",
   "metadata": {},
   "source": [
    "### Split using the spaces"
   ]
  },
  {
   "cell_type": "code",
   "execution_count": null,
   "id": "3826d702-43ad-49c8-a976-8f1c2387ce87",
   "metadata": {},
   "outputs": [],
   "source": []
  },
  {
   "cell_type": "markdown",
   "id": "f705517a-0747-4f2d-97c4-245279bc4068",
   "metadata": {},
   "source": [
    "### Find the length of the list that you get from the split() method."
   ]
  },
  {
   "cell_type": "code",
   "execution_count": null,
   "id": "0527653f-c519-4e38-9ce4-e1553892f13e",
   "metadata": {},
   "outputs": [],
   "source": []
  },
  {
   "cell_type": "markdown",
   "id": "6f8b3214-cf78-456d-967b-59ca4f03c779",
   "metadata": {},
   "source": [
    "### Split the list again using spaces, reach the question mark and assign it to a variable."
   ]
  },
  {
   "cell_type": "code",
   "execution_count": null,
   "id": "9b569814-f37b-4760-8997-d41951b000da",
   "metadata": {},
   "outputs": [],
   "source": []
  },
  {
   "cell_type": "markdown",
   "id": "6c07c7b7-f20c-45d4-99f4-210ce598e1d6",
   "metadata": {},
   "source": [
    "### Do the same thing for the exclamation mark"
   ]
  },
  {
   "cell_type": "code",
   "execution_count": null,
   "id": "371a42d8-1d56-49fb-a55f-e8fc323440db",
   "metadata": {},
   "outputs": [],
   "source": []
  },
  {
   "cell_type": "markdown",
   "id": "83675563-9812-4209-859e-28d0c5f396c3",
   "metadata": {},
   "source": [
    "### Replace the spaces with new lines and also add new lines to beginnig and end of the string using '+' operator, assign it to another variable called 'new_lines'. Print 'new_lines'."
   ]
  },
  {
   "cell_type": "code",
   "execution_count": null,
   "id": "cab69dbc-4262-4c31-b48d-9132801f9919",
   "metadata": {},
   "outputs": [],
   "source": []
  },
  {
   "cell_type": "markdown",
   "id": "f44d4132-2d17-4332-abf1-b14b6c571e1d",
   "metadata": {},
   "source": [
    "### Get rid of the new lines at the beginning and end using a method. Assign the result to the same variable and print it."
   ]
  },
  {
   "cell_type": "code",
   "execution_count": null,
   "id": "e336257f-bbbb-4140-8291-20aa87854b97",
   "metadata": {},
   "outputs": [],
   "source": []
  },
  {
   "cell_type": "markdown",
   "id": "017a1ad0-97c2-4d07-babd-5998699532c0",
   "metadata": {},
   "source": [
    "### Replace the new lines with underlines. Assign it to a variable called 'underline'."
   ]
  },
  {
   "cell_type": "code",
   "execution_count": null,
   "id": "dbf75f50-9706-4e68-98a4-973e01da9756",
   "metadata": {},
   "outputs": [],
   "source": []
  },
  {
   "cell_type": "markdown",
   "id": "304fda70-d6f5-4c23-b337-efccfa10ccb6",
   "metadata": {},
   "source": [
    "### Find the number of underlines in the string."
   ]
  },
  {
   "cell_type": "code",
   "execution_count": null,
   "id": "9d1cd4ea-73f9-4fbb-8bd7-696b6624291b",
   "metadata": {},
   "outputs": [],
   "source": []
  },
  {
   "cell_type": "markdown",
   "id": "7d0f37ba-19b5-4728-b84a-4e75fa04522b",
   "metadata": {},
   "source": [
    "### Find the index of first underline in the string."
   ]
  },
  {
   "cell_type": "code",
   "execution_count": null,
   "id": "4cea4a90-1e4e-456d-9d5a-64c774decce9",
   "metadata": {},
   "outputs": [],
   "source": []
  },
  {
   "cell_type": "markdown",
   "id": "857230bf-8037-4d0e-ba7d-ed6eed07c8b0",
   "metadata": {},
   "source": [
    "### Split this string using the underlines and join them back with spaces in the place of those underlines. Assign the result to 'text' again. You can do this in one line but if you need more than one line it is completely OK."
   ]
  },
  {
   "cell_type": "code",
   "execution_count": null,
   "id": "968f1154-f8e7-40ed-ac48-81118722cd11",
   "metadata": {},
   "outputs": [],
   "source": []
  }
 ],
 "metadata": {
  "kernelspec": {
   "display_name": "Python 3 (ipykernel)",
   "language": "python",
   "name": "python3"
  },
  "language_info": {
   "codemirror_mode": {
    "name": "ipython",
    "version": 3
   },
   "file_extension": ".py",
   "mimetype": "text/x-python",
   "name": "python",
   "nbconvert_exporter": "python",
   "pygments_lexer": "ipython3",
   "version": "3.12.4"
  }
 },
 "nbformat": 4,
 "nbformat_minor": 5
}
