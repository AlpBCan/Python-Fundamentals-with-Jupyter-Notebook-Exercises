{
 "cells": [
  {
   "cell_type": "markdown",
   "id": "cd4459c9-a10c-4489-8612-017e204a2568",
   "metadata": {},
   "source": [
    "# IF"
   ]
  },
  {
   "cell_type": "markdown",
   "id": "e58cae10-5c2e-4e00-9cf3-494199c2da34",
   "metadata": {},
   "source": [
    "### BASIC USAGE"
   ]
  },
  {
   "cell_type": "code",
   "execution_count": null,
   "id": "6af09c10-3f16-4116-93a7-fec8ed6e7bc5",
   "metadata": {},
   "outputs": [],
   "source": [
    "if True:\n",
    "    print('it is True')\n",
    "else:\n",
    "    print('it is False')"
   ]
  },
  {
   "cell_type": "code",
   "execution_count": null,
   "id": "92b3b065-c4c3-4267-a5f0-e5f336ffecb5",
   "metadata": {},
   "outputs": [],
   "source": [
    "condition = True\n",
    "\n",
    "if condition:\n",
    "    print('it is True')\n",
    "else:\n",
    "    print('it is False')"
   ]
  },
  {
   "cell_type": "code",
   "execution_count": null,
   "id": "e0a61608-fb01-4708-93a6-f86a47f69f2d",
   "metadata": {},
   "outputs": [],
   "source": [
    "x = 3\n",
    "\n",
    "if x == 3:\n",
    "    print('x is equal to 3')\n",
    "else:\n",
    "    print('x is not 3')"
   ]
  },
  {
   "cell_type": "markdown",
   "id": "31d6068d-0b1b-442c-b9e5-cf37942ecac6",
   "metadata": {},
   "source": [
    "### WITHOUT ELSE"
   ]
  },
  {
   "cell_type": "code",
   "execution_count": null,
   "id": "4e31270b-1687-492a-b226-d62916fcca7f",
   "metadata": {},
   "outputs": [],
   "source": [
    "condition = False\n",
    "if condition:\n",
    "    print('it is True')"
   ]
  },
  {
   "cell_type": "code",
   "execution_count": null,
   "id": "eece1e81-a402-4341-9a35-3eab76fcdc0f",
   "metadata": {},
   "outputs": [],
   "source": [
    "x = 10\n",
    "if x > 5:\n",
    "    print('x is larger than 5')\n",
    "elif x == 5:\n",
    "    print('x is equal to 5')"
   ]
  },
  {
   "cell_type": "markdown",
   "id": "4b2785e3-c6ef-4272-bbad-465aa8c03662",
   "metadata": {},
   "source": [
    "### ELIF"
   ]
  },
  {
   "cell_type": "code",
   "execution_count": null,
   "id": "80c379ed-7e3b-4c93-ad66-aa730fb1e8e4",
   "metadata": {},
   "outputs": [],
   "source": [
    "x = 10\n",
    "\n",
    "if x == 3:\n",
    "    print('x is equal to 3')\n",
    "elif x == 5:\n",
    "    print('x is equal to 5')\n",
    "else:\n",
    "    print('x is not 3 or 5')"
   ]
  },
  {
   "cell_type": "code",
   "execution_count": null,
   "id": "3e3e7d7d-1d9f-49f8-99a5-83a62367e5fd",
   "metadata": {},
   "outputs": [],
   "source": [
    "x = 5\n",
    "\n",
    "if x == 3:\n",
    "    print('x is 3')\n",
    "elif x % 2 != 0:\n",
    "    print('x is not equal to 3 but it is an odd number')\n",
    "else:\n",
    "    print('x is not 3 and it is even')"
   ]
  },
  {
   "cell_type": "markdown",
   "id": "5c0fe88f-c8a7-4201-8097-ceb073c6b664",
   "metadata": {},
   "source": [
    "### MORE THAN ONE CONDITION"
   ]
  },
  {
   "cell_type": "code",
   "execution_count": null,
   "id": "2665c4c6-07a1-4a76-833e-84c10e109df0",
   "metadata": {},
   "outputs": [],
   "source": [
    "x = 1\n",
    "\n",
    "if x >= 5 and x <= 20:\n",
    "    print('5 <= x <= 20')\n",
    "elif x > 5 and x > 20:\n",
    "    print('5 < 20 < x')\n",
    "else:\n",
    "    print('x < 5 < 20')"
   ]
  },
  {
   "cell_type": "markdown",
   "id": "31a993bb-39fa-4aaa-94e9-409e704eba70",
   "metadata": {},
   "source": [
    "### NESTED IF STATEMENTS"
   ]
  },
  {
   "cell_type": "code",
   "execution_count": null,
   "id": "740cee3f-3d0d-4f73-9877-e732ed1a05a0",
   "metadata": {},
   "outputs": [],
   "source": [
    "x = -1\n",
    "\n",
    "if x < 10:\n",
    "    if x %2 == 0:\n",
    "        print('It is SMALLER THAN 10 and it is EVEN')\n",
    "    else:\n",
    "        print('It is SMALLER THAN 10 and it is ODD')\n",
    "elif x == 10:\n",
    "    print('it is 10')\n",
    "else:\n",
    "    if x %2 == 0:\n",
    "        print('It is LARGER THAN 10 and it is EVEN')\n",
    "    else:\n",
    "        print('It is LARGER THAN 10 and it is ODD')\n",
    "        "
   ]
  },
  {
   "cell_type": "code",
   "execution_count": null,
   "id": "70f6eeff-9408-4a9f-b6ac-38046e5a1e75",
   "metadata": {},
   "outputs": [],
   "source": [
    "i_like = ['orange', 'apple', 'banana', 'melon']\n",
    "she_likes = ['cherry', 'orange', 'melon', 'mango']\n",
    "\n",
    "fruit = 'pineapple'\n",
    "\n",
    "if (fruit in i_like) and (fruit in she_likes):\n",
    "    print(f'we both love {fruit}')\n",
    "elif (fruit in i_like) or (fruit in she_likes):\n",
    "    print(f'one of us likes {fruit}, and it is:')\n",
    "    if fruit in i_like:\n",
    "        print('    ME!')\n",
    "    else:\n",
    "        print('    HER!')\n",
    "else:\n",
    "    print(f'we dont like {fruit}')\n"
   ]
  },
  {
   "cell_type": "markdown",
   "id": "611f3a3e-7322-486d-85cf-f13d98d0e60c",
   "metadata": {},
   "source": [
    "### MORE THAN PRINTING"
   ]
  },
  {
   "cell_type": "code",
   "execution_count": null,
   "id": "247e44b4-8d51-415b-834b-f025aeb4db08",
   "metadata": {},
   "outputs": [],
   "source": [
    "special_numbers = [3, 8, 11, 20]\n",
    "number = 13\n",
    "\n",
    "if number in special_numbers:\n",
    "    print(number**2)\n",
    "else:\n",
    "    print('not special')\n",
    "    special_numbers.append(number)\n",
    "    print(special_numbers)"
   ]
  },
  {
   "cell_type": "code",
   "execution_count": null,
   "id": "97914c0f-bd92-4868-9230-7bac832281c7",
   "metadata": {},
   "outputs": [],
   "source": [
    "number = 13\n",
    "\n",
    "if number in special_numbers:\n",
    "    print(number**2)\n",
    "else:\n",
    "    print('not special')\n",
    "    special_numbers.append(number)\n",
    "    print(special_numbers)"
   ]
  }
 ],
 "metadata": {
  "kernelspec": {
   "display_name": "Python 3 (ipykernel)",
   "language": "python",
   "name": "python3"
  },
  "language_info": {
   "codemirror_mode": {
    "name": "ipython",
    "version": 3
   },
   "file_extension": ".py",
   "mimetype": "text/x-python",
   "name": "python",
   "nbconvert_exporter": "python",
   "pygments_lexer": "ipython3",
   "version": "3.12.4"
  }
 },
 "nbformat": 4,
 "nbformat_minor": 5
}
