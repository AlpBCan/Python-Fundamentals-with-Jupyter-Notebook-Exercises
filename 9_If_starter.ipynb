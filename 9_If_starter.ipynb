{
 "cells": [
  {
   "cell_type": "markdown",
   "id": "51df6285-3739-4bc3-baa3-e1734f928673",
   "metadata": {},
   "source": [
    "# IF"
   ]
  },
  {
   "cell_type": "markdown",
   "id": "e58cae10-5c2e-4e00-9cf3-494199c2da34",
   "metadata": {},
   "source": [
    "### BASIC USAGE"
   ]
  },
  {
   "cell_type": "code",
   "execution_count": null,
   "id": "8c78cb8e-ea53-4abc-b224-288bcad1a036",
   "metadata": {},
   "outputs": [],
   "source": []
  },
  {
   "cell_type": "markdown",
   "id": "31d6068d-0b1b-442c-b9e5-cf37942ecac6",
   "metadata": {},
   "source": [
    "### WITHOUT ELSE"
   ]
  },
  {
   "cell_type": "code",
   "execution_count": null,
   "id": "a00d391b-3ae9-45d0-b91d-419cb2dcaa5d",
   "metadata": {},
   "outputs": [],
   "source": []
  },
  {
   "cell_type": "markdown",
   "id": "4b2785e3-c6ef-4272-bbad-465aa8c03662",
   "metadata": {},
   "source": [
    "### ELIF"
   ]
  },
  {
   "cell_type": "code",
   "execution_count": null,
   "id": "6f393f1c-2a18-4e93-bc03-f23608a111fb",
   "metadata": {},
   "outputs": [],
   "source": []
  },
  {
   "cell_type": "markdown",
   "id": "5c0fe88f-c8a7-4201-8097-ceb073c6b664",
   "metadata": {},
   "source": [
    "### MORE THAN ONE CONDITION"
   ]
  },
  {
   "cell_type": "code",
   "execution_count": null,
   "id": "85f4fee8-8977-4dda-a029-5d88f7049a63",
   "metadata": {},
   "outputs": [],
   "source": []
  },
  {
   "cell_type": "markdown",
   "id": "31a993bb-39fa-4aaa-94e9-409e704eba70",
   "metadata": {},
   "source": [
    "### NESTED IF STATEMENTS"
   ]
  },
  {
   "cell_type": "code",
   "execution_count": null,
   "id": "8c300734-7d83-4adf-bf13-aae3a23c6324",
   "metadata": {},
   "outputs": [],
   "source": []
  },
  {
   "cell_type": "markdown",
   "id": "611f3a3e-7322-486d-85cf-f13d98d0e60c",
   "metadata": {},
   "source": [
    "### MORE THAN PRINTING"
   ]
  },
  {
   "cell_type": "code",
   "execution_count": null,
   "id": "7ed4d40d-0014-4072-bea1-0327c9d3aff7",
   "metadata": {},
   "outputs": [],
   "source": []
  }
 ],
 "metadata": {
  "kernelspec": {
   "display_name": "Python 3 (ipykernel)",
   "language": "python",
   "name": "python3"
  },
  "language_info": {
   "codemirror_mode": {
    "name": "ipython",
    "version": 3
   },
   "file_extension": ".py",
   "mimetype": "text/x-python",
   "name": "python",
   "nbconvert_exporter": "python",
   "pygments_lexer": "ipython3",
   "version": "3.12.4"
  }
 },
 "nbformat": 4,
 "nbformat_minor": 5
}
